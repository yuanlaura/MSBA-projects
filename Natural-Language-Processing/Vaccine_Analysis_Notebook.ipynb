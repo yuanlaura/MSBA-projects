{
 "cells": [
  {
   "cell_type": "markdown",
   "metadata": {},
   "source": [
    "# COVID Vaccine Sentiment Analysis"
   ]
  },
  {
   "cell_type": "markdown",
   "metadata": {
    "id": "z7hBEyhPysmr"
   },
   "source": [
    "**Group 7** - Laura Yuan, Yining Ou, Yue Ma"
   ]
  },
  {
   "cell_type": "code",
   "execution_count": 1,
   "metadata": {},
   "outputs": [
    {
     "data": {
      "application/javascript": [
       "IPython.notebook.set_autosave_interval(60000)"
      ]
     },
     "metadata": {},
     "output_type": "display_data"
    },
    {
     "name": "stdout",
     "output_type": "stream",
     "text": [
      "Autosaving every 60 seconds\n"
     ]
    }
   ],
   "source": [
    "autosave 60"
   ]
  },
  {
   "cell_type": "code",
   "execution_count": 2,
   "metadata": {},
   "outputs": [],
   "source": [
    "# Print all the outputs in a cell\n",
    "from IPython.core.interactiveshell import InteractiveShell\n",
    "InteractiveShell.ast_node_interactivity = \"all\"\n",
    "import pandas as pd\n",
    "import numpy as np\n",
    "import csv"
   ]
  },
  {
   "cell_type": "markdown",
   "metadata": {},
   "source": [
    "### Datasets"
   ]
  },
  {
   "cell_type": "code",
   "execution_count": 3,
   "metadata": {},
   "outputs": [],
   "source": [
    "import pandas as pd\n",
    "import numpy as np"
   ]
  },
  {
   "cell_type": "code",
   "execution_count": 4,
   "metadata": {
    "scrolled": false
   },
   "outputs": [
    {
     "name": "stderr",
     "output_type": "stream",
     "text": [
      "/Users/laurayuan/opt/anaconda3/lib/python3.8/site-packages/IPython/core/interactiveshell.py:3146: DtypeWarning: Columns (5,6,7,12) have mixed types.Specify dtype option on import or set low_memory=False.\n",
      "  has_raised = await self.run_ast_nodes(code_ast.body, cell_name,\n"
     ]
    }
   ],
   "source": [
    "tweets = pd.read_csv('vaccine_tweets.csv')\n",
    "vacc_admin = pd.read_csv('vaccine_administration.csv')\n",
    "deaths = pd.read_csv('covid_deaths.csv')\n",
    "uscities = pd.read_csv('uscities.csv')"
   ]
  },
  {
   "cell_type": "code",
   "execution_count": 5,
   "metadata": {},
   "outputs": [
    {
     "name": "stdout",
     "output_type": "stream",
     "text": [
      "<class 'pandas.core.frame.DataFrame'>\n",
      "RangeIndex: 218894 entries, 0 to 218893\n",
      "Data columns (total 13 columns):\n",
      " #   Column            Non-Null Count   Dtype  \n",
      "---  ------            --------------   -----  \n",
      " 0   user_name         218887 non-null  object \n",
      " 1   user_location     171795 non-null  object \n",
      " 2   user_description  206847 non-null  object \n",
      " 3   user_created      218888 non-null  object \n",
      " 4   user_followers    218887 non-null  float64\n",
      " 5   user_friends      218887 non-null  object \n",
      " 6   user_favourites   218887 non-null  object \n",
      " 7   user_verified     218887 non-null  object \n",
      " 8   date              218885 non-null  object \n",
      " 9   text              218887 non-null  object \n",
      " 10  hashtags          157270 non-null  object \n",
      " 11  source            216489 non-null  object \n",
      " 12  is_retweet        218880 non-null  object \n",
      "dtypes: float64(1), object(12)\n",
      "memory usage: 21.7+ MB\n"
     ]
    }
   ],
   "source": [
    "tweets.info()"
   ]
  },
  {
   "cell_type": "code",
   "execution_count": 6,
   "metadata": {},
   "outputs": [
    {
     "name": "stdout",
     "output_type": "stream",
     "text": [
      "<class 'pandas.core.frame.DataFrame'>\n",
      "RangeIndex: 9534 entries, 0 to 9533\n",
      "Data columns (total 17 columns):\n",
      " #   Column                        Non-Null Count  Dtype \n",
      "---  ------                        --------------  ----- \n",
      " 0   county                        9534 non-null   object\n",
      " 1   administered_date             9534 non-null   object\n",
      " 2   total_doses                   9534 non-null   int64 \n",
      " 3   cumulative_total_doses        9534 non-null   int64 \n",
      " 4   pfizer_doses                  9534 non-null   int64 \n",
      " 5   cumulative_pfizer_doses       9534 non-null   int64 \n",
      " 6   moderna_doses                 9534 non-null   int64 \n",
      " 7   cumulative_moderna_doses      9534 non-null   int64 \n",
      " 8   jj_doses                      9534 non-null   int64 \n",
      " 9   cumulative_jj_doses           9534 non-null   int64 \n",
      " 10  partially_vaccinated          9534 non-null   int64 \n",
      " 11  total_partially_vaccinated    9534 non-null   int64 \n",
      " 12  fully_vaccinated              9534 non-null   int64 \n",
      " 13  cumulative_fully_vaccinated   9534 non-null   int64 \n",
      " 14  at_least_one_dose             9534 non-null   int64 \n",
      " 15  cumulative_at_least_one_dose  9534 non-null   int64 \n",
      " 16  california_flag               9216 non-null   object\n",
      "dtypes: int64(14), object(3)\n",
      "memory usage: 1.2+ MB\n"
     ]
    }
   ],
   "source": [
    "vacc_admin.info()"
   ]
  },
  {
   "cell_type": "code",
   "execution_count": 7,
   "metadata": {},
   "outputs": [
    {
     "name": "stdout",
     "output_type": "stream",
     "text": [
      "<class 'pandas.core.frame.DataFrame'>\n",
      "RangeIndex: 7605 entries, 0 to 7604\n",
      "Data columns (total 8 columns):\n",
      " #   Column                    Non-Null Count  Dtype  \n",
      "---  ------                    --------------  -----  \n",
      " 0   demographic_category      7605 non-null   object \n",
      " 1   demographic_value         7605 non-null   object \n",
      " 2   total_cases               7605 non-null   int64  \n",
      " 3   percent_cases             7605 non-null   float64\n",
      " 4   deaths                    7605 non-null   int64  \n",
      " 5   percent_deaths            7605 non-null   float64\n",
      " 6   percent_of_ca_population  7585 non-null   float64\n",
      " 7   report_date               7605 non-null   object \n",
      "dtypes: float64(3), int64(2), object(3)\n",
      "memory usage: 475.4+ KB\n"
     ]
    }
   ],
   "source": [
    "deaths.info()"
   ]
  },
  {
   "cell_type": "markdown",
   "metadata": {},
   "source": [
    "### Data Cleaning"
   ]
  },
  {
   "cell_type": "markdown",
   "metadata": {},
   "source": [
    "* Tweets dataset:"
   ]
  },
  {
   "cell_type": "code",
   "execution_count": 8,
   "metadata": {},
   "outputs": [],
   "source": [
    "# Getting the columns we would like to analyze\n",
    "tweets = tweets[[\"user_name\",\"user_location\",\"date\",\"text\"]]"
   ]
  },
  {
   "cell_type": "code",
   "execution_count": 9,
   "metadata": {},
   "outputs": [],
   "source": [
    "# Dropping N/A\n",
    "tweets = tweets.dropna()"
   ]
  },
  {
   "cell_type": "code",
   "execution_count": 10,
   "metadata": {},
   "outputs": [
    {
     "data": {
      "text/plain": [
       "27431     ['southafricancoronavirus', 'CovidVaccine', 'l...\n",
       "110776    ['SickleCell', 'thalassaemia', 'COVID19', 'Cov...\n",
       "193231                                     ['CovidVaccine']\n",
       "64306                                      ['CovidVaccine']\n",
       "4127                                       31-08-2020 23:43\n",
       "Name: date, dtype: object"
      ]
     },
     "execution_count": 10,
     "metadata": {},
     "output_type": "execute_result"
    }
   ],
   "source": [
    "# Incorrect date formats\n",
    "tweets.date.sort_values(ascending = False).head(5)\n",
    "\n",
    "# Delete rows with incorrect formats\n",
    "tweets = tweets.drop([27431, 27431, 193231, 64306, 110776])"
   ]
  },
  {
   "cell_type": "code",
   "execution_count": 11,
   "metadata": {},
   "outputs": [],
   "source": [
    "# Splitting date to separate date and time\n",
    "tweets[['date','time']] = tweets['date'].str.split(expand=True,)\n",
    "tweets = tweets.drop(columns = 'time')\n",
    "\n",
    "# Formatting date\n",
    "tweets['date'] = pd.to_datetime(tweets['date'], infer_datetime_format= True, errors='ignore')\n",
    "\n",
    "# Reset index\n",
    "tweets = tweets.reset_index(drop = True)"
   ]
  },
  {
   "cell_type": "markdown",
   "metadata": {},
   "source": [
    "Using FlashGeoText"
   ]
  },
  {
   "cell_type": "code",
   "execution_count": 12,
   "metadata": {},
   "outputs": [],
   "source": [
    "# Cleaning user_location data\n",
    "import re\n",
    "\n",
    "def fix_irregulars(locations):\n",
    "    if 'nyc'in locations:\n",
    "        return 'New York, NY, United States'\n",
    "    elif 'NYC' in locations:\n",
    "        return 'New York, NY, United States'\n",
    "    elif 'ew York'in locations:\n",
    "        return 'New York, NY, United States'\n",
    "    elif 'ondon'in locations:\n",
    "        return 'London, United Kingdom'\n",
    "    elif 'ntario' in locations:\n",
    "        return 'Toronto, Canada'\n",
    "    elif 'oronto' in locations:\n",
    "        return 'Toronto, Canada'\n",
    "    elif 'Delhi' in locations:\n",
    "        return 'New Delhi, India'\n",
    "    elif 'England' in locations:\n",
    "        return 'England, United Kingdom'\n",
    "    elif 'California' in locations:\n",
    "        return 'CA, United States'\n",
    "    elif 'Mumbai' in locations:\n",
    "        return 'Mumbai, India'\n",
    "    elif 'Los Angeles' in locations:\n",
    "        return 'Los Angeles, CA, United States'\n",
    "    elif 'Scotland' in locations:\n",
    "        return 'Scotland, United Kingdom'\n",
    "    elif 'Melbourne' in locations:\n",
    "        return 'Melbourne, Australia'\n",
    "    elif 'D.C.' in locations:\n",
    "        return 'Washington, DC, United States'\n",
    "    elif 'DC' in locations:\n",
    "        return 'Washington, DC, United States'\n",
    "    elif 'Texas' in locations:\n",
    "        return 'TX, United States'\n",
    "    elif 'Bangalore' in locations:\n",
    "        return 'Bangalore, India'\n",
    "    elif 'Chicago' in locations:\n",
    "        return 'Chicago, IL, United States'\n",
    "    elif 'Chennai' in locations:\n",
    "        return 'Chennai, India'\n",
    "    elif 'San Francisco' in locations:\n",
    "        return 'San Francisco, CA, United States'\n",
    "    elif 'Hyderabad' in locations:\n",
    "        return 'Hyderabad, India'\n",
    "    elif 'Jersey' in locations:\n",
    "        return 'NJ, United States'\n",
    "    elif 'Boston' in locations:\n",
    "        return 'Boston, MA, United States'\n",
    "    elif 'Orlando' in locations:\n",
    "        return 'Orlando, FL, United States'\n",
    "    elif 'Florida' in locations:\n",
    "        return 'FL, United States'\n",
    "    elif 'Nottingham' in locations:\n",
    "        return 'Nottingham, England, United Kingdom'\n",
    "    elif 'Arizona' in locations:\n",
    "        return 'AZ, United States'\n",
    "    elif 'San Diego' in locations:\n",
    "        return 'San Diego, CA, United States'\n",
    "    elif 'Colorado' in locations:\n",
    "        return 'CO, United States'\n",
    "    elif 'Ohio' in locations:\n",
    "        return 'OH, United States'\n",
    "    elif 'Michigan' in locations:\n",
    "        return 'MI, United States'\n",
    "    elif 'Atlanta' in locations:\n",
    "        return 'Atlanta, GA, United States'\n",
    "    elif 'Sydney' in locations:\n",
    "        return 'Sydney, Australia'\n",
    "    elif 'Manchester' in locations:\n",
    "        return 'Manchester, England, United Kingdom'\n",
    "    elif 'Pennsylvania' in locations:\n",
    "        return 'PA, United States'\n",
    "    elif 'Johannesburg' in locations:\n",
    "        return 'Johannesburg, South Africa'\n",
    "    elif 'Philadelphia' in locations:\n",
    "        return 'Philadelphia, PA, United States'\n",
    "    elif 'Calgary' in locations:\n",
    "        return 'Calgary, Canada'\n",
    "    elif 'Dublin' in locations:\n",
    "        return 'Dublin, Ireland'\n",
    "    elif 'INDIA' in locations:\n",
    "        return locations.replace('INDIA','India')\n",
    "    elif 'Nashville' in locations:\n",
    "        return 'Nashville, TN, United States'\n",
    "    elif 'Punjab' in locations:\n",
    "        return 'Punjab, India'\n",
    "    elif 'Oregon' in locations:\n",
    "        return 'OR, United States'\n",
    "    elif 'Seattle' in locations:\n",
    "        return 'Seattle, WA, United States'\n",
    "    elif 'USA' in locations:\n",
    "        return locations.replace('USA','United States')\n",
    "    elif 'Maryland' in locations:\n",
    "        return 'MD, United States'\n",
    "    elif re.search(r'(,+\\s+[A-Z]{2})', locations):\n",
    "        return locations + ', United States'\n",
    "    else:\n",
    "        return locations\n",
    "\n",
    "tweets['user_location'] = tweets.user_location.apply(lambda x: fix_irregulars(x))"
   ]
  },
  {
   "cell_type": "code",
   "execution_count": 13,
   "metadata": {},
   "outputs": [],
   "source": [
    "# Function to get state from city\n",
    "def get_state(user_loc):\n",
    "    state = re.findall(r'(\\s+[A-Z]{2})', user_loc)\n",
    "    if len(state) >=1:\n",
    "        return state[0].strip()\n",
    "    else:\n",
    "        return np.nan\n",
    "    \n",
    "states = tweets.user_location.apply(lambda x: get_state(x))\n",
    "tweets['state'] = states"
   ]
  },
  {
   "cell_type": "code",
   "execution_count": 14,
   "metadata": {},
   "outputs": [],
   "source": [
    "# Extracting/cleaning location from user_location\n",
    "#!pip install flashgeotext\n",
    "#!pip install geotext\n",
    "from flashgeotext.geotext import GeoText\n",
    "geotext = GeoText()\n",
    "\n",
    "# Getting entities of each tweet\n",
    "def get_location(column):\n",
    "    location = geotext.extract(input_text=column, span_info=False)\n",
    "    return location\n",
    "\n",
    "# Applying Get_Location\n",
    "tweets['location'] = tweets['user_location'].apply(lambda x: get_location(x))"
   ]
  },
  {
   "cell_type": "code",
   "execution_count": 15,
   "metadata": {},
   "outputs": [],
   "source": [
    "# Creating function to return city, state and country\n",
    "def get_city(loc_type):\n",
    "    cities = loc_type['cities'].keys()\n",
    "    for city in cities:\n",
    "        return city\n",
    "\n",
    "def get_country(loc_type):\n",
    "    countries = loc_type['countries'].keys()\n",
    "    for country in countries:\n",
    "        return country\n",
    "\n",
    "# Creating city and country columns\n",
    "cities = tweets.location.apply(lambda x: get_city(x))\n",
    "countries = tweets.location.apply(lambda x: get_country(x))\n",
    "\n",
    "# Adding to tweets dataframe\n",
    "tweets['city'] = cities\n",
    "tweets['country'] = countries"
   ]
  },
  {
   "cell_type": "code",
   "execution_count": 16,
   "metadata": {},
   "outputs": [],
   "source": [
    "# Removing 'Inđija' due to geotext error\n",
    "tweets['city'] = tweets['city'].replace(['Inđija'], np.nan)\n",
    "\n",
    "# Changing SF El Alto to just San Francisco\n",
    "tweets['city'] = tweets['city'].replace(['San Francisco El Alto'], 'San Francisco')"
   ]
  },
  {
   "cell_type": "code",
   "execution_count": 17,
   "metadata": {
    "scrolled": true
   },
   "outputs": [
    {
     "data": {
      "text/html": [
       "<div>\n",
       "<style scoped>\n",
       "    .dataframe tbody tr th:only-of-type {\n",
       "        vertical-align: middle;\n",
       "    }\n",
       "\n",
       "    .dataframe tbody tr th {\n",
       "        vertical-align: top;\n",
       "    }\n",
       "\n",
       "    .dataframe thead th {\n",
       "        text-align: right;\n",
       "    }\n",
       "</style>\n",
       "<table border=\"1\" class=\"dataframe\">\n",
       "  <thead>\n",
       "    <tr style=\"text-align: right;\">\n",
       "      <th></th>\n",
       "      <th>user_location</th>\n",
       "      <th>location</th>\n",
       "      <th>city</th>\n",
       "      <th>state</th>\n",
       "      <th>country</th>\n",
       "    </tr>\n",
       "  </thead>\n",
       "  <tbody>\n",
       "    <tr>\n",
       "      <th>0</th>\n",
       "      <td>Assam</td>\n",
       "      <td>{'cities': {}, 'countries': {}}</td>\n",
       "      <td>None</td>\n",
       "      <td>NaN</td>\n",
       "      <td>None</td>\n",
       "    </tr>\n",
       "    <tr>\n",
       "      <th>1</th>\n",
       "      <td>Adelaide, South Australia</td>\n",
       "      <td>{'cities': {'Adelaide': {'count': 1}}, 'countr...</td>\n",
       "      <td>Adelaide</td>\n",
       "      <td>NaN</td>\n",
       "      <td>Australia</td>\n",
       "    </tr>\n",
       "    <tr>\n",
       "      <th>2</th>\n",
       "      <td>Hyderabad, India</td>\n",
       "      <td>{'cities': {'Hyderabad': {'count': 1}, 'Inđija...</td>\n",
       "      <td>Hyderabad</td>\n",
       "      <td>NaN</td>\n",
       "      <td>India</td>\n",
       "    </tr>\n",
       "    <tr>\n",
       "      <th>3</th>\n",
       "      <td>The Great Pacific Northwest</td>\n",
       "      <td>{'cities': {}, 'countries': {}}</td>\n",
       "      <td>None</td>\n",
       "      <td>NaN</td>\n",
       "      <td>None</td>\n",
       "    </tr>\n",
       "    <tr>\n",
       "      <th>4</th>\n",
       "      <td>Washington, DC, United States</td>\n",
       "      <td>{'cities': {'Washington, D.C.': {'count': 1}},...</td>\n",
       "      <td>Washington, D.C.</td>\n",
       "      <td>DC</td>\n",
       "      <td>United States</td>\n",
       "    </tr>\n",
       "    <tr>\n",
       "      <th>5</th>\n",
       "      <td>Nashville, TN, United States</td>\n",
       "      <td>{'cities': {'Nashville': {'count': 1}}, 'count...</td>\n",
       "      <td>Nashville</td>\n",
       "      <td>TN</td>\n",
       "      <td>United States</td>\n",
       "    </tr>\n",
       "  </tbody>\n",
       "</table>\n",
       "</div>"
      ],
      "text/plain": [
       "                   user_location  \\\n",
       "0                          Assam   \n",
       "1      Adelaide, South Australia   \n",
       "2               Hyderabad, India   \n",
       "3    The Great Pacific Northwest   \n",
       "4  Washington, DC, United States   \n",
       "5   Nashville, TN, United States   \n",
       "\n",
       "                                            location              city state  \\\n",
       "0                    {'cities': {}, 'countries': {}}              None   NaN   \n",
       "1  {'cities': {'Adelaide': {'count': 1}}, 'countr...          Adelaide   NaN   \n",
       "2  {'cities': {'Hyderabad': {'count': 1}, 'Inđija...         Hyderabad   NaN   \n",
       "3                    {'cities': {}, 'countries': {}}              None   NaN   \n",
       "4  {'cities': {'Washington, D.C.': {'count': 1}},...  Washington, D.C.    DC   \n",
       "5  {'cities': {'Nashville': {'count': 1}}, 'count...         Nashville    TN   \n",
       "\n",
       "         country  \n",
       "0           None  \n",
       "1      Australia  \n",
       "2          India  \n",
       "3           None  \n",
       "4  United States  \n",
       "5  United States  "
      ]
     },
     "execution_count": 17,
     "metadata": {},
     "output_type": "execute_result"
    }
   ],
   "source": [
    "tweets[['user_location','location','city','state','country']].head(6)"
   ]
  },
  {
   "cell_type": "code",
   "execution_count": 18,
   "metadata": {},
   "outputs": [
    {
     "data": {
      "text/html": [
       "<div>\n",
       "<style scoped>\n",
       "    .dataframe tbody tr th:only-of-type {\n",
       "        vertical-align: middle;\n",
       "    }\n",
       "\n",
       "    .dataframe tbody tr th {\n",
       "        vertical-align: top;\n",
       "    }\n",
       "\n",
       "    .dataframe thead th {\n",
       "        text-align: right;\n",
       "    }\n",
       "</style>\n",
       "<table border=\"1\" class=\"dataframe\">\n",
       "  <thead>\n",
       "    <tr style=\"text-align: right;\">\n",
       "      <th></th>\n",
       "      <th>user_name</th>\n",
       "      <th>date</th>\n",
       "      <th>text</th>\n",
       "      <th>city</th>\n",
       "      <th>state</th>\n",
       "      <th>country</th>\n",
       "    </tr>\n",
       "  </thead>\n",
       "  <tbody>\n",
       "    <tr>\n",
       "      <th>0</th>\n",
       "      <td>MyNewsNE</td>\n",
       "      <td>2020-08-18</td>\n",
       "      <td>Australia to Manufacture Covid-19 Vaccine and ...</td>\n",
       "      <td>None</td>\n",
       "      <td>NaN</td>\n",
       "      <td>None</td>\n",
       "    </tr>\n",
       "    <tr>\n",
       "      <th>1</th>\n",
       "      <td>Ann-Maree O’Connor</td>\n",
       "      <td>2020-08-18</td>\n",
       "      <td>@michellegrattan @ConversationEDU This is what...</td>\n",
       "      <td>Adelaide</td>\n",
       "      <td>NaN</td>\n",
       "      <td>Australia</td>\n",
       "    </tr>\n",
       "    <tr>\n",
       "      <th>2</th>\n",
       "      <td>Rajesh Tadepalli</td>\n",
       "      <td>2020-08-18</td>\n",
       "      <td>@PrivilRodrigues @yatish57 @deepkaranahuja @sh...</td>\n",
       "      <td>Hyderabad</td>\n",
       "      <td>NaN</td>\n",
       "      <td>India</td>\n",
       "    </tr>\n",
       "    <tr>\n",
       "      <th>3</th>\n",
       "      <td>AKisASocialisolationist wash yer damn hands</td>\n",
       "      <td>2020-08-18</td>\n",
       "      <td>@MSNBC Well, let’s qualify that: would anyone ...</td>\n",
       "      <td>None</td>\n",
       "      <td>NaN</td>\n",
       "      <td>None</td>\n",
       "    </tr>\n",
       "    <tr>\n",
       "      <th>4</th>\n",
       "      <td>Dr. Joseph Santoro</td>\n",
       "      <td>2020-08-18</td>\n",
       "      <td>Most countries, without the ability to make #V...</td>\n",
       "      <td>Washington, D.C.</td>\n",
       "      <td>DC</td>\n",
       "      <td>United States</td>\n",
       "    </tr>\n",
       "  </tbody>\n",
       "</table>\n",
       "</div>"
      ],
      "text/plain": [
       "                                     user_name       date  \\\n",
       "0                                     MyNewsNE 2020-08-18   \n",
       "1                           Ann-Maree O’Connor 2020-08-18   \n",
       "2                             Rajesh Tadepalli 2020-08-18   \n",
       "3  AKisASocialisolationist wash yer damn hands 2020-08-18   \n",
       "4                           Dr. Joseph Santoro 2020-08-18   \n",
       "\n",
       "                                                text              city state  \\\n",
       "0  Australia to Manufacture Covid-19 Vaccine and ...              None   NaN   \n",
       "1  @michellegrattan @ConversationEDU This is what...          Adelaide   NaN   \n",
       "2  @PrivilRodrigues @yatish57 @deepkaranahuja @sh...         Hyderabad   NaN   \n",
       "3  @MSNBC Well, let’s qualify that: would anyone ...              None   NaN   \n",
       "4  Most countries, without the ability to make #V...  Washington, D.C.    DC   \n",
       "\n",
       "         country  \n",
       "0           None  \n",
       "1      Australia  \n",
       "2          India  \n",
       "3           None  \n",
       "4  United States  "
      ]
     },
     "execution_count": 18,
     "metadata": {},
     "output_type": "execute_result"
    }
   ],
   "source": [
    "# Dropping unwanted columns\n",
    "tweets = tweets.drop(columns = ['user_location','location'])\n",
    "tweets = tweets[['user_name','date','text','city','state','country']]\n",
    "\n",
    "tweets.head()"
   ]
  },
  {
   "cell_type": "markdown",
   "metadata": {},
   "source": [
    "* Deaths dataset:"
   ]
  },
  {
   "cell_type": "code",
   "execution_count": 19,
   "metadata": {},
   "outputs": [],
   "source": [
    "# Removing unknown demographics\n",
    "deaths = deaths[deaths['demographic_value'] != 'Missing']\n",
    "deaths = deaths[deaths['demographic_value'] != 'missing']\n",
    "deaths = deaths[deaths['demographic_value'] != 'Total']\n",
    "\n",
    "# Formatting date\n",
    "deaths['report_date'] = pd.to_datetime(deaths['report_date'], infer_datetime_format= True, errors='ignore')"
   ]
  },
  {
   "cell_type": "markdown",
   "metadata": {},
   "source": [
    "* CA Cities/Counties dataset:"
   ]
  },
  {
   "cell_type": "code",
   "execution_count": 20,
   "metadata": {},
   "outputs": [
    {
     "data": {
      "text/html": [
       "<div>\n",
       "<style scoped>\n",
       "    .dataframe tbody tr th:only-of-type {\n",
       "        vertical-align: middle;\n",
       "    }\n",
       "\n",
       "    .dataframe tbody tr th {\n",
       "        vertical-align: top;\n",
       "    }\n",
       "\n",
       "    .dataframe thead th {\n",
       "        text-align: right;\n",
       "    }\n",
       "</style>\n",
       "<table border=\"1\" class=\"dataframe\">\n",
       "  <thead>\n",
       "    <tr style=\"text-align: right;\">\n",
       "      <th></th>\n",
       "      <th>city</th>\n",
       "      <th>state_id</th>\n",
       "      <th>county_name</th>\n",
       "    </tr>\n",
       "  </thead>\n",
       "  <tbody>\n",
       "    <tr>\n",
       "      <th>1</th>\n",
       "      <td>Los Angeles</td>\n",
       "      <td>CA</td>\n",
       "      <td>Los Angeles</td>\n",
       "    </tr>\n",
       "    <tr>\n",
       "      <th>12</th>\n",
       "      <td>San Francisco</td>\n",
       "      <td>CA</td>\n",
       "      <td>San Francisco</td>\n",
       "    </tr>\n",
       "    <tr>\n",
       "      <th>14</th>\n",
       "      <td>San Diego</td>\n",
       "      <td>CA</td>\n",
       "      <td>San Diego</td>\n",
       "    </tr>\n",
       "    <tr>\n",
       "      <th>20</th>\n",
       "      <td>Riverside</td>\n",
       "      <td>CA</td>\n",
       "      <td>Riverside</td>\n",
       "    </tr>\n",
       "    <tr>\n",
       "      <th>26</th>\n",
       "      <td>Sacramento</td>\n",
       "      <td>CA</td>\n",
       "      <td>Sacramento</td>\n",
       "    </tr>\n",
       "  </tbody>\n",
       "</table>\n",
       "</div>"
      ],
      "text/plain": [
       "             city state_id    county_name\n",
       "1     Los Angeles       CA    Los Angeles\n",
       "12  San Francisco       CA  San Francisco\n",
       "14      San Diego       CA      San Diego\n",
       "20      Riverside       CA      Riverside\n",
       "26     Sacramento       CA     Sacramento"
      ]
     },
     "execution_count": 20,
     "metadata": {},
     "output_type": "execute_result"
    }
   ],
   "source": [
    "cacities = uscities[['city','state_id','county_name']]\n",
    "cacities = cacities[cacities['state_id'] == 'CA']\n",
    "cacities.head()"
   ]
  },
  {
   "cell_type": "markdown",
   "metadata": {},
   "source": [
    "* Vaccine Administration:"
   ]
  },
  {
   "cell_type": "code",
   "execution_count": 21,
   "metadata": {},
   "outputs": [],
   "source": [
    "# Formatting date\n",
    "vacc_admin['administered_date'] = pd.to_datetime(vacc_admin['administered_date'], infer_datetime_format= True, errors='ignore')"
   ]
  },
  {
   "cell_type": "markdown",
   "metadata": {},
   "source": [
    "#### Extracting California Users"
   ]
  },
  {
   "cell_type": "code",
   "execution_count": 22,
   "metadata": {},
   "outputs": [
    {
     "data": {
      "text/html": [
       "<div>\n",
       "<style scoped>\n",
       "    .dataframe tbody tr th:only-of-type {\n",
       "        vertical-align: middle;\n",
       "    }\n",
       "\n",
       "    .dataframe tbody tr th {\n",
       "        vertical-align: top;\n",
       "    }\n",
       "\n",
       "    .dataframe thead th {\n",
       "        text-align: right;\n",
       "    }\n",
       "</style>\n",
       "<table border=\"1\" class=\"dataframe\">\n",
       "  <thead>\n",
       "    <tr style=\"text-align: right;\">\n",
       "      <th></th>\n",
       "      <th>user_name</th>\n",
       "      <th>date</th>\n",
       "      <th>text</th>\n",
       "      <th>city</th>\n",
       "      <th>state</th>\n",
       "      <th>country</th>\n",
       "    </tr>\n",
       "  </thead>\n",
       "  <tbody>\n",
       "    <tr>\n",
       "      <th>42</th>\n",
       "      <td>City Visions Radio</td>\n",
       "      <td>2020-08-18</td>\n",
       "      <td>Now at https://t.co/86d419hWQF Peter Chin-Hong...</td>\n",
       "      <td>San Francisco</td>\n",
       "      <td>CA</td>\n",
       "      <td>United States</td>\n",
       "    </tr>\n",
       "    <tr>\n",
       "      <th>43</th>\n",
       "      <td>Dov Samuel</td>\n",
       "      <td>2020-08-17</td>\n",
       "      <td>Pfizer is looking to sign up people for a covi...</td>\n",
       "      <td>Los Angeles</td>\n",
       "      <td>CA</td>\n",
       "      <td>United States</td>\n",
       "    </tr>\n",
       "    <tr>\n",
       "      <th>44</th>\n",
       "      <td>Immigration &amp; Citizenship Program</td>\n",
       "      <td>2020-08-17</td>\n",
       "      <td>#immigration #COVID19 #CovidVaccine #2020Censu...</td>\n",
       "      <td>San Jose</td>\n",
       "      <td>CA</td>\n",
       "      <td>United States</td>\n",
       "    </tr>\n",
       "    <tr>\n",
       "      <th>65</th>\n",
       "      <td>RomeshNadir🇮🇳</td>\n",
       "      <td>2020-08-17</td>\n",
       "      <td>India silently on the job of giving the world ...</td>\n",
       "      <td>San Francisco</td>\n",
       "      <td>CA</td>\n",
       "      <td>United States</td>\n",
       "    </tr>\n",
       "    <tr>\n",
       "      <th>90</th>\n",
       "      <td>PlushCare</td>\n",
       "      <td>2020-08-17</td>\n",
       "      <td>There's constant buzz about developments with ...</td>\n",
       "      <td>San Francisco</td>\n",
       "      <td>CA</td>\n",
       "      <td>United States</td>\n",
       "    </tr>\n",
       "  </tbody>\n",
       "</table>\n",
       "</div>"
      ],
      "text/plain": [
       "                            user_name       date  \\\n",
       "42                 City Visions Radio 2020-08-18   \n",
       "43                         Dov Samuel 2020-08-17   \n",
       "44  Immigration & Citizenship Program 2020-08-17   \n",
       "65                      RomeshNadir🇮🇳 2020-08-17   \n",
       "90                          PlushCare 2020-08-17   \n",
       "\n",
       "                                                 text           city state  \\\n",
       "42  Now at https://t.co/86d419hWQF Peter Chin-Hong...  San Francisco    CA   \n",
       "43  Pfizer is looking to sign up people for a covi...    Los Angeles    CA   \n",
       "44  #immigration #COVID19 #CovidVaccine #2020Censu...       San Jose    CA   \n",
       "65  India silently on the job of giving the world ...  San Francisco    CA   \n",
       "90  There's constant buzz about developments with ...  San Francisco    CA   \n",
       "\n",
       "          country  \n",
       "42  United States  \n",
       "43  United States  \n",
       "44  United States  \n",
       "65  United States  \n",
       "90  United States  "
      ]
     },
     "execution_count": 22,
     "metadata": {},
     "output_type": "execute_result"
    }
   ],
   "source": [
    "cali_tweets = tweets[tweets['state'] == 'CA']\n",
    "cali_tweets.head()"
   ]
  },
  {
   "cell_type": "code",
   "execution_count": 23,
   "metadata": {},
   "outputs": [
    {
     "name": "stdout",
     "output_type": "stream",
     "text": [
      "<class 'pandas.core.frame.DataFrame'>\n",
      "Int64Index: 5669 entries, 42 to 171723\n",
      "Data columns (total 6 columns):\n",
      " #   Column     Non-Null Count  Dtype         \n",
      "---  ------     --------------  -----         \n",
      " 0   user_name  5669 non-null   object        \n",
      " 1   date       5669 non-null   datetime64[ns]\n",
      " 2   text       5669 non-null   object        \n",
      " 3   city       5434 non-null   object        \n",
      " 4   state      5669 non-null   object        \n",
      " 5   country    5589 non-null   object        \n",
      "dtypes: datetime64[ns](1), object(5)\n",
      "memory usage: 310.0+ KB\n"
     ]
    }
   ],
   "source": [
    "cali_tweets.info()"
   ]
  },
  {
   "cell_type": "markdown",
   "metadata": {},
   "source": [
    "* Vaccine Administration:"
   ]
  },
  {
   "cell_type": "code",
   "execution_count": 24,
   "metadata": {},
   "outputs": [],
   "source": [
    "# Formatting date\n",
    "vacc_admin['administered_date'] = pd.to_datetime(vacc_admin['administered_date'], infer_datetime_format= True, errors='ignore')"
   ]
  },
  {
   "cell_type": "markdown",
   "metadata": {},
   "source": [
    "### Final Datasets"
   ]
  },
  {
   "cell_type": "code",
   "execution_count": 25,
   "metadata": {},
   "outputs": [
    {
     "data": {
      "text/html": [
       "<div>\n",
       "<style scoped>\n",
       "    .dataframe tbody tr th:only-of-type {\n",
       "        vertical-align: middle;\n",
       "    }\n",
       "\n",
       "    .dataframe tbody tr th {\n",
       "        vertical-align: top;\n",
       "    }\n",
       "\n",
       "    .dataframe thead th {\n",
       "        text-align: right;\n",
       "    }\n",
       "</style>\n",
       "<table border=\"1\" class=\"dataframe\">\n",
       "  <thead>\n",
       "    <tr style=\"text-align: right;\">\n",
       "      <th></th>\n",
       "      <th>user_name</th>\n",
       "      <th>date</th>\n",
       "      <th>text</th>\n",
       "      <th>city</th>\n",
       "      <th>state</th>\n",
       "      <th>country</th>\n",
       "    </tr>\n",
       "  </thead>\n",
       "  <tbody>\n",
       "    <tr>\n",
       "      <th>42</th>\n",
       "      <td>City Visions Radio</td>\n",
       "      <td>2020-08-18</td>\n",
       "      <td>Now at https://t.co/86d419hWQF Peter Chin-Hong...</td>\n",
       "      <td>San Francisco</td>\n",
       "      <td>CA</td>\n",
       "      <td>United States</td>\n",
       "    </tr>\n",
       "    <tr>\n",
       "      <th>43</th>\n",
       "      <td>Dov Samuel</td>\n",
       "      <td>2020-08-17</td>\n",
       "      <td>Pfizer is looking to sign up people for a covi...</td>\n",
       "      <td>Los Angeles</td>\n",
       "      <td>CA</td>\n",
       "      <td>United States</td>\n",
       "    </tr>\n",
       "    <tr>\n",
       "      <th>44</th>\n",
       "      <td>Immigration &amp; Citizenship Program</td>\n",
       "      <td>2020-08-17</td>\n",
       "      <td>#immigration #COVID19 #CovidVaccine #2020Censu...</td>\n",
       "      <td>San Jose</td>\n",
       "      <td>CA</td>\n",
       "      <td>United States</td>\n",
       "    </tr>\n",
       "    <tr>\n",
       "      <th>65</th>\n",
       "      <td>RomeshNadir🇮🇳</td>\n",
       "      <td>2020-08-17</td>\n",
       "      <td>India silently on the job of giving the world ...</td>\n",
       "      <td>San Francisco</td>\n",
       "      <td>CA</td>\n",
       "      <td>United States</td>\n",
       "    </tr>\n",
       "    <tr>\n",
       "      <th>90</th>\n",
       "      <td>PlushCare</td>\n",
       "      <td>2020-08-17</td>\n",
       "      <td>There's constant buzz about developments with ...</td>\n",
       "      <td>San Francisco</td>\n",
       "      <td>CA</td>\n",
       "      <td>United States</td>\n",
       "    </tr>\n",
       "  </tbody>\n",
       "</table>\n",
       "</div>"
      ],
      "text/plain": [
       "                            user_name       date  \\\n",
       "42                 City Visions Radio 2020-08-18   \n",
       "43                         Dov Samuel 2020-08-17   \n",
       "44  Immigration & Citizenship Program 2020-08-17   \n",
       "65                      RomeshNadir🇮🇳 2020-08-17   \n",
       "90                          PlushCare 2020-08-17   \n",
       "\n",
       "                                                 text           city state  \\\n",
       "42  Now at https://t.co/86d419hWQF Peter Chin-Hong...  San Francisco    CA   \n",
       "43  Pfizer is looking to sign up people for a covi...    Los Angeles    CA   \n",
       "44  #immigration #COVID19 #CovidVaccine #2020Censu...       San Jose    CA   \n",
       "65  India silently on the job of giving the world ...  San Francisco    CA   \n",
       "90  There's constant buzz about developments with ...  San Francisco    CA   \n",
       "\n",
       "          country  \n",
       "42  United States  \n",
       "43  United States  \n",
       "44  United States  \n",
       "65  United States  \n",
       "90  United States  "
      ]
     },
     "execution_count": 25,
     "metadata": {},
     "output_type": "execute_result"
    }
   ],
   "source": [
    "cali_tweets.head()"
   ]
  },
  {
   "cell_type": "code",
   "execution_count": 26,
   "metadata": {},
   "outputs": [
    {
     "data": {
      "text/html": [
       "<div>\n",
       "<style scoped>\n",
       "    .dataframe tbody tr th:only-of-type {\n",
       "        vertical-align: middle;\n",
       "    }\n",
       "\n",
       "    .dataframe tbody tr th {\n",
       "        vertical-align: top;\n",
       "    }\n",
       "\n",
       "    .dataframe thead th {\n",
       "        text-align: right;\n",
       "    }\n",
       "</style>\n",
       "<table border=\"1\" class=\"dataframe\">\n",
       "  <thead>\n",
       "    <tr style=\"text-align: right;\">\n",
       "      <th></th>\n",
       "      <th>user_name</th>\n",
       "      <th>date</th>\n",
       "      <th>text</th>\n",
       "      <th>city</th>\n",
       "      <th>state</th>\n",
       "      <th>country</th>\n",
       "    </tr>\n",
       "  </thead>\n",
       "  <tbody>\n",
       "    <tr>\n",
       "      <th>0</th>\n",
       "      <td>MyNewsNE</td>\n",
       "      <td>2020-08-18</td>\n",
       "      <td>Australia to Manufacture Covid-19 Vaccine and ...</td>\n",
       "      <td>None</td>\n",
       "      <td>NaN</td>\n",
       "      <td>None</td>\n",
       "    </tr>\n",
       "    <tr>\n",
       "      <th>1</th>\n",
       "      <td>Ann-Maree O’Connor</td>\n",
       "      <td>2020-08-18</td>\n",
       "      <td>@michellegrattan @ConversationEDU This is what...</td>\n",
       "      <td>Adelaide</td>\n",
       "      <td>NaN</td>\n",
       "      <td>Australia</td>\n",
       "    </tr>\n",
       "    <tr>\n",
       "      <th>2</th>\n",
       "      <td>Rajesh Tadepalli</td>\n",
       "      <td>2020-08-18</td>\n",
       "      <td>@PrivilRodrigues @yatish57 @deepkaranahuja @sh...</td>\n",
       "      <td>Hyderabad</td>\n",
       "      <td>NaN</td>\n",
       "      <td>India</td>\n",
       "    </tr>\n",
       "    <tr>\n",
       "      <th>3</th>\n",
       "      <td>AKisASocialisolationist wash yer damn hands</td>\n",
       "      <td>2020-08-18</td>\n",
       "      <td>@MSNBC Well, let’s qualify that: would anyone ...</td>\n",
       "      <td>None</td>\n",
       "      <td>NaN</td>\n",
       "      <td>None</td>\n",
       "    </tr>\n",
       "    <tr>\n",
       "      <th>4</th>\n",
       "      <td>Dr. Joseph Santoro</td>\n",
       "      <td>2020-08-18</td>\n",
       "      <td>Most countries, without the ability to make #V...</td>\n",
       "      <td>Washington, D.C.</td>\n",
       "      <td>DC</td>\n",
       "      <td>United States</td>\n",
       "    </tr>\n",
       "  </tbody>\n",
       "</table>\n",
       "</div>"
      ],
      "text/plain": [
       "                                     user_name       date  \\\n",
       "0                                     MyNewsNE 2020-08-18   \n",
       "1                           Ann-Maree O’Connor 2020-08-18   \n",
       "2                             Rajesh Tadepalli 2020-08-18   \n",
       "3  AKisASocialisolationist wash yer damn hands 2020-08-18   \n",
       "4                           Dr. Joseph Santoro 2020-08-18   \n",
       "\n",
       "                                                text              city state  \\\n",
       "0  Australia to Manufacture Covid-19 Vaccine and ...              None   NaN   \n",
       "1  @michellegrattan @ConversationEDU This is what...          Adelaide   NaN   \n",
       "2  @PrivilRodrigues @yatish57 @deepkaranahuja @sh...         Hyderabad   NaN   \n",
       "3  @MSNBC Well, let’s qualify that: would anyone ...              None   NaN   \n",
       "4  Most countries, without the ability to make #V...  Washington, D.C.    DC   \n",
       "\n",
       "         country  \n",
       "0           None  \n",
       "1      Australia  \n",
       "2          India  \n",
       "3           None  \n",
       "4  United States  "
      ]
     },
     "execution_count": 26,
     "metadata": {},
     "output_type": "execute_result"
    }
   ],
   "source": [
    "tweets.head()"
   ]
  },
  {
   "cell_type": "code",
   "execution_count": 27,
   "metadata": {},
   "outputs": [
    {
     "data": {
      "text/html": [
       "<div>\n",
       "<style scoped>\n",
       "    .dataframe tbody tr th:only-of-type {\n",
       "        vertical-align: middle;\n",
       "    }\n",
       "\n",
       "    .dataframe tbody tr th {\n",
       "        vertical-align: top;\n",
       "    }\n",
       "\n",
       "    .dataframe thead th {\n",
       "        text-align: right;\n",
       "    }\n",
       "</style>\n",
       "<table border=\"1\" class=\"dataframe\">\n",
       "  <thead>\n",
       "    <tr style=\"text-align: right;\">\n",
       "      <th></th>\n",
       "      <th>county</th>\n",
       "      <th>administered_date</th>\n",
       "      <th>total_doses</th>\n",
       "      <th>cumulative_total_doses</th>\n",
       "      <th>pfizer_doses</th>\n",
       "      <th>cumulative_pfizer_doses</th>\n",
       "      <th>moderna_doses</th>\n",
       "      <th>cumulative_moderna_doses</th>\n",
       "      <th>jj_doses</th>\n",
       "      <th>cumulative_jj_doses</th>\n",
       "      <th>partially_vaccinated</th>\n",
       "      <th>total_partially_vaccinated</th>\n",
       "      <th>fully_vaccinated</th>\n",
       "      <th>cumulative_fully_vaccinated</th>\n",
       "      <th>at_least_one_dose</th>\n",
       "      <th>cumulative_at_least_one_dose</th>\n",
       "      <th>california_flag</th>\n",
       "    </tr>\n",
       "  </thead>\n",
       "  <tbody>\n",
       "    <tr>\n",
       "      <th>0</th>\n",
       "      <td>All CA Counties</td>\n",
       "      <td>2020-12-15</td>\n",
       "      <td>1136</td>\n",
       "      <td>1136</td>\n",
       "      <td>1136</td>\n",
       "      <td>1136</td>\n",
       "      <td>0</td>\n",
       "      <td>0</td>\n",
       "      <td>0</td>\n",
       "      <td>0</td>\n",
       "      <td>1136</td>\n",
       "      <td>1136</td>\n",
       "      <td>0</td>\n",
       "      <td>0</td>\n",
       "      <td>1136</td>\n",
       "      <td>1136</td>\n",
       "      <td>NaN</td>\n",
       "    </tr>\n",
       "    <tr>\n",
       "      <th>1</th>\n",
       "      <td>All CA Counties</td>\n",
       "      <td>2020-12-16</td>\n",
       "      <td>8370</td>\n",
       "      <td>9506</td>\n",
       "      <td>8370</td>\n",
       "      <td>9506</td>\n",
       "      <td>0</td>\n",
       "      <td>0</td>\n",
       "      <td>0</td>\n",
       "      <td>0</td>\n",
       "      <td>8370</td>\n",
       "      <td>9506</td>\n",
       "      <td>0</td>\n",
       "      <td>0</td>\n",
       "      <td>8370</td>\n",
       "      <td>9506</td>\n",
       "      <td>NaN</td>\n",
       "    </tr>\n",
       "    <tr>\n",
       "      <th>2</th>\n",
       "      <td>All CA Counties</td>\n",
       "      <td>2020-12-17</td>\n",
       "      <td>25814</td>\n",
       "      <td>35320</td>\n",
       "      <td>25814</td>\n",
       "      <td>35320</td>\n",
       "      <td>0</td>\n",
       "      <td>0</td>\n",
       "      <td>0</td>\n",
       "      <td>0</td>\n",
       "      <td>25816</td>\n",
       "      <td>35322</td>\n",
       "      <td>0</td>\n",
       "      <td>0</td>\n",
       "      <td>25816</td>\n",
       "      <td>35322</td>\n",
       "      <td>NaN</td>\n",
       "    </tr>\n",
       "    <tr>\n",
       "      <th>3</th>\n",
       "      <td>All CA Counties</td>\n",
       "      <td>2020-12-18</td>\n",
       "      <td>43836</td>\n",
       "      <td>79156</td>\n",
       "      <td>43780</td>\n",
       "      <td>79100</td>\n",
       "      <td>56</td>\n",
       "      <td>56</td>\n",
       "      <td>0</td>\n",
       "      <td>0</td>\n",
       "      <td>43837</td>\n",
       "      <td>79159</td>\n",
       "      <td>0</td>\n",
       "      <td>0</td>\n",
       "      <td>43837</td>\n",
       "      <td>79159</td>\n",
       "      <td>NaN</td>\n",
       "    </tr>\n",
       "    <tr>\n",
       "      <th>4</th>\n",
       "      <td>All CA Counties</td>\n",
       "      <td>2020-12-19</td>\n",
       "      <td>25314</td>\n",
       "      <td>104470</td>\n",
       "      <td>25290</td>\n",
       "      <td>104390</td>\n",
       "      <td>24</td>\n",
       "      <td>80</td>\n",
       "      <td>0</td>\n",
       "      <td>0</td>\n",
       "      <td>25313</td>\n",
       "      <td>104471</td>\n",
       "      <td>1</td>\n",
       "      <td>1</td>\n",
       "      <td>25313</td>\n",
       "      <td>104472</td>\n",
       "      <td>NaN</td>\n",
       "    </tr>\n",
       "  </tbody>\n",
       "</table>\n",
       "</div>"
      ],
      "text/plain": [
       "            county administered_date  total_doses  cumulative_total_doses  \\\n",
       "0  All CA Counties        2020-12-15         1136                    1136   \n",
       "1  All CA Counties        2020-12-16         8370                    9506   \n",
       "2  All CA Counties        2020-12-17        25814                   35320   \n",
       "3  All CA Counties        2020-12-18        43836                   79156   \n",
       "4  All CA Counties        2020-12-19        25314                  104470   \n",
       "\n",
       "   pfizer_doses  cumulative_pfizer_doses  moderna_doses  \\\n",
       "0          1136                     1136              0   \n",
       "1          8370                     9506              0   \n",
       "2         25814                    35320              0   \n",
       "3         43780                    79100             56   \n",
       "4         25290                   104390             24   \n",
       "\n",
       "   cumulative_moderna_doses  jj_doses  cumulative_jj_doses  \\\n",
       "0                         0         0                    0   \n",
       "1                         0         0                    0   \n",
       "2                         0         0                    0   \n",
       "3                        56         0                    0   \n",
       "4                        80         0                    0   \n",
       "\n",
       "   partially_vaccinated  total_partially_vaccinated  fully_vaccinated  \\\n",
       "0                  1136                        1136                 0   \n",
       "1                  8370                        9506                 0   \n",
       "2                 25816                       35322                 0   \n",
       "3                 43837                       79159                 0   \n",
       "4                 25313                      104471                 1   \n",
       "\n",
       "   cumulative_fully_vaccinated  at_least_one_dose  \\\n",
       "0                            0               1136   \n",
       "1                            0               8370   \n",
       "2                            0              25816   \n",
       "3                            0              43837   \n",
       "4                            1              25313   \n",
       "\n",
       "   cumulative_at_least_one_dose california_flag  \n",
       "0                          1136             NaN  \n",
       "1                          9506             NaN  \n",
       "2                         35322             NaN  \n",
       "3                         79159             NaN  \n",
       "4                        104472             NaN  "
      ]
     },
     "execution_count": 27,
     "metadata": {},
     "output_type": "execute_result"
    }
   ],
   "source": [
    "vacc_admin.head()"
   ]
  },
  {
   "cell_type": "code",
   "execution_count": 28,
   "metadata": {},
   "outputs": [
    {
     "data": {
      "text/html": [
       "<div>\n",
       "<style scoped>\n",
       "    .dataframe tbody tr th:only-of-type {\n",
       "        vertical-align: middle;\n",
       "    }\n",
       "\n",
       "    .dataframe tbody tr th {\n",
       "        vertical-align: top;\n",
       "    }\n",
       "\n",
       "    .dataframe thead th {\n",
       "        text-align: right;\n",
       "    }\n",
       "</style>\n",
       "<table border=\"1\" class=\"dataframe\">\n",
       "  <thead>\n",
       "    <tr style=\"text-align: right;\">\n",
       "      <th></th>\n",
       "      <th>demographic_category</th>\n",
       "      <th>demographic_value</th>\n",
       "      <th>total_cases</th>\n",
       "      <th>percent_cases</th>\n",
       "      <th>deaths</th>\n",
       "      <th>percent_deaths</th>\n",
       "      <th>percent_of_ca_population</th>\n",
       "      <th>report_date</th>\n",
       "    </tr>\n",
       "  </thead>\n",
       "  <tbody>\n",
       "    <tr>\n",
       "      <th>0</th>\n",
       "      <td>Age Group</td>\n",
       "      <td>0-17</td>\n",
       "      <td>855</td>\n",
       "      <td>2.3</td>\n",
       "      <td>0</td>\n",
       "      <td>0.0</td>\n",
       "      <td>22.5</td>\n",
       "      <td>2020-04-22</td>\n",
       "    </tr>\n",
       "    <tr>\n",
       "      <th>1</th>\n",
       "      <td>Age Group</td>\n",
       "      <td>0-17</td>\n",
       "      <td>936</td>\n",
       "      <td>2.4</td>\n",
       "      <td>0</td>\n",
       "      <td>0.0</td>\n",
       "      <td>22.5</td>\n",
       "      <td>2020-04-23</td>\n",
       "    </tr>\n",
       "    <tr>\n",
       "      <th>2</th>\n",
       "      <td>Age Group</td>\n",
       "      <td>0-17</td>\n",
       "      <td>1011</td>\n",
       "      <td>2.5</td>\n",
       "      <td>0</td>\n",
       "      <td>0.0</td>\n",
       "      <td>22.5</td>\n",
       "      <td>2020-04-24</td>\n",
       "    </tr>\n",
       "    <tr>\n",
       "      <th>3</th>\n",
       "      <td>Age Group</td>\n",
       "      <td>0-17</td>\n",
       "      <td>1039</td>\n",
       "      <td>2.5</td>\n",
       "      <td>0</td>\n",
       "      <td>0.0</td>\n",
       "      <td>22.5</td>\n",
       "      <td>2020-04-25</td>\n",
       "    </tr>\n",
       "    <tr>\n",
       "      <th>4</th>\n",
       "      <td>Age Group</td>\n",
       "      <td>0-17</td>\n",
       "      <td>1085</td>\n",
       "      <td>2.5</td>\n",
       "      <td>0</td>\n",
       "      <td>0.0</td>\n",
       "      <td>22.5</td>\n",
       "      <td>2020-04-26</td>\n",
       "    </tr>\n",
       "  </tbody>\n",
       "</table>\n",
       "</div>"
      ],
      "text/plain": [
       "  demographic_category demographic_value  total_cases  percent_cases  deaths  \\\n",
       "0            Age Group              0-17          855            2.3       0   \n",
       "1            Age Group              0-17          936            2.4       0   \n",
       "2            Age Group              0-17         1011            2.5       0   \n",
       "3            Age Group              0-17         1039            2.5       0   \n",
       "4            Age Group              0-17         1085            2.5       0   \n",
       "\n",
       "   percent_deaths  percent_of_ca_population report_date  \n",
       "0             0.0                      22.5  2020-04-22  \n",
       "1             0.0                      22.5  2020-04-23  \n",
       "2             0.0                      22.5  2020-04-24  \n",
       "3             0.0                      22.5  2020-04-25  \n",
       "4             0.0                      22.5  2020-04-26  "
      ]
     },
     "execution_count": 28,
     "metadata": {},
     "output_type": "execute_result"
    }
   ],
   "source": [
    "deaths.head()"
   ]
  },
  {
   "cell_type": "markdown",
   "metadata": {},
   "source": [
    "### Data Exploration"
   ]
  },
  {
   "cell_type": "markdown",
   "metadata": {},
   "source": [
    "* California Total Vaccinations"
   ]
  },
  {
   "cell_type": "code",
   "execution_count": 29,
   "metadata": {},
   "outputs": [
    {
     "data": {
      "text/plain": [
       "<AxesSubplot:xlabel='administered_date', ylabel='cumulative_pfizer_doses'>"
      ]
     },
     "execution_count": 29,
     "metadata": {},
     "output_type": "execute_result"
    },
    {
     "data": {
      "text/plain": [
       "<AxesSubplot:xlabel='administered_date', ylabel='cumulative_pfizer_doses'>"
      ]
     },
     "execution_count": 29,
     "metadata": {},
     "output_type": "execute_result"
    },
    {
     "data": {
      "text/plain": [
       "[Text(0.5, 1.0, 'Vaccinations Over Time (California)'),\n",
       " Text(0.5, 0, 'Date'),\n",
       " Text(0, 0.5, 'Cumulative Doses')]"
      ]
     },
     "execution_count": 29,
     "metadata": {},
     "output_type": "execute_result"
    },
    {
     "data": {
      "image/png": "[encoded data removed]",
      "text/plain": [
       "<Figure size 432x288 with 1 Axes>"
      ]
     },
     "metadata": {
      "needs_background": "light"
     },
     "output_type": "display_data"
    }
   ],
   "source": [
    "import matplotlib.pyplot as plt\n",
    "import seaborn as sns\n",
    "\n",
    "total_vacc = vacc_admin[vacc_admin['california_flag'].isna() == True]\n",
    "\n",
    "sns.lineplot(x = \"administered_date\", y = \"cumulative_pfizer_doses\", data = total_vacc, label = 'Pfizer')\n",
    "sns.lineplot(x = \"administered_date\", y = \"cumulative_moderna_doses\", data = total_vacc, label = 'Moderna')\n",
    "sns.lineplot(x = \"administered_date\", y = \"cumulative_jj_doses\", data = total_vacc, label = 'J&J')\\\n",
    "    .set(title = 'Vaccinations Over Time (California)', xlabel = 'Date', ylabel = 'Cumulative Doses')"
   ]
  },
  {
   "cell_type": "markdown",
   "metadata": {},
   "source": [
    "* Cases Demographics by Age"
   ]
  },
  {
   "cell_type": "code",
   "execution_count": 30,
   "metadata": {},
   "outputs": [
    {
     "data": {
      "image/png": "[encoded data removed]",
      "text/plain": [
       "<Figure size 360x360 with 1 Axes>"
      ]
     },
     "metadata": {
      "needs_background": "light"
     },
     "output_type": "display_data"
    }
   ],
   "source": [
    "age = deaths[deaths['demographic_category'] == 'Age Group'].groupby('demographic_value', as_index=False)\\\n",
    "                                                           .agg({'total_cases':'sum','deaths':'sum'})\\\n",
    "\n",
    "age_cases = sns.catplot(x='demographic_value', y='total_cases', data=age, kind='bar')\\\n",
    "              .set(title = 'Total COVID Cases by Age Group', xlabel = 'Age Group', ylabel = 'Total Cases Reported')"
   ]
  },
  {
   "cell_type": "code",
   "execution_count": 31,
   "metadata": {},
   "outputs": [
    {
     "data": {
      "image/png": "[encoded data removed]",
      "text/plain": [
       "<Figure size 360x360 with 1 Axes>"
      ]
     },
     "metadata": {
      "needs_background": "light"
     },
     "output_type": "display_data"
    }
   ],
   "source": [
    "age_deaths = sns.catplot(x='demographic_value', y='deaths', data=age, kind='bar')\\\n",
    "              .set(title = 'Total COVID Deaths by Age Group', xlabel = 'Age Group', ylabel = 'Total Deaths Reported')"
   ]
  },
  {
   "cell_type": "markdown",
   "metadata": {},
   "source": [
    "* Cases Demographics by Race"
   ]
  },
  {
   "cell_type": "code",
   "execution_count": 32,
   "metadata": {},
   "outputs": [
    {
     "data": {
      "image/png": "[encoded data removed]",
      "text/plain": [
       "<Figure size 360x360 with 1 Axes>"
      ]
     },
     "metadata": {
      "needs_background": "light"
     },
     "output_type": "display_data"
    }
   ],
   "source": [
    "race = deaths[deaths['demographic_category'] == 'Race Ethnicity'].groupby('demographic_value', as_index=False)\\\n",
    "                                                           .agg({'total_cases':'sum','deaths':'sum'})\\\n",
    "\n",
    "race_demo = sns.catplot(x='demographic_value', y='total_cases', data=race, kind='bar')\\\n",
    "              .set(title = 'Total COVID Cases by Race/Ethnicity', xlabel = 'Race/Ethnicity Group', ylabel = 'Total Cases Reported')\\\n",
    "              .set_xticklabels(rotation=80)"
   ]
  },
  {
   "cell_type": "code",
   "execution_count": 33,
   "metadata": {},
   "outputs": [
    {
     "data": {
      "image/png": "[encoded data removed]",
      "text/plain": [
       "<Figure size 360x360 with 1 Axes>"
      ]
     },
     "metadata": {
      "needs_background": "light"
     },
     "output_type": "display_data"
    }
   ],
   "source": [
    "race_demo = sns.catplot(x='demographic_value', y='deaths', data=race, kind='bar')\\\n",
    "              .set(title = 'Total COVID Deaths by Race/Ethnicity', xlabel = 'Race/Ethnicity Group', ylabel = 'Total Deaths Reported')\\\n",
    "              .set_xticklabels(rotation=80)"
   ]
  },
  {
   "cell_type": "markdown",
   "metadata": {},
   "source": [
    "### Merging Datasets"
   ]
  },
  {
   "cell_type": "code",
   "execution_count": 34,
   "metadata": {},
   "outputs": [],
   "source": [
    "# California vaccination administrations dataset\n",
    "cali_vacc = vacc_admin[vacc_admin['california_flag'].isna() == False]\n",
    "cali_vacc = cali_vacc[cali_vacc['county'] != 'Outside California']\n",
    "cali_vacc = cali_vacc[cali_vacc['county'] != 'Unknown']\n",
    "cali_vacc = cali_vacc.drop(columns = 'california_flag')"
   ]
  },
  {
   "cell_type": "code",
   "execution_count": 35,
   "metadata": {
    "scrolled": true
   },
   "outputs": [
    {
     "data": {
      "text/html": [
       "<div>\n",
       "<style scoped>\n",
       "    .dataframe tbody tr th:only-of-type {\n",
       "        vertical-align: middle;\n",
       "    }\n",
       "\n",
       "    .dataframe tbody tr th {\n",
       "        vertical-align: top;\n",
       "    }\n",
       "\n",
       "    .dataframe thead th {\n",
       "        text-align: right;\n",
       "    }\n",
       "</style>\n",
       "<table border=\"1\" class=\"dataframe\">\n",
       "  <thead>\n",
       "    <tr style=\"text-align: right;\">\n",
       "      <th></th>\n",
       "      <th>user_name</th>\n",
       "      <th>date</th>\n",
       "      <th>text</th>\n",
       "      <th>city</th>\n",
       "      <th>state</th>\n",
       "      <th>country</th>\n",
       "      <th>county_name</th>\n",
       "    </tr>\n",
       "  </thead>\n",
       "  <tbody>\n",
       "    <tr>\n",
       "      <th>0</th>\n",
       "      <td>City Visions Radio</td>\n",
       "      <td>2020-08-18</td>\n",
       "      <td>Now at https://t.co/86d419hWQF Peter Chin-Hong...</td>\n",
       "      <td>San Francisco</td>\n",
       "      <td>CA</td>\n",
       "      <td>United States</td>\n",
       "      <td>San Francisco</td>\n",
       "    </tr>\n",
       "    <tr>\n",
       "      <th>1</th>\n",
       "      <td>Dov Samuel</td>\n",
       "      <td>2020-08-17</td>\n",
       "      <td>Pfizer is looking to sign up people for a covi...</td>\n",
       "      <td>Los Angeles</td>\n",
       "      <td>CA</td>\n",
       "      <td>United States</td>\n",
       "      <td>Los Angeles</td>\n",
       "    </tr>\n",
       "    <tr>\n",
       "      <th>2</th>\n",
       "      <td>Immigration &amp; Citizenship Program</td>\n",
       "      <td>2020-08-17</td>\n",
       "      <td>#immigration #COVID19 #CovidVaccine #2020Censu...</td>\n",
       "      <td>San Jose</td>\n",
       "      <td>CA</td>\n",
       "      <td>United States</td>\n",
       "      <td>Santa Clara</td>\n",
       "    </tr>\n",
       "    <tr>\n",
       "      <th>3</th>\n",
       "      <td>RomeshNadir🇮🇳</td>\n",
       "      <td>2020-08-17</td>\n",
       "      <td>India silently on the job of giving the world ...</td>\n",
       "      <td>San Francisco</td>\n",
       "      <td>CA</td>\n",
       "      <td>United States</td>\n",
       "      <td>San Francisco</td>\n",
       "    </tr>\n",
       "    <tr>\n",
       "      <th>4</th>\n",
       "      <td>PlushCare</td>\n",
       "      <td>2020-08-17</td>\n",
       "      <td>There's constant buzz about developments with ...</td>\n",
       "      <td>San Francisco</td>\n",
       "      <td>CA</td>\n",
       "      <td>United States</td>\n",
       "      <td>San Francisco</td>\n",
       "    </tr>\n",
       "  </tbody>\n",
       "</table>\n",
       "</div>"
      ],
      "text/plain": [
       "                           user_name       date  \\\n",
       "0                 City Visions Radio 2020-08-18   \n",
       "1                         Dov Samuel 2020-08-17   \n",
       "2  Immigration & Citizenship Program 2020-08-17   \n",
       "3                      RomeshNadir🇮🇳 2020-08-17   \n",
       "4                          PlushCare 2020-08-17   \n",
       "\n",
       "                                                text           city state  \\\n",
       "0  Now at https://t.co/86d419hWQF Peter Chin-Hong...  San Francisco    CA   \n",
       "1  Pfizer is looking to sign up people for a covi...    Los Angeles    CA   \n",
       "2  #immigration #COVID19 #CovidVaccine #2020Censu...       San Jose    CA   \n",
       "3  India silently on the job of giving the world ...  San Francisco    CA   \n",
       "4  There's constant buzz about developments with ...  San Francisco    CA   \n",
       "\n",
       "         country    county_name  \n",
       "0  United States  San Francisco  \n",
       "1  United States    Los Angeles  \n",
       "2  United States    Santa Clara  \n",
       "3  United States  San Francisco  \n",
       "4  United States  San Francisco  "
      ]
     },
     "execution_count": 35,
     "metadata": {},
     "output_type": "execute_result"
    }
   ],
   "source": [
    "# Merging California tweets with county/geographic details\n",
    "cali = cali_tweets.merge(cacities, on='city', how = 'left',copy = False)\n",
    "cali = cali.drop(columns = 'state_id')\n",
    "cali.head()"
   ]
  },
  {
   "cell_type": "code",
   "execution_count": 36,
   "metadata": {},
   "outputs": [],
   "source": [
    "# Merging California tweets with county demographics by date\n",
    "cali_vacc = cali.merge(vacc_admin[['administered_date','county','cumulative_total_doses']], left_on = ['date','county_name'], right_on = ['administered_date','county'], how = 'inner')\n",
    "cali_vacc = cali_vacc.drop(columns = ['administered_date','county_name'])"
   ]
  },
  {
   "cell_type": "code",
   "execution_count": 37,
   "metadata": {},
   "outputs": [],
   "source": [
    "# Merging with deaths dataset\n",
    "deaths_total = deaths.groupby('report_date', as_index = False)['deaths'].sum()\n",
    "cali_data = cali_vacc.merge(deaths_total[['report_date','deaths']], left_on='date', right_on='report_date', how='inner')\n",
    "cali_data = cali_data.drop(columns = 'report_date')"
   ]
  },
  {
   "cell_type": "code",
   "execution_count": 38,
   "metadata": {},
   "outputs": [
    {
     "data": {
      "text/html": [
       "<div>\n",
       "<style scoped>\n",
       "    .dataframe tbody tr th:only-of-type {\n",
       "        vertical-align: middle;\n",
       "    }\n",
       "\n",
       "    .dataframe tbody tr th {\n",
       "        vertical-align: top;\n",
       "    }\n",
       "\n",
       "    .dataframe thead th {\n",
       "        text-align: right;\n",
       "    }\n",
       "</style>\n",
       "<table border=\"1\" class=\"dataframe\">\n",
       "  <thead>\n",
       "    <tr style=\"text-align: right;\">\n",
       "      <th></th>\n",
       "      <th>user_name</th>\n",
       "      <th>date</th>\n",
       "      <th>text</th>\n",
       "      <th>city</th>\n",
       "      <th>state</th>\n",
       "      <th>country</th>\n",
       "      <th>county</th>\n",
       "      <th>cumulative_total_doses</th>\n",
       "      <th>deaths</th>\n",
       "    </tr>\n",
       "  </thead>\n",
       "  <tbody>\n",
       "    <tr>\n",
       "      <th>0</th>\n",
       "      <td>Vaneet K Sandhu, MD</td>\n",
       "      <td>2020-12-26</td>\n",
       "      <td>Looking forward to #dosetwo of the #CovidVacci...</td>\n",
       "      <td>Loma Linda</td>\n",
       "      <td>CA</td>\n",
       "      <td>United States</td>\n",
       "      <td>San Bernardino</td>\n",
       "      <td>16982</td>\n",
       "      <td>72054</td>\n",
       "    </tr>\n",
       "    <tr>\n",
       "      <th>1</th>\n",
       "      <td>strix1 🐬 🐾♻️</td>\n",
       "      <td>2020-12-26</td>\n",
       "      <td>#Smokers? Smokers have priority over me? They ...</td>\n",
       "      <td>San Diego</td>\n",
       "      <td>CA</td>\n",
       "      <td>United States</td>\n",
       "      <td>San Diego</td>\n",
       "      <td>28406</td>\n",
       "      <td>72054</td>\n",
       "    </tr>\n",
       "    <tr>\n",
       "      <th>2</th>\n",
       "      <td>Pranav Garimella</td>\n",
       "      <td>2020-12-26</td>\n",
       "      <td>If you are able to receive the #CovidVaccine p...</td>\n",
       "      <td>San Diego</td>\n",
       "      <td>CA</td>\n",
       "      <td>United States</td>\n",
       "      <td>San Diego</td>\n",
       "      <td>28406</td>\n",
       "      <td>72054</td>\n",
       "    </tr>\n",
       "    <tr>\n",
       "      <th>3</th>\n",
       "      <td>Berkeley Limketkai</td>\n",
       "      <td>2020-12-26</td>\n",
       "      <td>Got #CovidVaccine today and experiencing nothi...</td>\n",
       "      <td>Los Angeles</td>\n",
       "      <td>CA</td>\n",
       "      <td>United States</td>\n",
       "      <td>Los Angeles</td>\n",
       "      <td>87858</td>\n",
       "      <td>72054</td>\n",
       "    </tr>\n",
       "    <tr>\n",
       "      <th>4</th>\n",
       "      <td>jshinPROmax</td>\n",
       "      <td>2020-12-26</td>\n",
       "      <td>Day 4 - arm is not as sore, mild headache \\n\\n...</td>\n",
       "      <td>Los Angeles</td>\n",
       "      <td>CA</td>\n",
       "      <td>United States</td>\n",
       "      <td>Los Angeles</td>\n",
       "      <td>87858</td>\n",
       "      <td>72054</td>\n",
       "    </tr>\n",
       "  </tbody>\n",
       "</table>\n",
       "</div>"
      ],
      "text/plain": [
       "             user_name       date  \\\n",
       "0  Vaneet K Sandhu, MD 2020-12-26   \n",
       "1         strix1 🐬 🐾♻️ 2020-12-26   \n",
       "2     Pranav Garimella 2020-12-26   \n",
       "3   Berkeley Limketkai 2020-12-26   \n",
       "4          jshinPROmax 2020-12-26   \n",
       "\n",
       "                                                text         city state  \\\n",
       "0  Looking forward to #dosetwo of the #CovidVacci...   Loma Linda    CA   \n",
       "1  #Smokers? Smokers have priority over me? They ...    San Diego    CA   \n",
       "2  If you are able to receive the #CovidVaccine p...    San Diego    CA   \n",
       "3  Got #CovidVaccine today and experiencing nothi...  Los Angeles    CA   \n",
       "4  Day 4 - arm is not as sore, mild headache \\n\\n...  Los Angeles    CA   \n",
       "\n",
       "         country          county  cumulative_total_doses  deaths  \n",
       "0  United States  San Bernardino                   16982   72054  \n",
       "1  United States       San Diego                   28406   72054  \n",
       "2  United States       San Diego                   28406   72054  \n",
       "3  United States     Los Angeles                   87858   72054  \n",
       "4  United States     Los Angeles                   87858   72054  "
      ]
     },
     "execution_count": 38,
     "metadata": {},
     "output_type": "execute_result"
    }
   ],
   "source": [
    "cali_data.head()"
   ]
  },
  {
   "cell_type": "markdown",
   "metadata": {},
   "source": [
    "* Doses vs. Deaths"
   ]
  },
  {
   "cell_type": "code",
   "execution_count": 39,
   "metadata": {},
   "outputs": [
    {
     "data": {
      "text/plain": [
       "[Text(0.5, 1.0, 'Doses vs. Deaths'),\n",
       " Text(0.5, 0, 'Cumulative Doses'),\n",
       " Text(0, 0.5, 'Deaths')]"
      ]
     },
     "execution_count": 39,
     "metadata": {},
     "output_type": "execute_result"
    },
    {
     "data": {
      "image/png": "[encoded data removed]",
      "text/plain": [
       "<Figure size 432x288 with 1 Axes>"
      ]
     },
     "metadata": {
      "needs_background": "light"
     },
     "output_type": "display_data"
    }
   ],
   "source": [
    "sns.scatterplot(x = \"cumulative_total_doses\", y = \"deaths\", data = cali_data)\\\n",
    "    .set(title = 'Doses vs. Deaths', xlabel = 'Cumulative Doses', ylabel = 'Deaths')"
   ]
  },
  {
   "cell_type": "markdown",
   "metadata": {},
   "source": [
    "### Extracting Sentiment for California"
   ]
  },
  {
   "cell_type": "code",
   "execution_count": 40,
   "metadata": {},
   "outputs": [
    {
     "name": "stderr",
     "output_type": "stream",
     "text": [
      "/Users/laurayuan/opt/anaconda3/lib/python3.8/site-packages/tqdm/std.py:697: FutureWarning: The Panel class is removed from pandas. Accessing it from the top-level namespace will also be removed in the next version\n",
      "  from pandas import Panel\n"
     ]
    }
   ],
   "source": [
    "import nltk\n",
    "from nltk.corpus import stopwords\n",
    "from nltk.stem import PorterStemmer\n",
    "from nltk.tokenize import sent_tokenize, word_tokenize\n",
    "from tqdm.auto import tqdm\n",
    "from tqdm import tqdm\n",
    "import string\n",
    "tqdm.pandas()\n",
    "\n",
    "nltk.download('stopwords')\n",
    "nltk.download('punkt')\n",
    "\n",
    "stop_words = set(stopwords.words('english'))"
   ]
  },
  {
   "cell_type": "code",
   "execution_count": 41,
   "metadata": {},
   "outputs": [],
   "source": [
    "def get_tokens(text):\n",
    "    res = []\n",
    "    words = word_tokenize(text.lower())\n",
    "    for word in words:\n",
    "        if word not in stop_words and word not in string.punctuation:\n",
    "           res.append(PorterStemmer().stem(word)) \n",
    "    return res"
   ]
  },
  {
   "cell_type": "code",
   "execution_count": 42,
   "metadata": {
    "scrolled": true
   },
   "outputs": [
    {
     "name": "stderr",
     "output_type": "stream",
     "text": [
      "100%|██████████| 4587/4587 [00:03<00:00, 1266.36it/s]\n"
     ]
    }
   ],
   "source": [
    "cali_data['tokens'] = cali_data.text.progress_apply(lambda x: get_tokens(x))"
   ]
  },
  {
   "cell_type": "code",
   "execution_count": 43,
   "metadata": {},
   "outputs": [
    {
     "data": {
      "text/html": [
       "<div>\n",
       "<style scoped>\n",
       "    .dataframe tbody tr th:only-of-type {\n",
       "        vertical-align: middle;\n",
       "    }\n",
       "\n",
       "    .dataframe tbody tr th {\n",
       "        vertical-align: top;\n",
       "    }\n",
       "\n",
       "    .dataframe thead th {\n",
       "        text-align: right;\n",
       "    }\n",
       "</style>\n",
       "<table border=\"1\" class=\"dataframe\">\n",
       "  <thead>\n",
       "    <tr style=\"text-align: right;\">\n",
       "      <th></th>\n",
       "      <th>user_name</th>\n",
       "      <th>date</th>\n",
       "      <th>text</th>\n",
       "      <th>city</th>\n",
       "      <th>state</th>\n",
       "      <th>country</th>\n",
       "      <th>county</th>\n",
       "      <th>cumulative_total_doses</th>\n",
       "      <th>deaths</th>\n",
       "      <th>tokens</th>\n",
       "    </tr>\n",
       "  </thead>\n",
       "  <tbody>\n",
       "    <tr>\n",
       "      <th>0</th>\n",
       "      <td>Vaneet K Sandhu, MD</td>\n",
       "      <td>2020-12-26</td>\n",
       "      <td>Looking forward to #dosetwo of the #CovidVacci...</td>\n",
       "      <td>Loma Linda</td>\n",
       "      <td>CA</td>\n",
       "      <td>United States</td>\n",
       "      <td>San Bernardino</td>\n",
       "      <td>16982</td>\n",
       "      <td>72054</td>\n",
       "      <td>[look, forward, dosetwo, covidvaccin, minu, tw...</td>\n",
       "    </tr>\n",
       "    <tr>\n",
       "      <th>1</th>\n",
       "      <td>strix1 🐬 🐾♻️</td>\n",
       "      <td>2020-12-26</td>\n",
       "      <td>#Smokers? Smokers have priority over me? They ...</td>\n",
       "      <td>San Diego</td>\n",
       "      <td>CA</td>\n",
       "      <td>United States</td>\n",
       "      <td>San Diego</td>\n",
       "      <td>28406</td>\n",
       "      <td>72054</td>\n",
       "      <td>[smoker, smoker, prioriti, smoke, amp, comprom...</td>\n",
       "    </tr>\n",
       "    <tr>\n",
       "      <th>2</th>\n",
       "      <td>Pranav Garimella</td>\n",
       "      <td>2020-12-26</td>\n",
       "      <td>If you are able to receive the #CovidVaccine p...</td>\n",
       "      <td>San Diego</td>\n",
       "      <td>CA</td>\n",
       "      <td>United States</td>\n",
       "      <td>San Diego</td>\n",
       "      <td>28406</td>\n",
       "      <td>72054</td>\n",
       "      <td>[abl, receiv, covidvaccin, pleas, ucsdhealth, ...</td>\n",
       "    </tr>\n",
       "    <tr>\n",
       "      <th>3</th>\n",
       "      <td>Berkeley Limketkai</td>\n",
       "      <td>2020-12-26</td>\n",
       "      <td>Got #CovidVaccine today and experiencing nothi...</td>\n",
       "      <td>Los Angeles</td>\n",
       "      <td>CA</td>\n",
       "      <td>United States</td>\n",
       "      <td>Los Angeles</td>\n",
       "      <td>87858</td>\n",
       "      <td>72054</td>\n",
       "      <td>[got, covidvaccin, today, experienc, noth, unusu]</td>\n",
       "    </tr>\n",
       "    <tr>\n",
       "      <th>4</th>\n",
       "      <td>jshinPROmax</td>\n",
       "      <td>2020-12-26</td>\n",
       "      <td>Day 4 - arm is not as sore, mild headache \\n\\n...</td>\n",
       "      <td>Los Angeles</td>\n",
       "      <td>CA</td>\n",
       "      <td>United States</td>\n",
       "      <td>Los Angeles</td>\n",
       "      <td>87858</td>\n",
       "      <td>72054</td>\n",
       "      <td>[day, 4, arm, sore, mild, headach, covidvaccin...</td>\n",
       "    </tr>\n",
       "  </tbody>\n",
       "</table>\n",
       "</div>"
      ],
      "text/plain": [
       "             user_name       date  \\\n",
       "0  Vaneet K Sandhu, MD 2020-12-26   \n",
       "1         strix1 🐬 🐾♻️ 2020-12-26   \n",
       "2     Pranav Garimella 2020-12-26   \n",
       "3   Berkeley Limketkai 2020-12-26   \n",
       "4          jshinPROmax 2020-12-26   \n",
       "\n",
       "                                                text         city state  \\\n",
       "0  Looking forward to #dosetwo of the #CovidVacci...   Loma Linda    CA   \n",
       "1  #Smokers? Smokers have priority over me? They ...    San Diego    CA   \n",
       "2  If you are able to receive the #CovidVaccine p...    San Diego    CA   \n",
       "3  Got #CovidVaccine today and experiencing nothi...  Los Angeles    CA   \n",
       "4  Day 4 - arm is not as sore, mild headache \\n\\n...  Los Angeles    CA   \n",
       "\n",
       "         country          county  cumulative_total_doses  deaths  \\\n",
       "0  United States  San Bernardino                   16982   72054   \n",
       "1  United States       San Diego                   28406   72054   \n",
       "2  United States       San Diego                   28406   72054   \n",
       "3  United States     Los Angeles                   87858   72054   \n",
       "4  United States     Los Angeles                   87858   72054   \n",
       "\n",
       "                                              tokens  \n",
       "0  [look, forward, dosetwo, covidvaccin, minu, tw...  \n",
       "1  [smoker, smoker, prioriti, smoke, amp, comprom...  \n",
       "2  [abl, receiv, covidvaccin, pleas, ucsdhealth, ...  \n",
       "3  [got, covidvaccin, today, experienc, noth, unusu]  \n",
       "4  [day, 4, arm, sore, mild, headach, covidvaccin...  "
      ]
     },
     "execution_count": 43,
     "metadata": {},
     "output_type": "execute_result"
    }
   ],
   "source": [
    "cali_data.head()"
   ]
  },
  {
   "cell_type": "code",
   "execution_count": 44,
   "metadata": {},
   "outputs": [],
   "source": [
    "with open('/Users/laurayuan/Desktop/School/Masters/Spring_2021/NLP/Harvard_Inquirer_Dictionary.txt', 'r') as dt_txt:\n",
    "    HIDict = dt_txt.readlines()\n",
    "HIDict = HIDict[1:]"
   ]
  },
  {
   "cell_type": "code",
   "execution_count": 45,
   "metadata": {},
   "outputs": [],
   "source": [
    "#Extract all the lines that contain the Pos tag\n",
    "\n",
    "poswords = [j for j in HIDict if \"Pos\" in j]  #using a list comprehension\n",
    "poswords = [j.split()[0] for j in poswords]\n",
    "poswords = [j.split(\"#\")[0] for j in poswords]\n",
    "poswords = set(PorterStemmer().stem(j.lower()) for j in poswords)\n",
    "\n",
    "#Extract all the lines that contain the Neg tag\n",
    "negwords = [j for j in HIDict if \"Neg\" in j]  #using a list comprehension\n",
    "negwords = [j.split()[0] for j in negwords]\n",
    "negwords = [j.split(\"#\")[0] for j in negwords]\n",
    "negwords = set(PorterStemmer().stem(j.lower()) for j in negwords)"
   ]
  },
  {
   "cell_type": "code",
   "execution_count": 46,
   "metadata": {},
   "outputs": [],
   "source": [
    "def get_pos(tokens):\n",
    "    res = []\n",
    "    for t in tokens:\n",
    "        if t in poswords:\n",
    "            res.append(t)\n",
    "    return res    \n",
    "\n",
    "def get_neg(tokens):\n",
    "    res = []\n",
    "    for t in tokens:\n",
    "        if t in negwords:\n",
    "            res.append(t)\n",
    "    return res "
   ]
  },
  {
   "cell_type": "code",
   "execution_count": 47,
   "metadata": {},
   "outputs": [],
   "source": [
    "cali_data['pos_words']= cali_data.tokens.apply(lambda x: get_pos(x))\n",
    "cali_data['neg_words']= cali_data.tokens.apply(lambda x: get_neg(x))"
   ]
  },
  {
   "cell_type": "code",
   "execution_count": 48,
   "metadata": {},
   "outputs": [],
   "source": [
    "cali_data['pos_count'] = cali_data.pos_words.apply(lambda x: len(x))\n",
    "cali_data['neg_count'] = cali_data.neg_words.apply(lambda x: len(x))"
   ]
  },
  {
   "cell_type": "code",
   "execution_count": 49,
   "metadata": {},
   "outputs": [],
   "source": [
    "# Drop unwanted columns\n",
    "cali_data = cali_data.drop(columns = ['tokens','pos_words','neg_words'])"
   ]
  },
  {
   "cell_type": "code",
   "execution_count": 50,
   "metadata": {},
   "outputs": [],
   "source": [
    "cali_data['percent_pos'] = cali_data['pos_count'] / (cali_data['pos_count'] + cali_data['neg_count'])\n",
    "cali_data['percent_neg'] = cali_data['neg_count'] / (cali_data['pos_count'] + cali_data['neg_count'])"
   ]
  },
  {
   "cell_type": "code",
   "execution_count": 51,
   "metadata": {},
   "outputs": [
    {
     "data": {
      "text/html": [
       "<div>\n",
       "<style scoped>\n",
       "    .dataframe tbody tr th:only-of-type {\n",
       "        vertical-align: middle;\n",
       "    }\n",
       "\n",
       "    .dataframe tbody tr th {\n",
       "        vertical-align: top;\n",
       "    }\n",
       "\n",
       "    .dataframe thead th {\n",
       "        text-align: right;\n",
       "    }\n",
       "</style>\n",
       "<table border=\"1\" class=\"dataframe\">\n",
       "  <thead>\n",
       "    <tr style=\"text-align: right;\">\n",
       "      <th></th>\n",
       "      <th>user_name</th>\n",
       "      <th>date</th>\n",
       "      <th>text</th>\n",
       "      <th>city</th>\n",
       "      <th>state</th>\n",
       "      <th>country</th>\n",
       "      <th>county</th>\n",
       "      <th>cumulative_total_doses</th>\n",
       "      <th>deaths</th>\n",
       "      <th>pos_count</th>\n",
       "      <th>neg_count</th>\n",
       "      <th>percent_pos</th>\n",
       "      <th>percent_neg</th>\n",
       "    </tr>\n",
       "  </thead>\n",
       "  <tbody>\n",
       "    <tr>\n",
       "      <th>0</th>\n",
       "      <td>Vaneet K Sandhu, MD</td>\n",
       "      <td>2020-12-26</td>\n",
       "      <td>Looking forward to #dosetwo of the #CovidVacci...</td>\n",
       "      <td>Loma Linda</td>\n",
       "      <td>CA</td>\n",
       "      <td>United States</td>\n",
       "      <td>San Bernardino</td>\n",
       "      <td>16982</td>\n",
       "      <td>72054</td>\n",
       "      <td>1</td>\n",
       "      <td>0</td>\n",
       "      <td>1.000000</td>\n",
       "      <td>0.000000</td>\n",
       "    </tr>\n",
       "    <tr>\n",
       "      <th>1</th>\n",
       "      <td>strix1 🐬 🐾♻️</td>\n",
       "      <td>2020-12-26</td>\n",
       "      <td>#Smokers? Smokers have priority over me? They ...</td>\n",
       "      <td>San Diego</td>\n",
       "      <td>CA</td>\n",
       "      <td>United States</td>\n",
       "      <td>San Diego</td>\n",
       "      <td>28406</td>\n",
       "      <td>72054</td>\n",
       "      <td>2</td>\n",
       "      <td>0</td>\n",
       "      <td>1.000000</td>\n",
       "      <td>0.000000</td>\n",
       "    </tr>\n",
       "    <tr>\n",
       "      <th>2</th>\n",
       "      <td>Pranav Garimella</td>\n",
       "      <td>2020-12-26</td>\n",
       "      <td>If you are able to receive the #CovidVaccine p...</td>\n",
       "      <td>San Diego</td>\n",
       "      <td>CA</td>\n",
       "      <td>United States</td>\n",
       "      <td>San Diego</td>\n",
       "      <td>28406</td>\n",
       "      <td>72054</td>\n",
       "      <td>2</td>\n",
       "      <td>0</td>\n",
       "      <td>1.000000</td>\n",
       "      <td>0.000000</td>\n",
       "    </tr>\n",
       "    <tr>\n",
       "      <th>3</th>\n",
       "      <td>Berkeley Limketkai</td>\n",
       "      <td>2020-12-26</td>\n",
       "      <td>Got #CovidVaccine today and experiencing nothi...</td>\n",
       "      <td>Los Angeles</td>\n",
       "      <td>CA</td>\n",
       "      <td>United States</td>\n",
       "      <td>Los Angeles</td>\n",
       "      <td>87858</td>\n",
       "      <td>72054</td>\n",
       "      <td>0</td>\n",
       "      <td>2</td>\n",
       "      <td>0.000000</td>\n",
       "      <td>1.000000</td>\n",
       "    </tr>\n",
       "    <tr>\n",
       "      <th>4</th>\n",
       "      <td>jshinPROmax</td>\n",
       "      <td>2020-12-26</td>\n",
       "      <td>Day 4 - arm is not as sore, mild headache \\n\\n...</td>\n",
       "      <td>Los Angeles</td>\n",
       "      <td>CA</td>\n",
       "      <td>United States</td>\n",
       "      <td>Los Angeles</td>\n",
       "      <td>87858</td>\n",
       "      <td>72054</td>\n",
       "      <td>1</td>\n",
       "      <td>2</td>\n",
       "      <td>0.333333</td>\n",
       "      <td>0.666667</td>\n",
       "    </tr>\n",
       "  </tbody>\n",
       "</table>\n",
       "</div>"
      ],
      "text/plain": [
       "             user_name       date  \\\n",
       "0  Vaneet K Sandhu, MD 2020-12-26   \n",
       "1         strix1 🐬 🐾♻️ 2020-12-26   \n",
       "2     Pranav Garimella 2020-12-26   \n",
       "3   Berkeley Limketkai 2020-12-26   \n",
       "4          jshinPROmax 2020-12-26   \n",
       "\n",
       "                                                text         city state  \\\n",
       "0  Looking forward to #dosetwo of the #CovidVacci...   Loma Linda    CA   \n",
       "1  #Smokers? Smokers have priority over me? They ...    San Diego    CA   \n",
       "2  If you are able to receive the #CovidVaccine p...    San Diego    CA   \n",
       "3  Got #CovidVaccine today and experiencing nothi...  Los Angeles    CA   \n",
       "4  Day 4 - arm is not as sore, mild headache \\n\\n...  Los Angeles    CA   \n",
       "\n",
       "         country          county  cumulative_total_doses  deaths  pos_count  \\\n",
       "0  United States  San Bernardino                   16982   72054          1   \n",
       "1  United States       San Diego                   28406   72054          2   \n",
       "2  United States       San Diego                   28406   72054          2   \n",
       "3  United States     Los Angeles                   87858   72054          0   \n",
       "4  United States     Los Angeles                   87858   72054          1   \n",
       "\n",
       "   neg_count  percent_pos  percent_neg  \n",
       "0          0     1.000000     0.000000  \n",
       "1          0     1.000000     0.000000  \n",
       "2          0     1.000000     0.000000  \n",
       "3          2     0.000000     1.000000  \n",
       "4          2     0.333333     0.666667  "
      ]
     },
     "execution_count": 51,
     "metadata": {},
     "output_type": "execute_result"
    }
   ],
   "source": [
    "cali_data.head()"
   ]
  },
  {
   "cell_type": "code",
   "execution_count": 52,
   "metadata": {},
   "outputs": [
    {
     "data": {
      "text/plain": [
       "user_name                 2522\n",
       "date                        81\n",
       "text                      4587\n",
       "city                       218\n",
       "state                        1\n",
       "country                      1\n",
       "county                      36\n",
       "cumulative_total_doses     876\n",
       "deaths                      80\n",
       "pos_count                    9\n",
       "neg_count                   10\n",
       "percent_pos                 31\n",
       "percent_neg                 31\n",
       "dtype: int64"
      ]
     },
     "execution_count": 52,
     "metadata": {},
     "output_type": "execute_result"
    }
   ],
   "source": [
    "cali_data.nunique()"
   ]
  },
  {
   "cell_type": "markdown",
   "metadata": {},
   "source": [
    "### Analysis"
   ]
  },
  {
   "cell_type": "markdown",
   "metadata": {},
   "source": [
    "* County Sentiment:"
   ]
  },
  {
   "cell_type": "code",
   "execution_count": 53,
   "metadata": {},
   "outputs": [
    {
     "data": {
      "text/html": [
       "<div>\n",
       "<style scoped>\n",
       "    .dataframe tbody tr th:only-of-type {\n",
       "        vertical-align: middle;\n",
       "    }\n",
       "\n",
       "    .dataframe tbody tr th {\n",
       "        vertical-align: top;\n",
       "    }\n",
       "\n",
       "    .dataframe thead th {\n",
       "        text-align: right;\n",
       "    }\n",
       "</style>\n",
       "<table border=\"1\" class=\"dataframe\">\n",
       "  <thead>\n",
       "    <tr style=\"text-align: right;\">\n",
       "      <th></th>\n",
       "      <th>cumulative_total_doses</th>\n",
       "      <th>deaths</th>\n",
       "      <th>percent_pos</th>\n",
       "    </tr>\n",
       "    <tr>\n",
       "      <th>county</th>\n",
       "      <th></th>\n",
       "      <th></th>\n",
       "      <th></th>\n",
       "    </tr>\n",
       "  </thead>\n",
       "  <tbody>\n",
       "    <tr>\n",
       "      <th>Los Angeles</th>\n",
       "      <td>4059770460</td>\n",
       "      <td>253284083</td>\n",
       "      <td>0.569917</td>\n",
       "    </tr>\n",
       "    <tr>\n",
       "      <th>San Francisco</th>\n",
       "      <td>189902708</td>\n",
       "      <td>106149896</td>\n",
       "      <td>0.596262</td>\n",
       "    </tr>\n",
       "    <tr>\n",
       "      <th>San Diego</th>\n",
       "      <td>337688973</td>\n",
       "      <td>58223011</td>\n",
       "      <td>0.587036</td>\n",
       "    </tr>\n",
       "    <tr>\n",
       "      <th>Orange</th>\n",
       "      <td>203490112</td>\n",
       "      <td>45284675</td>\n",
       "      <td>0.522773</td>\n",
       "    </tr>\n",
       "    <tr>\n",
       "      <th>Alameda</th>\n",
       "      <td>96835749</td>\n",
       "      <td>32813881</td>\n",
       "      <td>0.598625</td>\n",
       "    </tr>\n",
       "  </tbody>\n",
       "</table>\n",
       "</div>"
      ],
      "text/plain": [
       "               cumulative_total_doses     deaths  percent_pos\n",
       "county                                                       \n",
       "Los Angeles                4059770460  253284083     0.569917\n",
       "San Francisco               189902708  106149896     0.596262\n",
       "San Diego                   337688973   58223011     0.587036\n",
       "Orange                      203490112   45284675     0.522773\n",
       "Alameda                      96835749   32813881     0.598625"
      ]
     },
     "execution_count": 53,
     "metadata": {},
     "output_type": "execute_result"
    }
   ],
   "source": [
    "county_sent = cali_data.groupby('county').agg({'cumulative_total_doses':'sum','deaths':'sum','percent_pos':'mean'})\\\n",
    "                                                           .sort_values(by = 'deaths', ascending = False)\n",
    "\n",
    "county_sent.head()"
   ]
  },
  {
   "cell_type": "code",
   "execution_count": 54,
   "metadata": {},
   "outputs": [
    {
     "data": {
      "text/html": [
       "<div>\n",
       "<style scoped>\n",
       "    .dataframe tbody tr th:only-of-type {\n",
       "        vertical-align: middle;\n",
       "    }\n",
       "\n",
       "    .dataframe tbody tr th {\n",
       "        vertical-align: top;\n",
       "    }\n",
       "\n",
       "    .dataframe thead th {\n",
       "        text-align: right;\n",
       "    }\n",
       "</style>\n",
       "<table border=\"1\" class=\"dataframe\">\n",
       "  <thead>\n",
       "    <tr style=\"text-align: right;\">\n",
       "      <th></th>\n",
       "      <th>cumulative_total_doses</th>\n",
       "      <th>deaths</th>\n",
       "      <th>percent_pos</th>\n",
       "    </tr>\n",
       "    <tr>\n",
       "      <th>county</th>\n",
       "      <th></th>\n",
       "      <th></th>\n",
       "      <th></th>\n",
       "    </tr>\n",
       "  </thead>\n",
       "  <tbody>\n",
       "    <tr>\n",
       "      <th>San Benito</th>\n",
       "      <td>3749</td>\n",
       "      <td>119888</td>\n",
       "      <td>1.000000</td>\n",
       "    </tr>\n",
       "    <tr>\n",
       "      <th>Imperial</th>\n",
       "      <td>2794</td>\n",
       "      <td>86377</td>\n",
       "      <td>1.000000</td>\n",
       "    </tr>\n",
       "    <tr>\n",
       "      <th>Merced</th>\n",
       "      <td>8902</td>\n",
       "      <td>105948</td>\n",
       "      <td>1.000000</td>\n",
       "    </tr>\n",
       "    <tr>\n",
       "      <th>Tulare</th>\n",
       "      <td>400534</td>\n",
       "      <td>561220</td>\n",
       "      <td>0.833333</td>\n",
       "    </tr>\n",
       "    <tr>\n",
       "      <th>Marin</th>\n",
       "      <td>613149</td>\n",
       "      <td>837798</td>\n",
       "      <td>0.760000</td>\n",
       "    </tr>\n",
       "  </tbody>\n",
       "</table>\n",
       "</div>"
      ],
      "text/plain": [
       "            cumulative_total_doses  deaths  percent_pos\n",
       "county                                                 \n",
       "San Benito                    3749  119888     1.000000\n",
       "Imperial                      2794   86377     1.000000\n",
       "Merced                        8902  105948     1.000000\n",
       "Tulare                      400534  561220     0.833333\n",
       "Marin                       613149  837798     0.760000"
      ]
     },
     "execution_count": 54,
     "metadata": {},
     "output_type": "execute_result"
    }
   ],
   "source": [
    "county_sent = cali_data.groupby('county').agg({'cumulative_total_doses':'sum','deaths':'sum','percent_pos':'mean'})\\\n",
    "                                                           .sort_values(by = 'percent_pos',ascending = False)\n",
    "\n",
    "county_sent.head()"
   ]
  },
  {
   "cell_type": "code",
   "execution_count": 55,
   "metadata": {},
   "outputs": [
    {
     "data": {
      "text/html": [
       "<div>\n",
       "<style scoped>\n",
       "    .dataframe tbody tr th:only-of-type {\n",
       "        vertical-align: middle;\n",
       "    }\n",
       "\n",
       "    .dataframe tbody tr th {\n",
       "        vertical-align: top;\n",
       "    }\n",
       "\n",
       "    .dataframe thead th {\n",
       "        text-align: right;\n",
       "    }\n",
       "</style>\n",
       "<table border=\"1\" class=\"dataframe\">\n",
       "  <thead>\n",
       "    <tr style=\"text-align: right;\">\n",
       "      <th></th>\n",
       "      <th>cumulative_total_doses</th>\n",
       "      <th>deaths</th>\n",
       "      <th>percent_pos</th>\n",
       "    </tr>\n",
       "    <tr>\n",
       "      <th>county</th>\n",
       "      <th></th>\n",
       "      <th></th>\n",
       "      <th></th>\n",
       "    </tr>\n",
       "  </thead>\n",
       "  <tbody>\n",
       "    <tr>\n",
       "      <th>Santa Cruz</th>\n",
       "      <td>234354</td>\n",
       "      <td>251680</td>\n",
       "      <td>0.000000</td>\n",
       "    </tr>\n",
       "    <tr>\n",
       "      <th>Kings</th>\n",
       "      <td>32072</td>\n",
       "      <td>167347</td>\n",
       "      <td>0.000000</td>\n",
       "    </tr>\n",
       "    <tr>\n",
       "      <th>Humboldt</th>\n",
       "      <td>142591</td>\n",
       "      <td>659293</td>\n",
       "      <td>0.300000</td>\n",
       "    </tr>\n",
       "    <tr>\n",
       "      <th>Monterey</th>\n",
       "      <td>766014</td>\n",
       "      <td>1379553</td>\n",
       "      <td>0.408333</td>\n",
       "    </tr>\n",
       "    <tr>\n",
       "      <th>Kern</th>\n",
       "      <td>1640959</td>\n",
       "      <td>1452939</td>\n",
       "      <td>0.435185</td>\n",
       "    </tr>\n",
       "  </tbody>\n",
       "</table>\n",
       "</div>"
      ],
      "text/plain": [
       "            cumulative_total_doses   deaths  percent_pos\n",
       "county                                                  \n",
       "Santa Cruz                  234354   251680     0.000000\n",
       "Kings                        32072   167347     0.000000\n",
       "Humboldt                    142591   659293     0.300000\n",
       "Monterey                    766014  1379553     0.408333\n",
       "Kern                       1640959  1452939     0.435185"
      ]
     },
     "execution_count": 55,
     "metadata": {},
     "output_type": "execute_result"
    }
   ],
   "source": [
    "county_sent = cali_data.groupby('county').agg({'cumulative_total_doses':'sum','deaths':'sum','percent_pos':'mean'})\\\n",
    "                                                           .sort_values(by = 'percent_pos',ascending = True)\n",
    "\n",
    "county_sent.head()"
   ]
  },
  {
   "cell_type": "code",
   "execution_count": 56,
   "metadata": {},
   "outputs": [
    {
     "data": {
      "text/plain": [
       "[Text(0.5, 1.0, 'Doses vs. Deaths'),\n",
       " Text(0.5, 0, 'Cumulative Doses'),\n",
       " Text(0, 0.5, 'Deaths')]"
      ]
     },
     "execution_count": 56,
     "metadata": {},
     "output_type": "execute_result"
    },
    {
     "data": {
      "image/png": "[encoded data removed]",
      "text/plain": [
       "<Figure size 432x288 with 1 Axes>"
      ]
     },
     "metadata": {
      "needs_background": "light"
     },
     "output_type": "display_data"
    }
   ],
   "source": [
    "sns.scatterplot(x = \"cumulative_total_doses\", y = \"deaths\", data = cali_data)\\\n",
    "    .set(title = 'Doses vs. Deaths', xlabel = 'Cumulative Doses', ylabel = 'Deaths')"
   ]
  },
  {
   "cell_type": "markdown",
   "metadata": {},
   "source": [
    "### Multicollinearity:"
   ]
  },
  {
   "cell_type": "code",
   "execution_count": 57,
   "metadata": {},
   "outputs": [
    {
     "name": "stdout",
     "output_type": "stream",
     "text": [
      "<class 'pandas.core.frame.DataFrame'>\n",
      "Int64Index: 4587 entries, 0 to 4586\n",
      "Data columns (total 13 columns):\n",
      " #   Column                  Non-Null Count  Dtype         \n",
      "---  ------                  --------------  -----         \n",
      " 0   user_name               4587 non-null   object        \n",
      " 1   date                    4587 non-null   datetime64[ns]\n",
      " 2   text                    4587 non-null   object        \n",
      " 3   city                    4587 non-null   object        \n",
      " 4   state                   4587 non-null   object        \n",
      " 5   country                 4562 non-null   object        \n",
      " 6   county                  4587 non-null   object        \n",
      " 7   cumulative_total_doses  4587 non-null   int64         \n",
      " 8   deaths                  4587 non-null   int64         \n",
      " 9   pos_count               4587 non-null   int64         \n",
      " 10  neg_count               4587 non-null   int64         \n",
      " 11  percent_pos             4038 non-null   float64       \n",
      " 12  percent_neg             4038 non-null   float64       \n",
      "dtypes: datetime64[ns](1), float64(2), int64(4), object(6)\n",
      "memory usage: 501.7+ KB\n"
     ]
    }
   ],
   "source": [
    "cali_data.info()"
   ]
  },
  {
   "cell_type": "code",
   "execution_count": 58,
   "metadata": {},
   "outputs": [],
   "source": [
    "mult = cali_data[['cumulative_total_doses','deaths','percent_pos']]\n",
    "#mult = pd.get_dummies(data=mult, columns = ['county'], drop_first = True, dummy_na = True)"
   ]
  },
  {
   "cell_type": "code",
   "execution_count": 59,
   "metadata": {},
   "outputs": [],
   "source": [
    "# Source: https://stackoverflow.com/questions/17778394/list-highest-correlation-pairs-from-a-large-correlation-matrix-in-pandas\n",
    "\n",
    "def get_redundant_pairs(df):\n",
    "    # Get diagonal and lower triangular pairs of correlation matrix\n",
    "    pairs_to_drop = set()\n",
    "    cols = df.columns\n",
    "    for i in range(0, df.shape[1]):\n",
    "        for j in range(0, i+1):\n",
    "            pairs_to_drop.add((cols[i], cols[j]))\n",
    "    return pairs_to_drop\n",
    "\n",
    "def get_top_abs_correlations(df, n=5):\n",
    "    au_corr = df.corr().abs().unstack()\n",
    "    labels_to_drop = get_redundant_pairs(df)\n",
    "    au_corr = au_corr.drop(labels=labels_to_drop).sort_values(ascending=False)\n",
    "    return au_corr[0:n]"
   ]
  },
  {
   "cell_type": "code",
   "execution_count": 60,
   "metadata": {
    "scrolled": false
   },
   "outputs": [
    {
     "name": "stdout",
     "output_type": "stream",
     "text": [
      "Top Correlations between Variables:\n",
      "cumulative_total_doses  deaths         0.603767\n",
      "deaths                  percent_pos    0.039459\n",
      "cumulative_total_doses  percent_pos    0.012439\n",
      "dtype: float64\n"
     ]
    }
   ],
   "source": [
    "print(\"Top Correlations between Variables:\")\n",
    "print(get_top_abs_correlations(mult, 20))"
   ]
  },
  {
   "cell_type": "markdown",
   "metadata": {},
   "source": [
    "### Extracting Tweets for Each Vaccine Brand"
   ]
  },
  {
   "cell_type": "markdown",
   "metadata": {},
   "source": [
    "* Pfizer:"
   ]
  },
  {
   "cell_type": "code",
   "execution_count": 61,
   "metadata": {},
   "outputs": [],
   "source": [
    "pfizer = tweets[tweets['text'].str.contains('pfizer')]"
   ]
  },
  {
   "cell_type": "code",
   "execution_count": 62,
   "metadata": {
    "scrolled": true
   },
   "outputs": [
    {
     "name": "stderr",
     "output_type": "stream",
     "text": [
      "100%|██████████| 1208/1208 [00:01<00:00, 1056.57it/s]\n",
      "<ipython-input-62-407ab589ba78>:1: SettingWithCopyWarning: \n",
      "A value is trying to be set on a copy of a slice from a DataFrame.\n",
      "Try using .loc[row_indexer,col_indexer] = value instead\n",
      "\n",
      "See the caveats in the documentation: https://pandas.pydata.org/pandas-docs/stable/user_guide/indexing.html#returning-a-view-versus-a-copy\n",
      "  pfizer['tokens'] = pfizer.text.progress_apply(lambda x: get_tokens(x))\n"
     ]
    }
   ],
   "source": [
    "pfizer['tokens'] = pfizer.text.progress_apply(lambda x: get_tokens(x))"
   ]
  },
  {
   "cell_type": "code",
   "execution_count": 63,
   "metadata": {},
   "outputs": [
    {
     "name": "stderr",
     "output_type": "stream",
     "text": [
      "<ipython-input-63-204732509ebe>:1: SettingWithCopyWarning: \n",
      "A value is trying to be set on a copy of a slice from a DataFrame.\n",
      "Try using .loc[row_indexer,col_indexer] = value instead\n",
      "\n",
      "See the caveats in the documentation: https://pandas.pydata.org/pandas-docs/stable/user_guide/indexing.html#returning-a-view-versus-a-copy\n",
      "  pfizer['pos_words']= pfizer.tokens.apply(lambda x: get_pos(x))\n",
      "<ipython-input-63-204732509ebe>:2: SettingWithCopyWarning: \n",
      "A value is trying to be set on a copy of a slice from a DataFrame.\n",
      "Try using .loc[row_indexer,col_indexer] = value instead\n",
      "\n",
      "See the caveats in the documentation: https://pandas.pydata.org/pandas-docs/stable/user_guide/indexing.html#returning-a-view-versus-a-copy\n",
      "  pfizer['neg_words']= pfizer.tokens.apply(lambda x: get_neg(x))\n",
      "<ipython-input-63-204732509ebe>:4: SettingWithCopyWarning: \n",
      "A value is trying to be set on a copy of a slice from a DataFrame.\n",
      "Try using .loc[row_indexer,col_indexer] = value instead\n",
      "\n",
      "See the caveats in the documentation: https://pandas.pydata.org/pandas-docs/stable/user_guide/indexing.html#returning-a-view-versus-a-copy\n",
      "  pfizer['pos_count'] = pfizer.pos_words.apply(lambda x: len(x))\n",
      "<ipython-input-63-204732509ebe>:5: SettingWithCopyWarning: \n",
      "A value is trying to be set on a copy of a slice from a DataFrame.\n",
      "Try using .loc[row_indexer,col_indexer] = value instead\n",
      "\n",
      "See the caveats in the documentation: https://pandas.pydata.org/pandas-docs/stable/user_guide/indexing.html#returning-a-view-versus-a-copy\n",
      "  pfizer['neg_count'] = pfizer.neg_words.apply(lambda x: len(x))\n"
     ]
    }
   ],
   "source": [
    "pfizer['pos_words']= pfizer.tokens.apply(lambda x: get_pos(x))\n",
    "pfizer['neg_words']= pfizer.tokens.apply(lambda x: get_neg(x))\n",
    "\n",
    "pfizer['pos_count'] = pfizer.pos_words.apply(lambda x: len(x))\n",
    "pfizer['neg_count'] = pfizer.neg_words.apply(lambda x: len(x))\n",
    "\n",
    "# Drop unwanted columns\n",
    "pfizer = pfizer.drop(columns = ['pos_words','neg_words'])\n",
    "\n",
    "pfizer['total_count'] = pfizer.tokens.apply(lambda x: len(x))\n",
    "pfizer['percent_pos'] = pfizer['pos_count'] / (pfizer['total_count'])\n",
    "pfizer['percent_neg'] = pfizer['neg_count'] / (pfizer['total_count'])"
   ]
  },
  {
   "cell_type": "code",
   "execution_count": 64,
   "metadata": {},
   "outputs": [],
   "source": [
    "pfizer_pos = pfizer.percent_pos.mean()\n",
    "pfizer_neg = pfizer.percent_neg.mean()"
   ]
  },
  {
   "cell_type": "markdown",
   "metadata": {},
   "source": [
    "* Moderna:"
   ]
  },
  {
   "cell_type": "code",
   "execution_count": 65,
   "metadata": {},
   "outputs": [],
   "source": [
    "moderna = tweets[tweets['text'].str.contains('moderna')]"
   ]
  },
  {
   "cell_type": "code",
   "execution_count": 66,
   "metadata": {},
   "outputs": [
    {
     "name": "stderr",
     "output_type": "stream",
     "text": [
      "100%|██████████| 1025/1025 [00:01<00:00, 977.99it/s]\n",
      "<ipython-input-66-6f9b69308e70>:1: SettingWithCopyWarning: \n",
      "A value is trying to be set on a copy of a slice from a DataFrame.\n",
      "Try using .loc[row_indexer,col_indexer] = value instead\n",
      "\n",
      "See the caveats in the documentation: https://pandas.pydata.org/pandas-docs/stable/user_guide/indexing.html#returning-a-view-versus-a-copy\n",
      "  moderna['tokens'] = moderna.text.progress_apply(lambda x: get_tokens(x))\n"
     ]
    }
   ],
   "source": [
    "moderna['tokens'] = moderna.text.progress_apply(lambda x: get_tokens(x))"
   ]
  },
  {
   "cell_type": "code",
   "execution_count": 67,
   "metadata": {},
   "outputs": [
    {
     "name": "stderr",
     "output_type": "stream",
     "text": [
      "<ipython-input-67-a412d564b453>:1: SettingWithCopyWarning: \n",
      "A value is trying to be set on a copy of a slice from a DataFrame.\n",
      "Try using .loc[row_indexer,col_indexer] = value instead\n",
      "\n",
      "See the caveats in the documentation: https://pandas.pydata.org/pandas-docs/stable/user_guide/indexing.html#returning-a-view-versus-a-copy\n",
      "  moderna['pos_words']= moderna.tokens.apply(lambda x: get_pos(x))\n",
      "<ipython-input-67-a412d564b453>:2: SettingWithCopyWarning: \n",
      "A value is trying to be set on a copy of a slice from a DataFrame.\n",
      "Try using .loc[row_indexer,col_indexer] = value instead\n",
      "\n",
      "See the caveats in the documentation: https://pandas.pydata.org/pandas-docs/stable/user_guide/indexing.html#returning-a-view-versus-a-copy\n",
      "  moderna['neg_words']= moderna.tokens.apply(lambda x: get_neg(x))\n",
      "<ipython-input-67-a412d564b453>:4: SettingWithCopyWarning: \n",
      "A value is trying to be set on a copy of a slice from a DataFrame.\n",
      "Try using .loc[row_indexer,col_indexer] = value instead\n",
      "\n",
      "See the caveats in the documentation: https://pandas.pydata.org/pandas-docs/stable/user_guide/indexing.html#returning-a-view-versus-a-copy\n",
      "  moderna['pos_count'] = moderna.pos_words.apply(lambda x: len(x))\n",
      "<ipython-input-67-a412d564b453>:5: SettingWithCopyWarning: \n",
      "A value is trying to be set on a copy of a slice from a DataFrame.\n",
      "Try using .loc[row_indexer,col_indexer] = value instead\n",
      "\n",
      "See the caveats in the documentation: https://pandas.pydata.org/pandas-docs/stable/user_guide/indexing.html#returning-a-view-versus-a-copy\n",
      "  moderna['neg_count'] = moderna.neg_words.apply(lambda x: len(x))\n"
     ]
    }
   ],
   "source": [
    "moderna['pos_words']= moderna.tokens.apply(lambda x: get_pos(x))\n",
    "moderna['neg_words']= moderna.tokens.apply(lambda x: get_neg(x))\n",
    "\n",
    "moderna['pos_count'] = moderna.pos_words.apply(lambda x: len(x))\n",
    "moderna['neg_count'] = moderna.neg_words.apply(lambda x: len(x))\n",
    "\n",
    "# Drop unwanted columns\n",
    "moderna = moderna.drop(columns = ['pos_words','neg_words'])\n",
    "\n",
    "moderna['total_count'] = moderna.tokens.apply(lambda x: len(x))\n",
    "moderna['percent_pos'] = moderna['pos_count'] / (moderna['total_count'])\n",
    "moderna['percent_neg'] = moderna['neg_count'] / (moderna['total_count'])"
   ]
  },
  {
   "cell_type": "code",
   "execution_count": 68,
   "metadata": {},
   "outputs": [],
   "source": [
    "moderna_pos = moderna.percent_pos.mean()\n",
    "moderna_neg = moderna.percent_neg.mean()"
   ]
  },
  {
   "cell_type": "markdown",
   "metadata": {},
   "source": [
    "* Johnson & Johnson:"
   ]
  },
  {
   "cell_type": "code",
   "execution_count": 69,
   "metadata": {},
   "outputs": [],
   "source": [
    "jj = tweets[tweets['text'].str.contains('johnson' or 'j&')]"
   ]
  },
  {
   "cell_type": "code",
   "execution_count": 70,
   "metadata": {
    "scrolled": true
   },
   "outputs": [
    {
     "data": {
      "text/plain": [
       "149"
      ]
     },
     "execution_count": 70,
     "metadata": {},
     "output_type": "execute_result"
    }
   ],
   "source": [
    "len(jj)"
   ]
  },
  {
   "cell_type": "code",
   "execution_count": 71,
   "metadata": {
    "scrolled": true
   },
   "outputs": [
    {
     "name": "stderr",
     "output_type": "stream",
     "text": [
      "100%|██████████| 149/149 [00:00<00:00, 1027.74it/s]\n",
      "<ipython-input-71-87a42cd4376a>:1: SettingWithCopyWarning: \n",
      "A value is trying to be set on a copy of a slice from a DataFrame.\n",
      "Try using .loc[row_indexer,col_indexer] = value instead\n",
      "\n",
      "See the caveats in the documentation: https://pandas.pydata.org/pandas-docs/stable/user_guide/indexing.html#returning-a-view-versus-a-copy\n",
      "  jj['tokens'] = jj.text.progress_apply(lambda x: get_tokens(x))\n"
     ]
    }
   ],
   "source": [
    "jj['tokens'] = jj.text.progress_apply(lambda x: get_tokens(x))"
   ]
  },
  {
   "cell_type": "code",
   "execution_count": 72,
   "metadata": {},
   "outputs": [
    {
     "name": "stderr",
     "output_type": "stream",
     "text": [
      "<ipython-input-72-41a1fbf9c02c>:1: SettingWithCopyWarning: \n",
      "A value is trying to be set on a copy of a slice from a DataFrame.\n",
      "Try using .loc[row_indexer,col_indexer] = value instead\n",
      "\n",
      "See the caveats in the documentation: https://pandas.pydata.org/pandas-docs/stable/user_guide/indexing.html#returning-a-view-versus-a-copy\n",
      "  jj['pos_words']= jj.tokens.apply(lambda x: get_pos(x))\n",
      "<ipython-input-72-41a1fbf9c02c>:2: SettingWithCopyWarning: \n",
      "A value is trying to be set on a copy of a slice from a DataFrame.\n",
      "Try using .loc[row_indexer,col_indexer] = value instead\n",
      "\n",
      "See the caveats in the documentation: https://pandas.pydata.org/pandas-docs/stable/user_guide/indexing.html#returning-a-view-versus-a-copy\n",
      "  jj['neg_words']= jj.tokens.apply(lambda x: get_neg(x))\n",
      "<ipython-input-72-41a1fbf9c02c>:4: SettingWithCopyWarning: \n",
      "A value is trying to be set on a copy of a slice from a DataFrame.\n",
      "Try using .loc[row_indexer,col_indexer] = value instead\n",
      "\n",
      "See the caveats in the documentation: https://pandas.pydata.org/pandas-docs/stable/user_guide/indexing.html#returning-a-view-versus-a-copy\n",
      "  jj['pos_count'] = jj.pos_words.apply(lambda x: len(x))\n",
      "<ipython-input-72-41a1fbf9c02c>:5: SettingWithCopyWarning: \n",
      "A value is trying to be set on a copy of a slice from a DataFrame.\n",
      "Try using .loc[row_indexer,col_indexer] = value instead\n",
      "\n",
      "See the caveats in the documentation: https://pandas.pydata.org/pandas-docs/stable/user_guide/indexing.html#returning-a-view-versus-a-copy\n",
      "  jj['neg_count'] = jj.neg_words.apply(lambda x: len(x))\n"
     ]
    }
   ],
   "source": [
    "jj['pos_words']= jj.tokens.apply(lambda x: get_pos(x))\n",
    "jj['neg_words']= jj.tokens.apply(lambda x: get_neg(x))\n",
    "\n",
    "jj['pos_count'] = jj.pos_words.apply(lambda x: len(x))\n",
    "jj['neg_count'] = jj.neg_words.apply(lambda x: len(x))\n",
    "\n",
    "# Drop unwanted columns\n",
    "jj = jj.drop(columns = ['pos_words','neg_words'])\n",
    "\n",
    "jj['total_count'] = jj.tokens.apply(lambda x: len(x))\n",
    "jj['percent_pos'] = jj['pos_count'] / (jj['total_count'])\n",
    "jj['percent_neg'] = jj['neg_count'] / (jj['total_count'])"
   ]
  },
  {
   "cell_type": "code",
   "execution_count": 73,
   "metadata": {},
   "outputs": [],
   "source": [
    "jj_pos = jj.percent_pos.mean()\n",
    "jj_neg = jj.percent_neg.mean()"
   ]
  },
  {
   "cell_type": "markdown",
   "metadata": {},
   "source": [
    "* All brands:"
   ]
  },
  {
   "cell_type": "code",
   "execution_count": 74,
   "metadata": {
    "scrolled": true
   },
   "outputs": [
    {
     "name": "stderr",
     "output_type": "stream",
     "text": [
      "100%|██████████| 171782/171782 [02:27<00:00, 1167.63it/s]\n"
     ]
    }
   ],
   "source": [
    "tweets = tweets[['text']]\n",
    "tweets['tokens'] = tweets.text.progress_apply(lambda x: get_tokens(x))"
   ]
  },
  {
   "cell_type": "code",
   "execution_count": 77,
   "metadata": {},
   "outputs": [],
   "source": [
    "tweets['pos_words']= tweets.tokens.apply(lambda x: get_pos(x))\n",
    "tweets['neg_words']= tweets.tokens.apply(lambda x: get_neg(x))\n",
    "\n",
    "tweets['pos_count'] = tweets.pos_words.apply(lambda x: len(x))\n",
    "tweets['neg_count'] = tweets.neg_words.apply(lambda x: len(x))\n",
    "\n",
    "# Drop unwanted columns\n",
    "tweets = tweets.drop(columns = ['pos_words','neg_words'])\n",
    "\n",
    "tweets['total_count'] = tweets.tokens.apply(lambda x: len(x))\n",
    "tweets['percent_pos'] = tweets['pos_count'] / (tweets['total_count'])\n",
    "tweets['percent_neg'] = tweets['neg_count'] / (tweets['total_count'])"
   ]
  },
  {
   "cell_type": "code",
   "execution_count": 78,
   "metadata": {},
   "outputs": [],
   "source": [
    "tweets_pos = tweets.percent_pos.mean()\n",
    "tweets_neg = tweets.percent_neg.mean()"
   ]
  },
  {
   "cell_type": "markdown",
   "metadata": {},
   "source": [
    "### Percent Positive Tweets Analysis"
   ]
  },
  {
   "cell_type": "code",
   "execution_count": 79,
   "metadata": {},
   "outputs": [
    {
     "name": "stdout",
     "output_type": "stream",
     "text": [
      "On average, the percent of positive words count for Pfizer is 0.09092627978338859\n",
      "On average, the percent of positive words count for Moderna is 0.0775437527419491\n",
      "On average, the percent of positive words count for J&J is 0.08238409379473138\n",
      "On average, the percent of positive words count COVID vaccines is 0.10358571678180302\n"
     ]
    }
   ],
   "source": [
    "print(\"On average, the percent of positive words count for Pfizer is \" + str(pfizer_pos))\n",
    "print(\"On average, the percent of positive words count for Moderna is \" + str(moderna_pos))\n",
    "print(\"On average, the percent of positive words count for J&J is \" + str(jj_pos))\n",
    "print(\"On average, the percent of positive words count COVID vaccines is \" + str(tweets_pos))"
   ]
  },
  {
   "cell_type": "code",
   "execution_count": 80,
   "metadata": {},
   "outputs": [
    {
     "name": "stdout",
     "output_type": "stream",
     "text": [
      "On average, the percent of negative words count for Pfizer is 0.048949657092760904\n",
      "On average, the percent of negative words count for Moderna is 0.055304434433285955\n",
      "On average, the percent of negative words count for J&J is 0.049154383314533846\n",
      "On average, the percent of negative words count COVID vaccines is 0.06702943146182269\n"
     ]
    }
   ],
   "source": [
    "print(\"On average, the percent of negative words count for Pfizer is \" + str(pfizer_neg))\n",
    "print(\"On average, the percent of negative words count for Moderna is \" + str(moderna_neg))\n",
    "print(\"On average, the percent of negative words count for J&J is \" + str(jj_neg))\n",
    "print(\"On average, the percent of negative words count COVID vaccines is \" + str(tweets_neg))"
   ]
  }
 ],
 "metadata": {
  "kernelspec": {
   "display_name": "Python 3",
   "language": "python",
   "name": "python3"
  },
  "language_info": {
   "codemirror_mode": {
    "name": "ipython",
    "version": 3
   },
   "file_extension": ".py",
   "mimetype": "text/x-python",
   "name": "python",
   "nbconvert_exporter": "python",
   "pygments_lexer": "ipython3",
   "version": "3.8.5"
  }
 },
 "nbformat": 4,
 "nbformat_minor": 4
}
