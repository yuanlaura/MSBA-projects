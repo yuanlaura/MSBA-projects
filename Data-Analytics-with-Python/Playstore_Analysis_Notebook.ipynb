{
 "cells": [
  {
   "cell_type": "markdown",
   "metadata": {},
   "source": [
    "# Google Play Store and Apple App Store Analysis"
   ]
  },
  {
   "cell_type": "markdown",
   "metadata": {},
   "source": [
    "### Final Project"
   ]
  },
  {
   "cell_type": "markdown",
   "metadata": {},
   "source": [
    "Group 7\n",
    "Nicolette Sauramba,\n",
    "Laura Yuan,\n",
    "Yu Hsuan Huang"
   ]
  },
  {
   "cell_type": "code",
   "execution_count": 1,
   "metadata": {},
   "outputs": [],
   "source": [
    "# Basics\n",
    "import pandas as pd\n",
    "import numpy as np\n",
    "import seaborn as sns\n",
    "import warnings\n",
    "import matplotlib.pyplot as plt\n",
    "import sklearn as sk\n",
    "import sklearn.tree as tree\n",
    "from IPython.display import Image  \n",
    "import pydotplus\n",
    "\n",
    "from IPython.core.interactiveshell import InteractiveShell\n",
    "InteractiveShell.ast_node_interactivity = \"all\"\n",
    "\n",
    "warnings.filterwarnings('ignore')\n",
    "\n",
    "# Reading the file\n",
    "data = pd.read_csv('Google-Playstore.csv')\n",
    "apple = pd.read_csv('AppleStore.csv')"
   ]
  },
  {
   "cell_type": "markdown",
   "metadata": {},
   "source": [
    "### Our goal is to discover which categories, applications, and developers that are currently popular in the market. In order to do so, we analyzed Google Play store and Apple App store data in order to evaluate the trends in the app market. "
   ]
  },
  {
   "cell_type": "markdown",
   "metadata": {},
   "source": [
    "## <div class=\"alert alert-block alert-info\">Data Description<div>"
   ]
  },
  {
   "cell_type": "markdown",
   "metadata": {},
   "source": [
    "#### Sources:"
   ]
  },
  {
   "cell_type": "markdown",
   "metadata": {},
   "source": [
    "Google Playstore data: https://www.kaggle.com/gauthamp10/google-playstore-apps"
   ]
  },
  {
   "cell_type": "markdown",
   "metadata": {},
   "source": [
    "*  App Names\n",
    "*  Category (Education, Travel & Local, *Food...etc.)\n",
    "*  Rating (From 0.0-5.0)\n",
    "*  Installs\n",
    "*  Free (True or False) / Price\n",
    "*  Release Date\n",
    "*  Ad Supported (True or False)\n",
    "*  Editor’s Choice (True or False)"
   ]
  },
  {
   "cell_type": "markdown",
   "metadata": {},
   "source": [
    "Apple App Store data: https://www.kaggle.com/cmqub19/763k-ios-app-info"
   ]
  },
  {
   "cell_type": "markdown",
   "metadata": {},
   "source": [
    "*  App Names\n",
    "*  Category (Education, Travel & Local, *Food...etc.)\n",
    "*  Rating (From 0.0-5.0)\n",
    "*  Number of Ratings (which will be used as # of installs)\n",
    "*  Free (True or False) / Price\n",
    "*  Release Date"
   ]
  },
  {
   "cell_type": "code",
   "execution_count": 3,
   "metadata": {
    "scrolled": false
   },
   "outputs": [
    {
     "name": "stdout",
     "output_type": "stream",
     "text": [
      "The length of the first data on Google Play Store apps is 603047\n",
      "The length of the second data on Apple App Store apps is 763831\n"
     ]
    }
   ],
   "source": [
    "print(\"The length of the first data on Google Play Store apps is \" + str(len(data)))\n",
    "print(\"The length of the second data on Apple App Store apps is \" + str(len(apple)))"
   ]
  },
  {
   "cell_type": "markdown",
   "metadata": {},
   "source": [
    "#### Data Frames"
   ]
  },
  {
   "cell_type": "code",
   "execution_count": 4,
   "metadata": {},
   "outputs": [
    {
     "data": {
      "text/html": [
       "<div>\n",
       "<style scoped>\n",
       "    .dataframe tbody tr th:only-of-type {\n",
       "        vertical-align: middle;\n",
       "    }\n",
       "\n",
       "    .dataframe tbody tr th {\n",
       "        vertical-align: top;\n",
       "    }\n",
       "\n",
       "    .dataframe thead th {\n",
       "        text-align: right;\n",
       "    }\n",
       "</style>\n",
       "<table border=\"1\" class=\"dataframe\">\n",
       "  <thead>\n",
       "    <tr style=\"text-align: right;\">\n",
       "      <th></th>\n",
       "      <th>App Name</th>\n",
       "      <th>App Id</th>\n",
       "      <th>Category</th>\n",
       "      <th>Rating</th>\n",
       "      <th>Rating Count</th>\n",
       "      <th>Installs</th>\n",
       "      <th>Minimum Installs</th>\n",
       "      <th>Maximum Installs</th>\n",
       "      <th>Free</th>\n",
       "      <th>Price</th>\n",
       "      <th>...</th>\n",
       "      <th>Developer Id</th>\n",
       "      <th>Developer Website</th>\n",
       "      <th>Developer Email</th>\n",
       "      <th>Released</th>\n",
       "      <th>Last Updated</th>\n",
       "      <th>Content Rating</th>\n",
       "      <th>Privacy Policy</th>\n",
       "      <th>Ad Supported</th>\n",
       "      <th>In App Purchases</th>\n",
       "      <th>Editors Choice</th>\n",
       "    </tr>\n",
       "  </thead>\n",
       "  <tbody>\n",
       "    <tr>\n",
       "      <th>0</th>\n",
       "      <td>foodpanda - Local Food &amp; Grocery Delivery</td>\n",
       "      <td>com.global.foodpanda.android</td>\n",
       "      <td>Food &amp; Drink</td>\n",
       "      <td>4.4</td>\n",
       "      <td>1258493.0</td>\n",
       "      <td>10,000,000+</td>\n",
       "      <td>10000000.0</td>\n",
       "      <td>48828081</td>\n",
       "      <td>True</td>\n",
       "      <td>0.0</td>\n",
       "      <td>...</td>\n",
       "      <td>Foodpanda GmbH a subsidiary of Delivery Hero SE</td>\n",
       "      <td>http://foodpanda.com</td>\n",
       "      <td>appsupport@foodpanda.com</td>\n",
       "      <td>Nov 19, 2013</td>\n",
       "      <td>2020-07-07 00:14:05</td>\n",
       "      <td>Everyone</td>\n",
       "      <td>https://www.foodpanda.sg/contents/privacy.htm</td>\n",
       "      <td>False</td>\n",
       "      <td>False</td>\n",
       "      <td>False</td>\n",
       "    </tr>\n",
       "    <tr>\n",
       "      <th>1</th>\n",
       "      <td>Tripadvisor Hotel, Flight &amp; Restaurant Bookings</td>\n",
       "      <td>com.tripadvisor.tripadvisor</td>\n",
       "      <td>Travel &amp; Local</td>\n",
       "      <td>4.4</td>\n",
       "      <td>1360172.0</td>\n",
       "      <td>100,000,000+</td>\n",
       "      <td>100000000.0</td>\n",
       "      <td>371284181</td>\n",
       "      <td>True</td>\n",
       "      <td>0.0</td>\n",
       "      <td>...</td>\n",
       "      <td>Tripadvisor</td>\n",
       "      <td>https://www.tripadvisor.com/help</td>\n",
       "      <td>mobilehelp@tripadvisor.com</td>\n",
       "      <td>Jul 12, 2010</td>\n",
       "      <td>2020-07-02 20:10:48</td>\n",
       "      <td>Everyone</td>\n",
       "      <td>https://www.tripadvisor.com/pages/privacy.html</td>\n",
       "      <td>True</td>\n",
       "      <td>False</td>\n",
       "      <td>False</td>\n",
       "    </tr>\n",
       "  </tbody>\n",
       "</table>\n",
       "<p>2 rows × 23 columns</p>\n",
       "</div>"
      ],
      "text/plain": [
       "                                          App Name  \\\n",
       "0        foodpanda - Local Food & Grocery Delivery   \n",
       "1  Tripadvisor Hotel, Flight & Restaurant Bookings   \n",
       "\n",
       "                         App Id        Category  Rating  Rating Count  \\\n",
       "0  com.global.foodpanda.android    Food & Drink     4.4     1258493.0   \n",
       "1   com.tripadvisor.tripadvisor  Travel & Local     4.4     1360172.0   \n",
       "\n",
       "       Installs  Minimum Installs  Maximum Installs  Free  Price  ...  \\\n",
       "0   10,000,000+        10000000.0          48828081  True    0.0  ...   \n",
       "1  100,000,000+       100000000.0         371284181  True    0.0  ...   \n",
       "\n",
       "                                      Developer Id  \\\n",
       "0  Foodpanda GmbH a subsidiary of Delivery Hero SE   \n",
       "1                                      Tripadvisor   \n",
       "\n",
       "                  Developer Website             Developer Email      Released  \\\n",
       "0              http://foodpanda.com    appsupport@foodpanda.com  Nov 19, 2013   \n",
       "1  https://www.tripadvisor.com/help  mobilehelp@tripadvisor.com  Jul 12, 2010   \n",
       "\n",
       "          Last Updated Content Rating  \\\n",
       "0  2020-07-07 00:14:05       Everyone   \n",
       "1  2020-07-02 20:10:48       Everyone   \n",
       "\n",
       "                                   Privacy Policy Ad Supported  \\\n",
       "0   https://www.foodpanda.sg/contents/privacy.htm        False   \n",
       "1  https://www.tripadvisor.com/pages/privacy.html         True   \n",
       "\n",
       "  In App Purchases Editors Choice  \n",
       "0            False          False  \n",
       "1            False          False  \n",
       "\n",
       "[2 rows x 23 columns]"
      ]
     },
     "execution_count": 4,
     "metadata": {},
     "output_type": "execute_result"
    }
   ],
   "source": [
    "data.head(2)"
   ]
  },
  {
   "cell_type": "code",
   "execution_count": 5,
   "metadata": {},
   "outputs": [
    {
     "data": {
      "text/html": [
       "<div>\n",
       "<style scoped>\n",
       "    .dataframe tbody tr th:only-of-type {\n",
       "        vertical-align: middle;\n",
       "    }\n",
       "\n",
       "    .dataframe tbody tr th {\n",
       "        vertical-align: top;\n",
       "    }\n",
       "\n",
       "    .dataframe thead th {\n",
       "        text-align: right;\n",
       "    }\n",
       "</style>\n",
       "<table border=\"1\" class=\"dataframe\">\n",
       "  <thead>\n",
       "    <tr style=\"text-align: right;\">\n",
       "      <th></th>\n",
       "      <th>_id</th>\n",
       "      <th>IOS_App_Id</th>\n",
       "      <th>Title</th>\n",
       "      <th>Developer_Name</th>\n",
       "      <th>Developer_IOS_Id</th>\n",
       "      <th>IOS_Store_Url</th>\n",
       "      <th>Seller_Official_Website</th>\n",
       "      <th>Age_Rating</th>\n",
       "      <th>Total_Average_Rating</th>\n",
       "      <th>Total_Number_of_Ratings</th>\n",
       "      <th>Average_Rating_For_Version</th>\n",
       "      <th>Number_of_Ratings_For_Version</th>\n",
       "      <th>Original_Release_Date</th>\n",
       "      <th>Current_Version_Release_Date</th>\n",
       "      <th>Price_USD</th>\n",
       "      <th>Primary_Genre</th>\n",
       "      <th>All_Genres</th>\n",
       "      <th>Languages</th>\n",
       "      <th>Description</th>\n",
       "    </tr>\n",
       "  </thead>\n",
       "  <tbody>\n",
       "    <tr>\n",
       "      <th>0</th>\n",
       "      <td>5ddd0f935add2aa7a436dfa3</td>\n",
       "      <td>1224614786</td>\n",
       "      <td>abc - writing style cursive flashcards worksheets</td>\n",
       "      <td>Wattana Kamdee</td>\n",
       "      <td>1.202553e+09</td>\n",
       "      <td>https://apps.apple.com/us/app/abc-writing-styl...</td>\n",
       "      <td>NaN</td>\n",
       "      <td>4+</td>\n",
       "      <td>-1.0</td>\n",
       "      <td>-1.0</td>\n",
       "      <td>0.0</td>\n",
       "      <td>0</td>\n",
       "      <td>2017-04-10T23:00:59Z</td>\n",
       "      <td>2017-04-10T23:00:59Z</td>\n",
       "      <td>0.0</td>\n",
       "      <td>Games</td>\n",
       "      <td>['Games', 'Books', 'Family']</td>\n",
       "      <td>['EN']</td>\n",
       "      <td>This application helps you practice cursive sc...</td>\n",
       "    </tr>\n",
       "  </tbody>\n",
       "</table>\n",
       "</div>"
      ],
      "text/plain": [
       "                        _id  IOS_App_Id  \\\n",
       "0  5ddd0f935add2aa7a436dfa3  1224614786   \n",
       "\n",
       "                                               Title  Developer_Name  \\\n",
       "0  abc - writing style cursive flashcards worksheets  Wattana Kamdee   \n",
       "\n",
       "   Developer_IOS_Id                                      IOS_Store_Url  \\\n",
       "0      1.202553e+09  https://apps.apple.com/us/app/abc-writing-styl...   \n",
       "\n",
       "  Seller_Official_Website Age_Rating  Total_Average_Rating  \\\n",
       "0                     NaN         4+                  -1.0   \n",
       "\n",
       "   Total_Number_of_Ratings  Average_Rating_For_Version  \\\n",
       "0                     -1.0                         0.0   \n",
       "\n",
       "   Number_of_Ratings_For_Version Original_Release_Date  \\\n",
       "0                              0  2017-04-10T23:00:59Z   \n",
       "\n",
       "  Current_Version_Release_Date  Price_USD Primary_Genre  \\\n",
       "0         2017-04-10T23:00:59Z        0.0         Games   \n",
       "\n",
       "                     All_Genres Languages  \\\n",
       "0  ['Games', 'Books', 'Family']    ['EN']   \n",
       "\n",
       "                                         Description  \n",
       "0  This application helps you practice cursive sc...  "
      ]
     },
     "execution_count": 5,
     "metadata": {},
     "output_type": "execute_result"
    }
   ],
   "source": [
    "apple.head(1)"
   ]
  },
  {
   "cell_type": "markdown",
   "metadata": {},
   "source": [
    "## <div class=\"alert alert-block alert-info\">Data Cleaning<div>"
   ]
  },
  {
   "cell_type": "markdown",
   "metadata": {},
   "source": [
    "We have performed the following to clean our data."
   ]
  },
  {
   "cell_type": "markdown",
   "metadata": {},
   "source": [
    "#### Changing column names to code-friendly format:"
   ]
  },
  {
   "cell_type": "code",
   "execution_count": 6,
   "metadata": {},
   "outputs": [],
   "source": [
    "data.columns = data.columns.str.strip().str.lower().str.replace(' ', '_').str.replace('(', '').str.replace(')', '')\n",
    "\n",
    "# Renaming install column\n",
    "data = data.rename(columns={\"installs\":\"delete\"})\n",
    "data = data.rename(columns={\"maximum_installs\":\"installs\"})"
   ]
  },
  {
   "cell_type": "code",
   "execution_count": 7,
   "metadata": {},
   "outputs": [],
   "source": [
    "apple.columns = apple.columns.str.strip().str.lower().str.replace(' ', '_').str.replace('(', '').str.replace(')', '')\n",
    "\n",
    "# Renaming columns\n",
    "apple = apple.rename(columns={\"total_number_of_ratings\":\"rating_count\"})\n",
    "apple = apple.rename(columns={\"original_release_date\":\"released\"})\n",
    "apple = apple.rename(columns={\"current_version_release_date\":\"last_updated\"})\n",
    "apple = apple.rename(columns={\"primary_genre\":\"category\"})\n",
    "apple = apple.rename(columns={\"title\":\"app_name\"})\n",
    "apple = apple.rename(columns={\"developer_name\":\"developer_id\"})\n",
    "apple = apple.rename(columns={\"total_average_rating\":\"rating\"})"
   ]
  },
  {
   "cell_type": "markdown",
   "metadata": {},
   "source": [
    "#### Removing Unwanted Columns:"
   ]
  },
  {
   "cell_type": "code",
   "execution_count": 8,
   "metadata": {},
   "outputs": [],
   "source": [
    "data = data.drop(columns = 'privacy_policy')\n",
    "data = data.drop(columns = 'app_id')\n",
    "data = data.drop(columns = 'developer_website')\n",
    "data = data.drop(columns = 'developer_email')\n",
    "data = data.drop(columns = 'minimum_installs')\n",
    "data = data.drop(columns = 'delete')\n",
    "data = data.drop(columns = 'minimum_android')"
   ]
  },
  {
   "cell_type": "code",
   "execution_count": 9,
   "metadata": {},
   "outputs": [],
   "source": [
    "apple = apple.drop(columns = '_id')\n",
    "apple = apple.drop(columns = 'ios_app_id')\n",
    "apple = apple.drop(columns = 'developer_ios_id')\n",
    "apple = apple.drop(columns = 'all_genres')\n",
    "apple = apple.drop(columns = 'languages')\n",
    "apple = apple.drop(columns = 'seller_official_website')\n",
    "apple = apple.drop(columns = 'number_of_ratings_for_version')\n",
    "apple = apple.drop(columns = 'ios_store_url')\n",
    "apple = apple.drop(columns = 'average_rating_for_version')\n",
    "apple = apple.drop(columns = 'description')"
   ]
  },
  {
   "cell_type": "markdown",
   "metadata": {},
   "source": [
    "#### Changing True/False values to 1/0:"
   ]
  },
  {
   "cell_type": "code",
   "execution_count": 10,
   "metadata": {},
   "outputs": [],
   "source": [
    "data['ad_supported'] = data['ad_supported']*1\n",
    "data['in_app_purchases'] = data['in_app_purchases']*1\n",
    "data['editors_choice'] = data['editors_choice']*1\n",
    "data['free'] = data['free']*1"
   ]
  },
  {
   "cell_type": "markdown",
   "metadata": {},
   "source": [
    "#### Dropping NaN, blanks:"
   ]
  },
  {
   "cell_type": "code",
   "execution_count": 11,
   "metadata": {},
   "outputs": [
    {
     "data": {
      "text/plain": [
       "0"
      ]
     },
     "execution_count": 11,
     "metadata": {},
     "output_type": "execute_result"
    }
   ],
   "source": [
    "data = data.dropna()\n",
    "data[data.values == ''].count().sum()"
   ]
  },
  {
   "cell_type": "code",
   "execution_count": 12,
   "metadata": {},
   "outputs": [
    {
     "data": {
      "text/plain": [
       "0"
      ]
     },
     "execution_count": 12,
     "metadata": {},
     "output_type": "execute_result"
    }
   ],
   "source": [
    "apple = apple.dropna()\n",
    "apple[apple.values == ''].count().sum()"
   ]
  },
  {
   "cell_type": "markdown",
   "metadata": {},
   "source": [
    "#### Since we are analyzing the ratings for Google Playstore applications, we have determined that it would be appropriate to remove data that does not contain any ratings."
   ]
  },
  {
   "cell_type": "code",
   "execution_count": 13,
   "metadata": {},
   "outputs": [],
   "source": [
    "data = data[data.rating_count != 0]"
   ]
  },
  {
   "cell_type": "code",
   "execution_count": 14,
   "metadata": {},
   "outputs": [],
   "source": [
    "apple = apple[apple.rating_count > 0]"
   ]
  },
  {
   "cell_type": "markdown",
   "metadata": {},
   "source": [
    "#### Converting price in foreign currencies to USD (using merge):"
   ]
  },
  {
   "cell_type": "code",
   "execution_count": 15,
   "metadata": {
    "scrolled": true
   },
   "outputs": [
    {
     "data": {
      "text/plain": [
       "array(['USD', 'SGD', 'VND', 'GBP', 'XXX', 'EUR', 'RON', 'TRY', 'IDR',\n",
       "       'RUB', 'CAD', 'BRL', 'UAH', 'INR', 'HKD', 'JPY'], dtype=object)"
      ]
     },
     "execution_count": 15,
     "metadata": {},
     "output_type": "execute_result"
    }
   ],
   "source": [
    "data.currency.unique()"
   ]
  },
  {
   "cell_type": "code",
   "execution_count": 16,
   "metadata": {
    "scrolled": true
   },
   "outputs": [
    {
     "data": {
      "text/html": [
       "<div>\n",
       "<style scoped>\n",
       "    .dataframe tbody tr th:only-of-type {\n",
       "        vertical-align: middle;\n",
       "    }\n",
       "\n",
       "    .dataframe tbody tr th {\n",
       "        vertical-align: top;\n",
       "    }\n",
       "\n",
       "    .dataframe thead th {\n",
       "        text-align: right;\n",
       "    }\n",
       "</style>\n",
       "<table border=\"1\" class=\"dataframe\">\n",
       "  <thead>\n",
       "    <tr style=\"text-align: right;\">\n",
       "      <th></th>\n",
       "      <th>currency</th>\n",
       "      <th>value</th>\n",
       "    </tr>\n",
       "  </thead>\n",
       "  <tbody>\n",
       "    <tr>\n",
       "      <th>0</th>\n",
       "      <td>EUR</td>\n",
       "      <td>0.84</td>\n",
       "    </tr>\n",
       "    <tr>\n",
       "      <th>1</th>\n",
       "      <td>USD</td>\n",
       "      <td>1.00</td>\n",
       "    </tr>\n",
       "    <tr>\n",
       "      <th>2</th>\n",
       "      <td>SGD</td>\n",
       "      <td>1.34</td>\n",
       "    </tr>\n",
       "    <tr>\n",
       "      <th>3</th>\n",
       "      <td>VND</td>\n",
       "      <td>23132.00</td>\n",
       "    </tr>\n",
       "    <tr>\n",
       "      <th>4</th>\n",
       "      <td>GBP</td>\n",
       "      <td>0.75</td>\n",
       "    </tr>\n",
       "  </tbody>\n",
       "</table>\n",
       "</div>"
      ],
      "text/plain": [
       "  currency     value\n",
       "0      EUR      0.84\n",
       "1      USD      1.00\n",
       "2      SGD      1.34\n",
       "3      VND  23132.00\n",
       "4      GBP      0.75"
      ]
     },
     "execution_count": 16,
     "metadata": {},
     "output_type": "execute_result"
    }
   ],
   "source": [
    "dfRate=pd.DataFrame([['EUR',0.84],['USD',1],['SGD',1.34],['VND',23132.00],['GBP',0.75],['XXX',0],['RON',4.08],['TRY',7.83],['IDR',14154.05],['RUB',76.40],['CAD',1.30],['BRL',5.33],['UAH',28.59],['INR',73.98],['HKD',7.75],['JPY',104.37]], columns=['currency','value'])\n",
    "dfRate.head()"
   ]
  },
  {
   "cell_type": "code",
   "execution_count": 17,
   "metadata": {
    "scrolled": true
   },
   "outputs": [],
   "source": [
    "data = pd.merge(data, dfRate, how='left', left_on=['currency'], right_on=['currency'])\n",
    "data['price_usd'] = data.price / data.value\n",
    "data = data.dropna()"
   ]
  },
  {
   "cell_type": "markdown",
   "metadata": {},
   "source": [
    "#### Creating a 'revenue' column for analysis purposes:"
   ]
  },
  {
   "cell_type": "markdown",
   "metadata": {},
   "source": [
    "For our Google Play store data, we determined that <b> revenue = number of installs * price of app </b>.\n",
    "For our Apple App store data, we determined that <b> revenue = number of ratings * price of app </b >since there is no available data on how many number of installs there are. We are assumming that those that have rated the app have installed the app.. "
   ]
  },
  {
   "cell_type": "code",
   "execution_count": 18,
   "metadata": {},
   "outputs": [],
   "source": [
    "data['revenue'] = data.price_usd * data.installs"
   ]
  },
  {
   "cell_type": "code",
   "execution_count": 19,
   "metadata": {},
   "outputs": [],
   "source": [
    "apple['revenue'] = apple.price_usd * apple.rating_count"
   ]
  },
  {
   "cell_type": "markdown",
   "metadata": {},
   "source": [
    "#### Adding a 'free' dummy column for the Apple dataframe"
   ]
  },
  {
   "cell_type": "code",
   "execution_count": 20,
   "metadata": {},
   "outputs": [],
   "source": [
    "apple['free'] = apple.price_usd.apply(lambda x: 0 if x > 0 else 1)"
   ]
  },
  {
   "cell_type": "markdown",
   "metadata": {},
   "source": [
    "### After Data Cleaning:"
   ]
  },
  {
   "cell_type": "code",
   "execution_count": 21,
   "metadata": {
    "scrolled": true
   },
   "outputs": [
    {
     "name": "stdout",
     "output_type": "stream",
     "text": [
      "The length of the cleaned data on Google Play Store apps is 418270\n",
      "The length of the cleaned data on Apple App Store apps is 172090\n"
     ]
    }
   ],
   "source": [
    "print(\"The length of the cleaned data on Google Play Store apps is \" + str(len(data)))\n",
    "print(\"The length of the cleaned data on Apple App Store apps is \" + str(len(apple)))"
   ]
  },
  {
   "cell_type": "markdown",
   "metadata": {},
   "source": [
    " "
   ]
  },
  {
   "cell_type": "markdown",
   "metadata": {},
   "source": [
    "## <div class=\"alert alert-block alert-info\">Analysis<div>"
   ]
  },
  {
   "cell_type": "markdown",
   "metadata": {},
   "source": [
    "#### Descriptive Statistics"
   ]
  },
  {
   "cell_type": "code",
   "execution_count": 22,
   "metadata": {},
   "outputs": [
    {
     "data": {
      "text/html": [
       "<div>\n",
       "<style scoped>\n",
       "    .dataframe tbody tr th:only-of-type {\n",
       "        vertical-align: middle;\n",
       "    }\n",
       "\n",
       "    .dataframe tbody tr th {\n",
       "        vertical-align: top;\n",
       "    }\n",
       "\n",
       "    .dataframe thead th {\n",
       "        text-align: right;\n",
       "    }\n",
       "</style>\n",
       "<table border=\"1\" class=\"dataframe\">\n",
       "  <thead>\n",
       "    <tr style=\"text-align: right;\">\n",
       "      <th></th>\n",
       "      <th>rating</th>\n",
       "      <th>rating_count</th>\n",
       "      <th>installs</th>\n",
       "      <th>free</th>\n",
       "      <th>price</th>\n",
       "      <th>ad_supported</th>\n",
       "      <th>in_app_purchases</th>\n",
       "      <th>editors_choice</th>\n",
       "      <th>value</th>\n",
       "      <th>price_usd</th>\n",
       "      <th>revenue</th>\n",
       "    </tr>\n",
       "  </thead>\n",
       "  <tbody>\n",
       "    <tr>\n",
       "      <th>count</th>\n",
       "      <td>418270.000000</td>\n",
       "      <td>4.182700e+05</td>\n",
       "      <td>4.182700e+05</td>\n",
       "      <td>418270.000000</td>\n",
       "      <td>418270.000000</td>\n",
       "      <td>418270.000000</td>\n",
       "      <td>418270.000000</td>\n",
       "      <td>418270.000000</td>\n",
       "      <td>418270.000000</td>\n",
       "      <td>418270.000000</td>\n",
       "      <td>4.182700e+05</td>\n",
       "    </tr>\n",
       "    <tr>\n",
       "      <th>mean</th>\n",
       "      <td>4.133192</td>\n",
       "      <td>1.165142e+04</td>\n",
       "      <td>1.149440e+06</td>\n",
       "      <td>0.952447</td>\n",
       "      <td>0.217390</td>\n",
       "      <td>0.598353</td>\n",
       "      <td>0.173431</td>\n",
       "      <td>0.001846</td>\n",
       "      <td>1.089919</td>\n",
       "      <td>0.217390</td>\n",
       "      <td>5.364167e+03</td>\n",
       "    </tr>\n",
       "    <tr>\n",
       "      <th>std</th>\n",
       "      <td>0.604223</td>\n",
       "      <td>3.821723e+05</td>\n",
       "      <td>4.165778e+07</td>\n",
       "      <td>0.212819</td>\n",
       "      <td>2.789178</td>\n",
       "      <td>0.490232</td>\n",
       "      <td>0.378620</td>\n",
       "      <td>0.042922</td>\n",
       "      <td>41.930080</td>\n",
       "      <td>2.789178</td>\n",
       "      <td>3.674678e+05</td>\n",
       "    </tr>\n",
       "    <tr>\n",
       "      <th>min</th>\n",
       "      <td>1.000000</td>\n",
       "      <td>5.000000e+00</td>\n",
       "      <td>0.000000e+00</td>\n",
       "      <td>0.000000</td>\n",
       "      <td>0.000000</td>\n",
       "      <td>0.000000</td>\n",
       "      <td>0.000000</td>\n",
       "      <td>0.000000</td>\n",
       "      <td>0.750000</td>\n",
       "      <td>0.000000</td>\n",
       "      <td>0.000000e+00</td>\n",
       "    </tr>\n",
       "    <tr>\n",
       "      <th>25%</th>\n",
       "      <td>3.900000</td>\n",
       "      <td>2.100000e+01</td>\n",
       "      <td>3.442000e+03</td>\n",
       "      <td>1.000000</td>\n",
       "      <td>0.000000</td>\n",
       "      <td>0.000000</td>\n",
       "      <td>0.000000</td>\n",
       "      <td>0.000000</td>\n",
       "      <td>1.000000</td>\n",
       "      <td>0.000000</td>\n",
       "      <td>0.000000e+00</td>\n",
       "    </tr>\n",
       "    <tr>\n",
       "      <th>50%</th>\n",
       "      <td>4.300000</td>\n",
       "      <td>9.100000e+01</td>\n",
       "      <td>1.628400e+04</td>\n",
       "      <td>1.000000</td>\n",
       "      <td>0.000000</td>\n",
       "      <td>1.000000</td>\n",
       "      <td>0.000000</td>\n",
       "      <td>0.000000</td>\n",
       "      <td>1.000000</td>\n",
       "      <td>0.000000</td>\n",
       "      <td>0.000000e+00</td>\n",
       "    </tr>\n",
       "    <tr>\n",
       "      <th>75%</th>\n",
       "      <td>4.600000</td>\n",
       "      <td>5.780000e+02</td>\n",
       "      <td>9.294525e+04</td>\n",
       "      <td>1.000000</td>\n",
       "      <td>0.000000</td>\n",
       "      <td>1.000000</td>\n",
       "      <td>0.000000</td>\n",
       "      <td>0.000000</td>\n",
       "      <td>1.000000</td>\n",
       "      <td>0.000000</td>\n",
       "      <td>0.000000e+00</td>\n",
       "    </tr>\n",
       "    <tr>\n",
       "      <th>max</th>\n",
       "      <td>5.000000</td>\n",
       "      <td>1.170193e+08</td>\n",
       "      <td>9.975727e+09</td>\n",
       "      <td>1.000000</td>\n",
       "      <td>400.000000</td>\n",
       "      <td>1.000000</td>\n",
       "      <td>1.000000</td>\n",
       "      <td>1.000000</td>\n",
       "      <td>23132.000000</td>\n",
       "      <td>400.000000</td>\n",
       "      <td>2.134249e+08</td>\n",
       "    </tr>\n",
       "  </tbody>\n",
       "</table>\n",
       "</div>"
      ],
      "text/plain": [
       "              rating  rating_count      installs           free  \\\n",
       "count  418270.000000  4.182700e+05  4.182700e+05  418270.000000   \n",
       "mean        4.133192  1.165142e+04  1.149440e+06       0.952447   \n",
       "std         0.604223  3.821723e+05  4.165778e+07       0.212819   \n",
       "min         1.000000  5.000000e+00  0.000000e+00       0.000000   \n",
       "25%         3.900000  2.100000e+01  3.442000e+03       1.000000   \n",
       "50%         4.300000  9.100000e+01  1.628400e+04       1.000000   \n",
       "75%         4.600000  5.780000e+02  9.294525e+04       1.000000   \n",
       "max         5.000000  1.170193e+08  9.975727e+09       1.000000   \n",
       "\n",
       "               price   ad_supported  in_app_purchases  editors_choice  \\\n",
       "count  418270.000000  418270.000000     418270.000000   418270.000000   \n",
       "mean        0.217390       0.598353          0.173431        0.001846   \n",
       "std         2.789178       0.490232          0.378620        0.042922   \n",
       "min         0.000000       0.000000          0.000000        0.000000   \n",
       "25%         0.000000       0.000000          0.000000        0.000000   \n",
       "50%         0.000000       1.000000          0.000000        0.000000   \n",
       "75%         0.000000       1.000000          0.000000        0.000000   \n",
       "max       400.000000       1.000000          1.000000        1.000000   \n",
       "\n",
       "               value      price_usd       revenue  \n",
       "count  418270.000000  418270.000000  4.182700e+05  \n",
       "mean        1.089919       0.217390  5.364167e+03  \n",
       "std        41.930080       2.789178  3.674678e+05  \n",
       "min         0.750000       0.000000  0.000000e+00  \n",
       "25%         1.000000       0.000000  0.000000e+00  \n",
       "50%         1.000000       0.000000  0.000000e+00  \n",
       "75%         1.000000       0.000000  0.000000e+00  \n",
       "max     23132.000000     400.000000  2.134249e+08  "
      ]
     },
     "execution_count": 22,
     "metadata": {},
     "output_type": "execute_result"
    }
   ],
   "source": [
    "data.describe()"
   ]
  },
  {
   "cell_type": "code",
   "execution_count": 23,
   "metadata": {},
   "outputs": [
    {
     "data": {
      "text/html": [
       "<div>\n",
       "<style scoped>\n",
       "    .dataframe tbody tr th:only-of-type {\n",
       "        vertical-align: middle;\n",
       "    }\n",
       "\n",
       "    .dataframe tbody tr th {\n",
       "        vertical-align: top;\n",
       "    }\n",
       "\n",
       "    .dataframe thead th {\n",
       "        text-align: right;\n",
       "    }\n",
       "</style>\n",
       "<table border=\"1\" class=\"dataframe\">\n",
       "  <thead>\n",
       "    <tr style=\"text-align: right;\">\n",
       "      <th></th>\n",
       "      <th>rating</th>\n",
       "      <th>rating_count</th>\n",
       "      <th>price_usd</th>\n",
       "      <th>revenue</th>\n",
       "      <th>free</th>\n",
       "    </tr>\n",
       "  </thead>\n",
       "  <tbody>\n",
       "    <tr>\n",
       "      <th>count</th>\n",
       "      <td>172090.000000</td>\n",
       "      <td>1.720900e+05</td>\n",
       "      <td>172090.000000</td>\n",
       "      <td>1.720900e+05</td>\n",
       "      <td>172090.000000</td>\n",
       "    </tr>\n",
       "    <tr>\n",
       "      <th>mean</th>\n",
       "      <td>3.713737</td>\n",
       "      <td>2.676372e+03</td>\n",
       "      <td>0.621653</td>\n",
       "      <td>3.431636e+02</td>\n",
       "      <td>0.869446</td>\n",
       "    </tr>\n",
       "    <tr>\n",
       "      <th>std</th>\n",
       "      <td>1.374207</td>\n",
       "      <td>6.468959e+04</td>\n",
       "      <td>5.759429</td>\n",
       "      <td>1.641113e+04</td>\n",
       "      <td>0.336913</td>\n",
       "    </tr>\n",
       "    <tr>\n",
       "      <th>min</th>\n",
       "      <td>-1.000000</td>\n",
       "      <td>1.000000e+00</td>\n",
       "      <td>-1.000000</td>\n",
       "      <td>-9.327000e+03</td>\n",
       "      <td>0.000000</td>\n",
       "    </tr>\n",
       "    <tr>\n",
       "      <th>25%</th>\n",
       "      <td>3.500000</td>\n",
       "      <td>7.000000e+00</td>\n",
       "      <td>0.000000</td>\n",
       "      <td>0.000000e+00</td>\n",
       "      <td>1.000000</td>\n",
       "    </tr>\n",
       "    <tr>\n",
       "      <th>50%</th>\n",
       "      <td>4.000000</td>\n",
       "      <td>1.800000e+01</td>\n",
       "      <td>0.000000</td>\n",
       "      <td>0.000000e+00</td>\n",
       "      <td>1.000000</td>\n",
       "    </tr>\n",
       "    <tr>\n",
       "      <th>75%</th>\n",
       "      <td>4.500000</td>\n",
       "      <td>9.600000e+01</td>\n",
       "      <td>0.000000</td>\n",
       "      <td>0.000000e+00</td>\n",
       "      <td>1.000000</td>\n",
       "    </tr>\n",
       "    <tr>\n",
       "      <th>max</th>\n",
       "      <td>5.000000</td>\n",
       "      <td>1.203608e+07</td>\n",
       "      <td>999.990000</td>\n",
       "      <td>5.501913e+06</td>\n",
       "      <td>1.000000</td>\n",
       "    </tr>\n",
       "  </tbody>\n",
       "</table>\n",
       "</div>"
      ],
      "text/plain": [
       "              rating  rating_count      price_usd       revenue           free\n",
       "count  172090.000000  1.720900e+05  172090.000000  1.720900e+05  172090.000000\n",
       "mean        3.713737  2.676372e+03       0.621653  3.431636e+02       0.869446\n",
       "std         1.374207  6.468959e+04       5.759429  1.641113e+04       0.336913\n",
       "min        -1.000000  1.000000e+00      -1.000000 -9.327000e+03       0.000000\n",
       "25%         3.500000  7.000000e+00       0.000000  0.000000e+00       1.000000\n",
       "50%         4.000000  1.800000e+01       0.000000  0.000000e+00       1.000000\n",
       "75%         4.500000  9.600000e+01       0.000000  0.000000e+00       1.000000\n",
       "max         5.000000  1.203608e+07     999.990000  5.501913e+06       1.000000"
      ]
     },
     "execution_count": 23,
     "metadata": {},
     "output_type": "execute_result"
    }
   ],
   "source": [
    "apple.describe()"
   ]
  },
  {
   "cell_type": "markdown",
   "metadata": {},
   "source": [
    "#### Correlations:"
   ]
  },
  {
   "cell_type": "code",
   "execution_count": 24,
   "metadata": {
    "scrolled": true
   },
   "outputs": [
    {
     "data": {
      "text/html": [
       "<div>\n",
       "<style scoped>\n",
       "    .dataframe tbody tr th:only-of-type {\n",
       "        vertical-align: middle;\n",
       "    }\n",
       "\n",
       "    .dataframe tbody tr th {\n",
       "        vertical-align: top;\n",
       "    }\n",
       "\n",
       "    .dataframe thead th {\n",
       "        text-align: right;\n",
       "    }\n",
       "</style>\n",
       "<table border=\"1\" class=\"dataframe\">\n",
       "  <thead>\n",
       "    <tr style=\"text-align: right;\">\n",
       "      <th></th>\n",
       "      <th>rating</th>\n",
       "      <th>rating_count</th>\n",
       "      <th>installs</th>\n",
       "      <th>free</th>\n",
       "      <th>price</th>\n",
       "      <th>ad_supported</th>\n",
       "      <th>in_app_purchases</th>\n",
       "      <th>editors_choice</th>\n",
       "      <th>value</th>\n",
       "      <th>price_usd</th>\n",
       "      <th>revenue</th>\n",
       "    </tr>\n",
       "  </thead>\n",
       "  <tbody>\n",
       "    <tr>\n",
       "      <th>rating</th>\n",
       "      <td>1.000000</td>\n",
       "      <td>0.008613</td>\n",
       "      <td>0.004054</td>\n",
       "      <td>-0.027311</td>\n",
       "      <td>0.007678</td>\n",
       "      <td>0.103020</td>\n",
       "      <td>-0.002875</td>\n",
       "      <td>0.013678</td>\n",
       "      <td>0.001694</td>\n",
       "      <td>0.007678</td>\n",
       "      <td>0.003302</td>\n",
       "    </tr>\n",
       "    <tr>\n",
       "      <th>rating_count</th>\n",
       "      <td>0.008613</td>\n",
       "      <td>1.000000</td>\n",
       "      <td>0.553285</td>\n",
       "      <td>0.005944</td>\n",
       "      <td>-0.002071</td>\n",
       "      <td>0.005953</td>\n",
       "      <td>0.037789</td>\n",
       "      <td>0.172764</td>\n",
       "      <td>-0.000064</td>\n",
       "      <td>-0.002071</td>\n",
       "      <td>0.014135</td>\n",
       "    </tr>\n",
       "    <tr>\n",
       "      <th>installs</th>\n",
       "      <td>0.004054</td>\n",
       "      <td>0.553285</td>\n",
       "      <td>1.000000</td>\n",
       "      <td>0.006000</td>\n",
       "      <td>-0.002104</td>\n",
       "      <td>-0.000651</td>\n",
       "      <td>0.017988</td>\n",
       "      <td>0.074287</td>\n",
       "      <td>-0.000059</td>\n",
       "      <td>-0.002104</td>\n",
       "      <td>0.000980</td>\n",
       "    </tr>\n",
       "    <tr>\n",
       "      <th>free</th>\n",
       "      <td>-0.027311</td>\n",
       "      <td>0.005944</td>\n",
       "      <td>0.006000</td>\n",
       "      <td>1.000000</td>\n",
       "      <td>-0.348815</td>\n",
       "      <td>0.242912</td>\n",
       "      <td>0.035028</td>\n",
       "      <td>0.000971</td>\n",
       "      <td>0.000479</td>\n",
       "      <td>-0.348815</td>\n",
       "      <td>-0.065330</td>\n",
       "    </tr>\n",
       "    <tr>\n",
       "      <th>price</th>\n",
       "      <td>0.007678</td>\n",
       "      <td>-0.002071</td>\n",
       "      <td>-0.002104</td>\n",
       "      <td>-0.348815</td>\n",
       "      <td>1.000000</td>\n",
       "      <td>-0.086151</td>\n",
       "      <td>-0.011645</td>\n",
       "      <td>-0.000704</td>\n",
       "      <td>-0.000167</td>\n",
       "      <td>1.000000</td>\n",
       "      <td>0.088701</td>\n",
       "    </tr>\n",
       "    <tr>\n",
       "      <th>ad_supported</th>\n",
       "      <td>0.103020</td>\n",
       "      <td>0.005953</td>\n",
       "      <td>-0.000651</td>\n",
       "      <td>0.242912</td>\n",
       "      <td>-0.086151</td>\n",
       "      <td>1.000000</td>\n",
       "      <td>0.134331</td>\n",
       "      <td>0.004553</td>\n",
       "      <td>-0.002597</td>\n",
       "      <td>-0.086151</td>\n",
       "      <td>-0.013835</td>\n",
       "    </tr>\n",
       "    <tr>\n",
       "      <th>in_app_purchases</th>\n",
       "      <td>-0.002875</td>\n",
       "      <td>0.037789</td>\n",
       "      <td>0.017988</td>\n",
       "      <td>0.035028</td>\n",
       "      <td>-0.011645</td>\n",
       "      <td>0.134331</td>\n",
       "      <td>1.000000</td>\n",
       "      <td>0.068426</td>\n",
       "      <td>-0.000958</td>\n",
       "      <td>-0.011645</td>\n",
       "      <td>0.008410</td>\n",
       "    </tr>\n",
       "    <tr>\n",
       "      <th>editors_choice</th>\n",
       "      <td>0.013678</td>\n",
       "      <td>0.172764</td>\n",
       "      <td>0.074287</td>\n",
       "      <td>0.000971</td>\n",
       "      <td>-0.000704</td>\n",
       "      <td>0.004553</td>\n",
       "      <td>0.068426</td>\n",
       "      <td>1.000000</td>\n",
       "      <td>-0.000092</td>\n",
       "      <td>-0.000704</td>\n",
       "      <td>0.042361</td>\n",
       "    </tr>\n",
       "    <tr>\n",
       "      <th>value</th>\n",
       "      <td>0.001694</td>\n",
       "      <td>-0.000064</td>\n",
       "      <td>-0.000059</td>\n",
       "      <td>0.000479</td>\n",
       "      <td>-0.000167</td>\n",
       "      <td>-0.002597</td>\n",
       "      <td>-0.000958</td>\n",
       "      <td>-0.000092</td>\n",
       "      <td>1.000000</td>\n",
       "      <td>-0.000167</td>\n",
       "      <td>-0.000031</td>\n",
       "    </tr>\n",
       "    <tr>\n",
       "      <th>price_usd</th>\n",
       "      <td>0.007678</td>\n",
       "      <td>-0.002071</td>\n",
       "      <td>-0.002104</td>\n",
       "      <td>-0.348815</td>\n",
       "      <td>1.000000</td>\n",
       "      <td>-0.086151</td>\n",
       "      <td>-0.011645</td>\n",
       "      <td>-0.000704</td>\n",
       "      <td>-0.000167</td>\n",
       "      <td>1.000000</td>\n",
       "      <td>0.088701</td>\n",
       "    </tr>\n",
       "    <tr>\n",
       "      <th>revenue</th>\n",
       "      <td>0.003302</td>\n",
       "      <td>0.014135</td>\n",
       "      <td>0.000980</td>\n",
       "      <td>-0.065330</td>\n",
       "      <td>0.088701</td>\n",
       "      <td>-0.013835</td>\n",
       "      <td>0.008410</td>\n",
       "      <td>0.042361</td>\n",
       "      <td>-0.000031</td>\n",
       "      <td>0.088701</td>\n",
       "      <td>1.000000</td>\n",
       "    </tr>\n",
       "  </tbody>\n",
       "</table>\n",
       "</div>"
      ],
      "text/plain": [
       "                    rating  rating_count  installs      free     price  \\\n",
       "rating            1.000000      0.008613  0.004054 -0.027311  0.007678   \n",
       "rating_count      0.008613      1.000000  0.553285  0.005944 -0.002071   \n",
       "installs          0.004054      0.553285  1.000000  0.006000 -0.002104   \n",
       "free             -0.027311      0.005944  0.006000  1.000000 -0.348815   \n",
       "price             0.007678     -0.002071 -0.002104 -0.348815  1.000000   \n",
       "ad_supported      0.103020      0.005953 -0.000651  0.242912 -0.086151   \n",
       "in_app_purchases -0.002875      0.037789  0.017988  0.035028 -0.011645   \n",
       "editors_choice    0.013678      0.172764  0.074287  0.000971 -0.000704   \n",
       "value             0.001694     -0.000064 -0.000059  0.000479 -0.000167   \n",
       "price_usd         0.007678     -0.002071 -0.002104 -0.348815  1.000000   \n",
       "revenue           0.003302      0.014135  0.000980 -0.065330  0.088701   \n",
       "\n",
       "                  ad_supported  in_app_purchases  editors_choice     value  \\\n",
       "rating                0.103020         -0.002875        0.013678  0.001694   \n",
       "rating_count          0.005953          0.037789        0.172764 -0.000064   \n",
       "installs             -0.000651          0.017988        0.074287 -0.000059   \n",
       "free                  0.242912          0.035028        0.000971  0.000479   \n",
       "price                -0.086151         -0.011645       -0.000704 -0.000167   \n",
       "ad_supported          1.000000          0.134331        0.004553 -0.002597   \n",
       "in_app_purchases      0.134331          1.000000        0.068426 -0.000958   \n",
       "editors_choice        0.004553          0.068426        1.000000 -0.000092   \n",
       "value                -0.002597         -0.000958       -0.000092  1.000000   \n",
       "price_usd            -0.086151         -0.011645       -0.000704 -0.000167   \n",
       "revenue              -0.013835          0.008410        0.042361 -0.000031   \n",
       "\n",
       "                  price_usd   revenue  \n",
       "rating             0.007678  0.003302  \n",
       "rating_count      -0.002071  0.014135  \n",
       "installs          -0.002104  0.000980  \n",
       "free              -0.348815 -0.065330  \n",
       "price              1.000000  0.088701  \n",
       "ad_supported      -0.086151 -0.013835  \n",
       "in_app_purchases  -0.011645  0.008410  \n",
       "editors_choice    -0.000704  0.042361  \n",
       "value             -0.000167 -0.000031  \n",
       "price_usd          1.000000  0.088701  \n",
       "revenue            0.088701  1.000000  "
      ]
     },
     "execution_count": 24,
     "metadata": {},
     "output_type": "execute_result"
    }
   ],
   "source": [
    "data.corr()"
   ]
  },
  {
   "cell_type": "code",
   "execution_count": 25,
   "metadata": {},
   "outputs": [
    {
     "data": {
      "text/html": [
       "<div>\n",
       "<style scoped>\n",
       "    .dataframe tbody tr th:only-of-type {\n",
       "        vertical-align: middle;\n",
       "    }\n",
       "\n",
       "    .dataframe tbody tr th {\n",
       "        vertical-align: top;\n",
       "    }\n",
       "\n",
       "    .dataframe thead th {\n",
       "        text-align: right;\n",
       "    }\n",
       "</style>\n",
       "<table border=\"1\" class=\"dataframe\">\n",
       "  <thead>\n",
       "    <tr style=\"text-align: right;\">\n",
       "      <th></th>\n",
       "      <th>rating</th>\n",
       "      <th>rating_count</th>\n",
       "      <th>price_usd</th>\n",
       "      <th>revenue</th>\n",
       "      <th>free</th>\n",
       "    </tr>\n",
       "  </thead>\n",
       "  <tbody>\n",
       "    <tr>\n",
       "      <th>rating</th>\n",
       "      <td>1.000000</td>\n",
       "      <td>0.024609</td>\n",
       "      <td>0.005424</td>\n",
       "      <td>0.010341</td>\n",
       "      <td>0.000151</td>\n",
       "    </tr>\n",
       "    <tr>\n",
       "      <th>rating_count</th>\n",
       "      <td>0.024609</td>\n",
       "      <td>1.000000</td>\n",
       "      <td>-0.003545</td>\n",
       "      <td>0.043871</td>\n",
       "      <td>0.011639</td>\n",
       "    </tr>\n",
       "    <tr>\n",
       "      <th>price_usd</th>\n",
       "      <td>0.005424</td>\n",
       "      <td>-0.003545</td>\n",
       "      <td>1.000000</td>\n",
       "      <td>0.066262</td>\n",
       "      <td>-0.278815</td>\n",
       "    </tr>\n",
       "    <tr>\n",
       "      <th>revenue</th>\n",
       "      <td>0.010341</td>\n",
       "      <td>0.043871</td>\n",
       "      <td>0.066262</td>\n",
       "      <td>1.000000</td>\n",
       "      <td>-0.054006</td>\n",
       "    </tr>\n",
       "    <tr>\n",
       "      <th>free</th>\n",
       "      <td>0.000151</td>\n",
       "      <td>0.011639</td>\n",
       "      <td>-0.278815</td>\n",
       "      <td>-0.054006</td>\n",
       "      <td>1.000000</td>\n",
       "    </tr>\n",
       "  </tbody>\n",
       "</table>\n",
       "</div>"
      ],
      "text/plain": [
       "                rating  rating_count  price_usd   revenue      free\n",
       "rating        1.000000      0.024609   0.005424  0.010341  0.000151\n",
       "rating_count  0.024609      1.000000  -0.003545  0.043871  0.011639\n",
       "price_usd     0.005424     -0.003545   1.000000  0.066262 -0.278815\n",
       "revenue       0.010341      0.043871   0.066262  1.000000 -0.054006\n",
       "free          0.000151      0.011639  -0.278815 -0.054006  1.000000"
      ]
     },
     "execution_count": 25,
     "metadata": {},
     "output_type": "execute_result"
    }
   ],
   "source": [
    "apple.corr()"
   ]
  },
  {
   "cell_type": "markdown",
   "metadata": {},
   "source": [
    "## <div class=\"alert alert-block alert-success\"> 1. What type of app is most popular? </div>"
   ]
  },
  {
   "cell_type": "markdown",
   "metadata": {},
   "source": [
    "The three factors we are using to evaluate 'popularity' for the <b> Google Play store </b> data is: <b> rating, rating count, and number of installs </b>\n",
    "\n",
    "The two factors we are using to evaluate 'popularity' for the <b> Apple Play store </b> data is: <b> rating and rating count </b> since there is no available data on how many number of installs there are. We are assumming that those that have rated the app have installed the app."
   ]
  },
  {
   "cell_type": "markdown",
   "metadata": {},
   "source": [
    "### Google Play store"
   ]
  },
  {
   "cell_type": "markdown",
   "metadata": {},
   "source": [
    "#### Most popular apps:\n"
   ]
  },
  {
   "cell_type": "code",
   "execution_count": 26,
   "metadata": {},
   "outputs": [
    {
     "data": {
      "text/html": [
       "<div>\n",
       "<style scoped>\n",
       "    .dataframe tbody tr th:only-of-type {\n",
       "        vertical-align: middle;\n",
       "    }\n",
       "\n",
       "    .dataframe tbody tr th {\n",
       "        vertical-align: top;\n",
       "    }\n",
       "\n",
       "    .dataframe thead th {\n",
       "        text-align: right;\n",
       "    }\n",
       "</style>\n",
       "<table border=\"1\" class=\"dataframe\">\n",
       "  <thead>\n",
       "    <tr style=\"text-align: right;\">\n",
       "      <th></th>\n",
       "      <th>app_name</th>\n",
       "      <th>developer_id</th>\n",
       "      <th>category</th>\n",
       "      <th>rating</th>\n",
       "      <th>installs</th>\n",
       "      <th>rating_count</th>\n",
       "    </tr>\n",
       "  </thead>\n",
       "  <tbody>\n",
       "    <tr>\n",
       "      <th>351293</th>\n",
       "      <td>Wickr Me – Private Messenger</td>\n",
       "      <td>Wickr Inc</td>\n",
       "      <td>Social</td>\n",
       "      <td>5.0</td>\n",
       "      <td>6179163</td>\n",
       "      <td>89003.0</td>\n",
       "    </tr>\n",
       "    <tr>\n",
       "      <th>248307</th>\n",
       "      <td>Police Robot Car Rampage: New robot shooting G...</td>\n",
       "      <td>Happy Family Studio</td>\n",
       "      <td>Adventure</td>\n",
       "      <td>5.0</td>\n",
       "      <td>900896</td>\n",
       "      <td>1279.0</td>\n",
       "    </tr>\n",
       "    <tr>\n",
       "      <th>131889</th>\n",
       "      <td>Goat Robot Transforming Games: ATV Bike Robot ...</td>\n",
       "      <td>Buntoo Games</td>\n",
       "      <td>Travel &amp; Local</td>\n",
       "      <td>5.0</td>\n",
       "      <td>558593</td>\n",
       "      <td>1594.0</td>\n",
       "    </tr>\n",
       "    <tr>\n",
       "      <th>336956</th>\n",
       "      <td>Urdu Poetry Offline</td>\n",
       "      <td>Wiki Tech</td>\n",
       "      <td>Entertainment</td>\n",
       "      <td>5.0</td>\n",
       "      <td>543643</td>\n",
       "      <td>1996.0</td>\n",
       "    </tr>\n",
       "    <tr>\n",
       "      <th>216315</th>\n",
       "      <td>My Train Info - PNR &amp; Where is My Train</td>\n",
       "      <td>AppAspect Technologies Pvt. Ltd.</td>\n",
       "      <td>Travel &amp; Local</td>\n",
       "      <td>5.0</td>\n",
       "      <td>530849</td>\n",
       "      <td>465.0</td>\n",
       "    </tr>\n",
       "  </tbody>\n",
       "</table>\n",
       "</div>"
      ],
      "text/plain": [
       "                                                 app_name  \\\n",
       "351293                       Wickr Me – Private Messenger   \n",
       "248307  Police Robot Car Rampage: New robot shooting G...   \n",
       "131889  Goat Robot Transforming Games: ATV Bike Robot ...   \n",
       "336956                                Urdu Poetry Offline   \n",
       "216315            My Train Info - PNR & Where is My Train   \n",
       "\n",
       "                            developer_id        category  rating  installs  \\\n",
       "351293                         Wickr Inc          Social     5.0   6179163   \n",
       "248307               Happy Family Studio       Adventure     5.0    900896   \n",
       "131889                      Buntoo Games  Travel & Local     5.0    558593   \n",
       "336956                         Wiki Tech   Entertainment     5.0    543643   \n",
       "216315  AppAspect Technologies Pvt. Ltd.  Travel & Local     5.0    530849   \n",
       "\n",
       "        rating_count  \n",
       "351293       89003.0  \n",
       "248307        1279.0  \n",
       "131889        1594.0  \n",
       "336956        1996.0  \n",
       "216315         465.0  "
      ]
     },
     "execution_count": 26,
     "metadata": {},
     "output_type": "execute_result"
    }
   ],
   "source": [
    "data.groupby(['app_name','developer_id','category'], as_index = False)\\\n",
    "                       ['rating','installs','rating_count']\\\n",
    "              .agg('mean')\\\n",
    "              .sort_values(by=['rating','installs','rating_count'] , ascending=[False,False,False])\\\n",
    "              .head()"
   ]
  },
  {
   "cell_type": "markdown",
   "metadata": {},
   "source": [
    "#### Most popular category of apps:"
   ]
  },
  {
   "cell_type": "code",
   "execution_count": 27,
   "metadata": {
    "scrolled": true
   },
   "outputs": [
    {
     "data": {
      "text/html": [
       "<div>\n",
       "<style scoped>\n",
       "    .dataframe tbody tr th:only-of-type {\n",
       "        vertical-align: middle;\n",
       "    }\n",
       "\n",
       "    .dataframe tbody tr th {\n",
       "        vertical-align: top;\n",
       "    }\n",
       "\n",
       "    .dataframe thead th {\n",
       "        text-align: right;\n",
       "    }\n",
       "</style>\n",
       "<table border=\"1\" class=\"dataframe\">\n",
       "  <thead>\n",
       "    <tr style=\"text-align: right;\">\n",
       "      <th></th>\n",
       "      <th>category</th>\n",
       "      <th>rating</th>\n",
       "      <th>installs</th>\n",
       "      <th>rating_count</th>\n",
       "    </tr>\n",
       "  </thead>\n",
       "  <tbody>\n",
       "    <tr>\n",
       "      <th>42</th>\n",
       "      <td>Tools</td>\n",
       "      <td>3.965280</td>\n",
       "      <td>73149502130</td>\n",
       "      <td>334350229.0</td>\n",
       "    </tr>\n",
       "    <tr>\n",
       "      <th>13</th>\n",
       "      <td>Communication</td>\n",
       "      <td>4.069454</td>\n",
       "      <td>54350646353</td>\n",
       "      <td>425147330.0</td>\n",
       "    </tr>\n",
       "    <tr>\n",
       "      <th>33</th>\n",
       "      <td>Productivity</td>\n",
       "      <td>4.005142</td>\n",
       "      <td>34633351617</td>\n",
       "      <td>116782674.0</td>\n",
       "    </tr>\n",
       "    <tr>\n",
       "      <th>32</th>\n",
       "      <td>Photography</td>\n",
       "      <td>3.943165</td>\n",
       "      <td>22683391607</td>\n",
       "      <td>174066421.0</td>\n",
       "    </tr>\n",
       "    <tr>\n",
       "      <th>45</th>\n",
       "      <td>Video Players &amp; Editors</td>\n",
       "      <td>3.851388</td>\n",
       "      <td>22103798738</td>\n",
       "      <td>178737041.0</td>\n",
       "    </tr>\n",
       "  </tbody>\n",
       "</table>\n",
       "</div>"
      ],
      "text/plain": [
       "                   category    rating     installs  rating_count\n",
       "42                    Tools  3.965280  73149502130   334350229.0\n",
       "13            Communication  4.069454  54350646353   425147330.0\n",
       "33             Productivity  4.005142  34633351617   116782674.0\n",
       "32              Photography  3.943165  22683391607   174066421.0\n",
       "45  Video Players & Editors  3.851388  22103798738   178737041.0"
      ]
     },
     "execution_count": 27,
     "metadata": {},
     "output_type": "execute_result"
    }
   ],
   "source": [
    "# By Genre\n",
    "data.groupby('category', as_index=False).agg({'rating':'mean','installs':'sum','rating_count':'sum'})\\\n",
    "                                        .sort_values(by=['installs','rating','rating_count'],ascending = False)\\\n",
    "                                        .head()"
   ]
  },
  {
   "cell_type": "code",
   "execution_count": 28,
   "metadata": {},
   "outputs": [
    {
     "data": {
      "text/plain": [
       "Text(0.5, 0.98, 'Most Popular Apps by Content Rating')"
      ]
     },
     "execution_count": 28,
     "metadata": {},
     "output_type": "execute_result"
    },
    {
     "data": {
      "image/png": "[encoded data removed]",
      "text/plain": [
       "<Figure size 720x360 with 1 Axes>"
      ]
     },
     "metadata": {
      "needs_background": "light"
     },
     "output_type": "display_data"
    }
   ],
   "source": [
    "# By content rating\n",
    "x = sns.catplot(y='installs', data=data, x='content_rating',\\\n",
    "            aspect=2, kind='bar', order=['Everyone','Everyone 10+','Teen','Mature 17+','Adults only 18+','Unrated'])\n",
    "x.fig.suptitle(\"Most Popular Apps by Content Rating\")"
   ]
  },
  {
   "cell_type": "markdown",
   "metadata": {},
   "source": [
    "### Apple App store"
   ]
  },
  {
   "cell_type": "markdown",
   "metadata": {},
   "source": [
    "Due to lack of installs data, we use <b> rating_count and rating only </b> to determine popularity for the Apple Store data. It is important to note, however, that rating_count can be limited as it is affected by so many other factors. For example, some apps might encourage their users to rate their apps more than others."
   ]
  },
  {
   "cell_type": "markdown",
   "metadata": {},
   "source": [
    "#### Most popular apps:\n"
   ]
  },
  {
   "cell_type": "code",
   "execution_count": 29,
   "metadata": {},
   "outputs": [
    {
     "data": {
      "text/html": [
       "<div>\n",
       "<style scoped>\n",
       "    .dataframe tbody tr th:only-of-type {\n",
       "        vertical-align: middle;\n",
       "    }\n",
       "\n",
       "    .dataframe tbody tr th {\n",
       "        vertical-align: top;\n",
       "    }\n",
       "\n",
       "    .dataframe thead th {\n",
       "        text-align: right;\n",
       "    }\n",
       "</style>\n",
       "<table border=\"1\" class=\"dataframe\">\n",
       "  <thead>\n",
       "    <tr style=\"text-align: right;\">\n",
       "      <th></th>\n",
       "      <th>app_name</th>\n",
       "      <th>developer_id</th>\n",
       "      <th>category</th>\n",
       "      <th>rating</th>\n",
       "      <th>rating_count</th>\n",
       "    </tr>\n",
       "  </thead>\n",
       "  <tbody>\n",
       "    <tr>\n",
       "      <th>166472</th>\n",
       "      <td>YouTube: Watch, Listen, Stream</td>\n",
       "      <td>Google LLC</td>\n",
       "      <td>Photo &amp; Video</td>\n",
       "      <td>4.5</td>\n",
       "      <td>12036084.0</td>\n",
       "    </tr>\n",
       "    <tr>\n",
       "      <th>142372</th>\n",
       "      <td>Spotify: Music and Podcasts</td>\n",
       "      <td>Spotify Ltd.</td>\n",
       "      <td>Music</td>\n",
       "      <td>5.0</td>\n",
       "      <td>11687033.0</td>\n",
       "    </tr>\n",
       "    <tr>\n",
       "      <th>159278</th>\n",
       "      <td>Venmo</td>\n",
       "      <td>Venmo</td>\n",
       "      <td>Finance</td>\n",
       "      <td>5.0</td>\n",
       "      <td>7747894.0</td>\n",
       "    </tr>\n",
       "    <tr>\n",
       "      <th>45598</th>\n",
       "      <td>DoorDash - Food Delivery</td>\n",
       "      <td>DoorDash, Inc.</td>\n",
       "      <td>Food &amp; Drink</td>\n",
       "      <td>5.0</td>\n",
       "      <td>5541964.0</td>\n",
       "    </tr>\n",
       "    <tr>\n",
       "      <th>60601</th>\n",
       "      <td>Fortnite</td>\n",
       "      <td>Epic Games</td>\n",
       "      <td>Games</td>\n",
       "      <td>4.5</td>\n",
       "      <td>5117253.0</td>\n",
       "    </tr>\n",
       "  </tbody>\n",
       "</table>\n",
       "</div>"
      ],
      "text/plain": [
       "                              app_name    developer_id       category  rating  \\\n",
       "166472  YouTube: Watch, Listen, Stream      Google LLC  Photo & Video     4.5   \n",
       "142372     Spotify: Music and Podcasts    Spotify Ltd.          Music     5.0   \n",
       "159278                           Venmo           Venmo        Finance     5.0   \n",
       "45598         DoorDash - Food Delivery  DoorDash, Inc.   Food & Drink     5.0   \n",
       "60601                         Fortnite      Epic Games          Games     4.5   \n",
       "\n",
       "        rating_count  \n",
       "166472    12036084.0  \n",
       "142372    11687033.0  \n",
       "159278     7747894.0  \n",
       "45598      5541964.0  \n",
       "60601      5117253.0  "
      ]
     },
     "execution_count": 29,
     "metadata": {},
     "output_type": "execute_result"
    }
   ],
   "source": [
    "apple.groupby(['app_name','developer_id','category'], as_index = False)['rating','rating_count']\\\n",
    "              .agg('mean')\\\n",
    "              .sort_values(by=['rating_count','rating'] , ascending=False)\\\n",
    "              .head()"
   ]
  },
  {
   "cell_type": "markdown",
   "metadata": {},
   "source": [
    "#### Most popular category of apps:"
   ]
  },
  {
   "cell_type": "code",
   "execution_count": 30,
   "metadata": {
    "scrolled": true
   },
   "outputs": [
    {
     "data": {
      "text/html": [
       "<div>\n",
       "<style scoped>\n",
       "    .dataframe tbody tr th:only-of-type {\n",
       "        vertical-align: middle;\n",
       "    }\n",
       "\n",
       "    .dataframe tbody tr th {\n",
       "        vertical-align: top;\n",
       "    }\n",
       "\n",
       "    .dataframe thead th {\n",
       "        text-align: right;\n",
       "    }\n",
       "</style>\n",
       "<table border=\"1\" class=\"dataframe\">\n",
       "  <thead>\n",
       "    <tr style=\"text-align: right;\">\n",
       "      <th></th>\n",
       "      <th>category</th>\n",
       "      <th>rating</th>\n",
       "      <th>rating_count</th>\n",
       "    </tr>\n",
       "  </thead>\n",
       "  <tbody>\n",
       "    <tr>\n",
       "      <th>6</th>\n",
       "      <td>Games</td>\n",
       "      <td>3.713687</td>\n",
       "      <td>217279117.5</td>\n",
       "    </tr>\n",
       "    <tr>\n",
       "      <th>4</th>\n",
       "      <td>Finance</td>\n",
       "      <td>4.003472</td>\n",
       "      <td>47036144.0</td>\n",
       "    </tr>\n",
       "    <tr>\n",
       "      <th>3</th>\n",
       "      <td>Entertainment</td>\n",
       "      <td>3.411957</td>\n",
       "      <td>34883394.0</td>\n",
       "    </tr>\n",
       "    <tr>\n",
       "      <th>5</th>\n",
       "      <td>Food &amp; Drink</td>\n",
       "      <td>3.593079</td>\n",
       "      <td>29574876.0</td>\n",
       "    </tr>\n",
       "    <tr>\n",
       "      <th>11</th>\n",
       "      <td>Music</td>\n",
       "      <td>3.634351</td>\n",
       "      <td>26330453.5</td>\n",
       "    </tr>\n",
       "  </tbody>\n",
       "</table>\n",
       "</div>"
      ],
      "text/plain": [
       "         category    rating  rating_count\n",
       "6           Games  3.713687   217279117.5\n",
       "4         Finance  4.003472    47036144.0\n",
       "3   Entertainment  3.411957    34883394.0\n",
       "5    Food & Drink  3.593079    29574876.0\n",
       "11          Music  3.634351    26330453.5"
      ]
     },
     "execution_count": 30,
     "metadata": {},
     "output_type": "execute_result"
    }
   ],
   "source": [
    "#By Genre\n",
    "apple.groupby('category', as_index=False).agg({'rating':'mean','rating_count':'sum'})\\\n",
    "                                        .sort_values(by=['rating_count','rating'],ascending = False)\\\n",
    "                                        .head()"
   ]
  },
  {
   "cell_type": "code",
   "execution_count": 31,
   "metadata": {},
   "outputs": [
    {
     "data": {
      "text/plain": [
       "Text(0.5, 0.98, 'Most Popular Apps by Content Rating')"
      ]
     },
     "execution_count": 31,
     "metadata": {},
     "output_type": "execute_result"
    },
    {
     "data": {
      "image/png": "[encoded data removed]",
      "text/plain": [
       "<Figure size 720x360 with 1 Axes>"
      ]
     },
     "metadata": {
      "needs_background": "light"
     },
     "output_type": "display_data"
    }
   ],
   "source": [
    "x = sns.catplot(y='rating_count', data=apple, x='age_rating',\\\n",
    "            aspect=2, kind='bar', order=['4+','9+','12+','17+','Not yet rated'])\n",
    "x.fig.suptitle(\"Most Popular Apps by Content Rating\")"
   ]
  },
  {
   "cell_type": "markdown",
   "metadata": {},
   "source": [
    "### <div class=\"alert alert-block alert-warning\"> Based on our findings and graphs, we found that the most popular categories in both the Google Play store and the Apple App store seems to share a common theme that games, communication, and productivity apps (train app, finance apps, delivery apps) are the most popular. Further, we found that in both the Google Play store and the Apple App store that content for teenagers are the most popular content.\n",
    "</div>"
   ]
  },
  {
   "cell_type": "markdown",
   "metadata": {},
   "source": [
    "### <div class=\"alert alert-block alert-success\"> 2. When is the best time to release an app? </div>"
   ]
  },
  {
   "cell_type": "markdown",
   "metadata": {},
   "source": [
    "### Google Play store"
   ]
  },
  {
   "cell_type": "markdown",
   "metadata": {},
   "source": [
    "#### Finding the maximum amount of releases in a day:"
   ]
  },
  {
   "cell_type": "code",
   "execution_count": 32,
   "metadata": {},
   "outputs": [
    {
     "data": {
      "text/plain": [
       "released\n",
       "Nov 26, 2018    383\n",
       "Oct 29, 2018    366\n",
       "Nov 14, 2018    353\n",
       "Name: released, dtype: int64"
      ]
     },
     "execution_count": 32,
     "metadata": {},
     "output_type": "execute_result"
    }
   ],
   "source": [
    "releases = data.groupby('released')['released'].count().nlargest(5)\n",
    "data['month'] = data['released'].apply(lambda x: x.split(' ')[0])\n",
    "releases.nlargest(3)"
   ]
  },
  {
   "cell_type": "markdown",
   "metadata": {},
   "source": [
    "#### For each category when is the best time to release the app (based on the number of installs):\n"
   ]
  },
  {
   "cell_type": "code",
   "execution_count": 33,
   "metadata": {},
   "outputs": [
    {
     "data": {
      "text/html": [
       "<div>\n",
       "<style scoped>\n",
       "    .dataframe tbody tr th:only-of-type {\n",
       "        vertical-align: middle;\n",
       "    }\n",
       "\n",
       "    .dataframe tbody tr th {\n",
       "        vertical-align: top;\n",
       "    }\n",
       "\n",
       "    .dataframe thead th {\n",
       "        text-align: right;\n",
       "    }\n",
       "</style>\n",
       "<table border=\"1\" class=\"dataframe\">\n",
       "  <thead>\n",
       "    <tr style=\"text-align: right;\">\n",
       "      <th></th>\n",
       "      <th>installs</th>\n",
       "    </tr>\n",
       "    <tr>\n",
       "      <th>month</th>\n",
       "      <th></th>\n",
       "    </tr>\n",
       "  </thead>\n",
       "  <tbody>\n",
       "    <tr>\n",
       "      <th>May</th>\n",
       "      <td>54749371629</td>\n",
       "    </tr>\n",
       "    <tr>\n",
       "      <th>Oct</th>\n",
       "      <td>53054621142</td>\n",
       "    </tr>\n",
       "    <tr>\n",
       "      <th>Jun</th>\n",
       "      <td>46223941203</td>\n",
       "    </tr>\n",
       "  </tbody>\n",
       "</table>\n",
       "</div>"
      ],
      "text/plain": [
       "          installs\n",
       "month             \n",
       "May    54749371629\n",
       "Oct    53054621142\n",
       "Jun    46223941203"
      ]
     },
     "execution_count": 33,
     "metadata": {},
     "output_type": "execute_result"
    }
   ],
   "source": [
    "best_month = data.groupby('month').agg({'installs':'sum'})\n",
    "data.groupby('month').agg({'installs':'sum'}).sort_values(by='installs',ascending = False).head(3)"
   ]
  },
  {
   "cell_type": "code",
   "execution_count": 34,
   "metadata": {},
   "outputs": [
    {
     "data": {
      "text/plain": [
       "Text(0.5, 0.98, 'Number of Installs vs Release Month')"
      ]
     },
     "execution_count": 34,
     "metadata": {},
     "output_type": "execute_result"
    },
    {
     "data": {
      "image/png": "[encoded data removed]",
      "text/plain": [
       "<Figure size 720x360 with 1 Axes>"
      ]
     },
     "metadata": {
      "needs_background": "light"
     },
     "output_type": "display_data"
    }
   ],
   "source": [
    "x = sns.catplot(y='installs', data=data, x='month',kind='bar', aspect=2,\\\n",
    "                order=['Jan', 'Feb', 'Mar', 'Apr', 'May', 'Jun', 'Jul', 'Aug', 'Sep', 'Oct', 'Nov', 'Dec'])\n",
    "x.fig.suptitle('Number of Installs vs Release Month')"
   ]
  },
  {
   "cell_type": "markdown",
   "metadata": {},
   "source": [
    "### Apple App store"
   ]
  },
  {
   "cell_type": "code",
   "execution_count": 35,
   "metadata": {},
   "outputs": [
    {
     "data": {
      "text/plain": [
       "released\n",
       "2008-07-11T07:00:00Z    81\n",
       "2019-09-19T07:00:00Z    67\n",
       "2013-12-20T08:00:00Z    55\n",
       "Name: released, dtype: int64"
      ]
     },
     "execution_count": 35,
     "metadata": {},
     "output_type": "execute_result"
    }
   ],
   "source": [
    "releases = apple.groupby('released')['released'].count().nlargest(5)\n",
    "apple['month'] = apple['released'].apply(lambda x: x.split('-')[1])\n",
    "releases.head(3)"
   ]
  },
  {
   "cell_type": "code",
   "execution_count": 36,
   "metadata": {},
   "outputs": [
    {
     "data": {
      "text/html": [
       "<div>\n",
       "<style scoped>\n",
       "    .dataframe tbody tr th:only-of-type {\n",
       "        vertical-align: middle;\n",
       "    }\n",
       "\n",
       "    .dataframe tbody tr th {\n",
       "        vertical-align: top;\n",
       "    }\n",
       "\n",
       "    .dataframe thead th {\n",
       "        text-align: right;\n",
       "    }\n",
       "</style>\n",
       "<table border=\"1\" class=\"dataframe\">\n",
       "  <thead>\n",
       "    <tr style=\"text-align: right;\">\n",
       "      <th></th>\n",
       "      <th>rating_count</th>\n",
       "    </tr>\n",
       "    <tr>\n",
       "      <th>month</th>\n",
       "      <th></th>\n",
       "    </tr>\n",
       "  </thead>\n",
       "  <tbody>\n",
       "    <tr>\n",
       "      <th>07</th>\n",
       "      <td>55922666.5</td>\n",
       "    </tr>\n",
       "    <tr>\n",
       "      <th>09</th>\n",
       "      <td>47960566.0</td>\n",
       "    </tr>\n",
       "    <tr>\n",
       "      <th>12</th>\n",
       "      <td>46575903.5</td>\n",
       "    </tr>\n",
       "  </tbody>\n",
       "</table>\n",
       "</div>"
      ],
      "text/plain": [
       "       rating_count\n",
       "month              \n",
       "07       55922666.5\n",
       "09       47960566.0\n",
       "12       46575903.5"
      ]
     },
     "execution_count": 36,
     "metadata": {},
     "output_type": "execute_result"
    }
   ],
   "source": [
    "# For each category when is the best time to release the app. Based on the number of installs.\n",
    "apple_month = apple.groupby('month').agg({'rating_count':'sum'})\n",
    "apple.groupby('month').agg({'rating_count':'sum'}).sort_values(by='rating_count',ascending = False).head(3)"
   ]
  },
  {
   "cell_type": "code",
   "execution_count": 37,
   "metadata": {},
   "outputs": [
    {
     "data": {
      "text/plain": [
       "Text(0.5, 0.98, 'Number of Installs vs Release Month')"
      ]
     },
     "execution_count": 37,
     "metadata": {},
     "output_type": "execute_result"
    },
    {
     "data": {
      "image/png": "[encoded data removed]",
      "text/plain": [
       "<Figure size 720x360 with 1 Axes>"
      ]
     },
     "metadata": {
      "needs_background": "light"
     },
     "output_type": "display_data"
    }
   ],
   "source": [
    "x = sns.catplot(y='rating_count', data=apple, x='month',kind='bar', aspect=2)\n",
    "x.fig.suptitle('Number of Installs vs Release Month')"
   ]
  },
  {
   "cell_type": "markdown",
   "metadata": {},
   "source": [
    "### <div class=\"alert alert-block alert-warning\"> For the Google Play store, we found that <b> May </b> seems to be the best month to release an app because apps released in May has the most installs. For the Apple App store, we found that <b> July </b> seems to be the best month to release an app. While these two graphs differ, we noticed that there seems to be an overall trend that summer (May-July) to be the best time to release an app.\n",
    "</div>"
   ]
  },
  {
   "cell_type": "markdown",
   "metadata": {},
   "source": [
    "### <div class=\"alert alert-block alert-success\"> 3. What is the best price to charge for an app? </div>"
   ]
  },
  {
   "cell_type": "markdown",
   "metadata": {},
   "source": [
    "### Google Play store"
   ]
  },
  {
   "cell_type": "markdown",
   "metadata": {},
   "source": [
    "#### Comparing free apps vs. paid apps:"
   ]
  },
  {
   "cell_type": "code",
   "execution_count": 38,
   "metadata": {},
   "outputs": [
    {
     "data": {
      "text/plain": [
       "<seaborn.axisgrid.FacetGrid at 0x7ff97e994580>"
      ]
     },
     "execution_count": 38,
     "metadata": {},
     "output_type": "execute_result"
    },
    {
     "data": {
      "image/png": "[encoded data removed]",
      "text/plain": [
       "<Figure size 1156.12x360 with 1 Axes>"
      ]
     },
     "metadata": {
      "needs_background": "light"
     },
     "output_type": "display_data"
    }
   ],
   "source": [
    "sns.catplot(y='installs', data=data, x='free', hue='ad_supported',\\\n",
    "            aspect=3, kind='box', showfliers = False)"
   ]
  },
  {
   "cell_type": "markdown",
   "metadata": {},
   "source": [
    "#### App prices with the largest amount of revenue:"
   ]
  },
  {
   "cell_type": "code",
   "execution_count": 39,
   "metadata": {},
   "outputs": [
    {
     "data": {
      "text/plain": [
       "price_usd\n",
       "4.99    3.351261e+08\n",
       "6.99    2.994027e+08\n",
       "2.99    2.115238e+08\n",
       "0.99    1.840346e+08\n",
       "3.99    1.745789e+08\n",
       "Name: revenue, dtype: float64"
      ]
     },
     "execution_count": 39,
     "metadata": {},
     "output_type": "execute_result"
    }
   ],
   "source": [
    "data.groupby('price_usd')['revenue'].sum().nlargest()"
   ]
  },
  {
   "cell_type": "code",
   "execution_count": 40,
   "metadata": {
    "scrolled": false
   },
   "outputs": [
    {
     "data": {
      "text/plain": [
       "Text(0.5, 0.98, 'Revenue vs Price Charged For App')"
      ]
     },
     "execution_count": 40,
     "metadata": {},
     "output_type": "execute_result"
    },
    {
     "data": {
      "image/png": "[encoded data removed]",
      "text/plain": [
       "<Figure size 360x360 with 1 Axes>"
      ]
     },
     "metadata": {
      "needs_background": "light"
     },
     "output_type": "display_data"
    }
   ],
   "source": [
    "best_price= data.groupby('price_usd', as_index=False).agg({'revenue':'sum'})\\\n",
    "                .sort_values(by='revenue',ascending = False).head(10)\n",
    "\n",
    "x=sns.catplot(x='price_usd', y='revenue', data=best_price, kind='bar')\n",
    "x.fig.suptitle('Revenue vs Price Charged For App')"
   ]
  },
  {
   "cell_type": "markdown",
   "metadata": {},
   "source": [
    "### Apple App store"
   ]
  },
  {
   "cell_type": "markdown",
   "metadata": {},
   "source": [
    "#### Comparing free apps vs. paid apps:"
   ]
  },
  {
   "cell_type": "markdown",
   "metadata": {},
   "source": [
    "Since we don't have 'number of installs' available, we determined to just analyze how many free and paid apps there are in the Apple app store."
   ]
  },
  {
   "cell_type": "code",
   "execution_count": 41,
   "metadata": {
    "scrolled": false
   },
   "outputs": [
    {
     "name": "stdout",
     "output_type": "stream",
     "text": [
      "The amount of free apps in the Apple Playstore is 149623\n",
      "The amount of paid apps in the Apple Playstore is 22467\n"
     ]
    }
   ],
   "source": [
    "print(\"The amount of free apps in the Apple Playstore is \" + str(len(apple[apple.free == 1])))\n",
    "print(\"The amount of paid apps in the Apple Playstore is \" + str(len(apple[apple.free == 0])))"
   ]
  },
  {
   "cell_type": "markdown",
   "metadata": {},
   "source": [
    "#### App prices with the largest amount of revenue:"
   ]
  },
  {
   "cell_type": "code",
   "execution_count": 42,
   "metadata": {},
   "outputs": [
    {
     "data": {
      "text/plain": [
       "price_usd\n",
       "6.99    8420629.320\n",
       "4.99    7919102.555\n",
       "2.99    7452758.885\n",
       "1.99    7116202.190\n",
       "0.99    5055880.995\n",
       "Name: revenue, dtype: float64"
      ]
     },
     "execution_count": 42,
     "metadata": {},
     "output_type": "execute_result"
    }
   ],
   "source": [
    "apple.groupby('price_usd')['revenue'].sum().nlargest()"
   ]
  },
  {
   "cell_type": "code",
   "execution_count": 43,
   "metadata": {},
   "outputs": [
    {
     "data": {
      "text/plain": [
       "Text(0.5, 0.98, 'Revenue vs Price Charged For App')"
      ]
     },
     "execution_count": 43,
     "metadata": {},
     "output_type": "execute_result"
    },
    {
     "data": {
      "image/png": "[encoded data removed]",
      "text/plain": [
       "<Figure size 360x360 with 1 Axes>"
      ]
     },
     "metadata": {
      "needs_background": "light"
     },
     "output_type": "display_data"
    }
   ],
   "source": [
    "apple_price= apple.groupby('price_usd', as_index=False).agg({'revenue':'sum'}).sort_values(by='revenue',ascending = False).head(10)\n",
    "x=sns.catplot(x='price_usd', y='revenue', data=apple_price, kind='bar')\n",
    "x.fig.suptitle('Revenue vs Price Charged For App')"
   ]
  },
  {
   "cell_type": "markdown",
   "metadata": {},
   "source": [
    "### <div class=\"alert alert-block alert-warning\"> Based on our findings, we found that for both the Google Play store and the Apple App store, the best prices to charge is 4,99 and 6,99. For the Google Play store, of those that did charge for the app, apps charging 4,99 had the most revenue of over 300M overall. So while price is a factor, the biggest revenue makers are charging 4,99. So while price is a factor, the biggest revenue makers are charging 4,99 or 6,99. This can definitely guide app developers and business professionals everywhere. </div>"
   ]
  },
  {
   "cell_type": "markdown",
   "metadata": {},
   "source": [
    "### <div class=\"alert alert-block alert-success\"> Other Findings... </div>"
   ]
  },
  {
   "cell_type": "markdown",
   "metadata": {},
   "source": [
    "#### Most Popular Developers:"
   ]
  },
  {
   "cell_type": "markdown",
   "metadata": {},
   "source": [
    "### Google Play store"
   ]
  },
  {
   "cell_type": "code",
   "execution_count": 44,
   "metadata": {
    "scrolled": true
   },
   "outputs": [
    {
     "data": {
      "text/html": [
       "<div>\n",
       "<style scoped>\n",
       "    .dataframe tbody tr th:only-of-type {\n",
       "        vertical-align: middle;\n",
       "    }\n",
       "\n",
       "    .dataframe tbody tr th {\n",
       "        vertical-align: top;\n",
       "    }\n",
       "\n",
       "    .dataframe thead th {\n",
       "        text-align: right;\n",
       "    }\n",
       "</style>\n",
       "<table border=\"1\" class=\"dataframe\">\n",
       "  <thead>\n",
       "    <tr style=\"text-align: right;\">\n",
       "      <th></th>\n",
       "      <th>rating</th>\n",
       "      <th>installs</th>\n",
       "      <th>rating_count</th>\n",
       "    </tr>\n",
       "    <tr>\n",
       "      <th>developer_id</th>\n",
       "      <th></th>\n",
       "      <th></th>\n",
       "      <th></th>\n",
       "    </tr>\n",
       "  </thead>\n",
       "  <tbody>\n",
       "    <tr>\n",
       "      <th>WhatsApp Inc.</th>\n",
       "      <td>4.2</td>\n",
       "      <td>1.977555e+09</td>\n",
       "      <td>122668051.0</td>\n",
       "    </tr>\n",
       "    <tr>\n",
       "      <th>Skype</th>\n",
       "      <td>4.3</td>\n",
       "      <td>1.605309e+09</td>\n",
       "      <td>11177590.0</td>\n",
       "    </tr>\n",
       "    <tr>\n",
       "      <th>Snap Inc</th>\n",
       "      <td>4.3</td>\n",
       "      <td>1.278455e+09</td>\n",
       "      <td>22934461.0</td>\n",
       "    </tr>\n",
       "    <tr>\n",
       "      <th>Flipboard</th>\n",
       "      <td>4.1</td>\n",
       "      <td>9.200359e+08</td>\n",
       "      <td>1926635.0</td>\n",
       "    </tr>\n",
       "    <tr>\n",
       "      <th>Viber Media S.à r.l.</th>\n",
       "      <td>4.3</td>\n",
       "      <td>9.079056e+08</td>\n",
       "      <td>13883893.0</td>\n",
       "    </tr>\n",
       "  </tbody>\n",
       "</table>\n",
       "</div>"
      ],
      "text/plain": [
       "                      rating      installs  rating_count\n",
       "developer_id                                            \n",
       "WhatsApp Inc.            4.2  1.977555e+09   122668051.0\n",
       "Skype                    4.3  1.605309e+09    11177590.0\n",
       "Snap Inc                 4.3  1.278455e+09    22934461.0\n",
       "Flipboard                4.1  9.200359e+08     1926635.0\n",
       "Viber Media S.à r.l.     4.3  9.079056e+08    13883893.0"
      ]
     },
     "execution_count": 44,
     "metadata": {},
     "output_type": "execute_result"
    }
   ],
   "source": [
    "data.groupby('developer_id').agg({'rating':'mean','installs':'mean','rating_count':'sum'})\\\n",
    "                            .sort_values(by=['installs','rating','rating_count'], ascending=False)\\\n",
    "                            .head()"
   ]
  },
  {
   "cell_type": "markdown",
   "metadata": {},
   "source": [
    "### Apple App store"
   ]
  },
  {
   "cell_type": "code",
   "execution_count": 45,
   "metadata": {},
   "outputs": [
    {
     "data": {
      "text/html": [
       "<div>\n",
       "<style scoped>\n",
       "    .dataframe tbody tr th:only-of-type {\n",
       "        vertical-align: middle;\n",
       "    }\n",
       "\n",
       "    .dataframe tbody tr th {\n",
       "        vertical-align: top;\n",
       "    }\n",
       "\n",
       "    .dataframe thead th {\n",
       "        text-align: right;\n",
       "    }\n",
       "</style>\n",
       "<table border=\"1\" class=\"dataframe\">\n",
       "  <thead>\n",
       "    <tr style=\"text-align: right;\">\n",
       "      <th></th>\n",
       "      <th>rating</th>\n",
       "      <th>rating_count</th>\n",
       "    </tr>\n",
       "    <tr>\n",
       "      <th>developer_id</th>\n",
       "      <th></th>\n",
       "      <th></th>\n",
       "    </tr>\n",
       "  </thead>\n",
       "  <tbody>\n",
       "    <tr>\n",
       "      <th>Google LLC</th>\n",
       "      <td>4.011111</td>\n",
       "      <td>18020633.0</td>\n",
       "    </tr>\n",
       "    <tr>\n",
       "      <th>Spotify Ltd.</th>\n",
       "      <td>4.333333</td>\n",
       "      <td>11695833.0</td>\n",
       "    </tr>\n",
       "    <tr>\n",
       "      <th>Voodoo</th>\n",
       "      <td>4.467742</td>\n",
       "      <td>9798972.5</td>\n",
       "    </tr>\n",
       "    <tr>\n",
       "      <th>Venmo</th>\n",
       "      <td>5.000000</td>\n",
       "      <td>7747894.0</td>\n",
       "    </tr>\n",
       "    <tr>\n",
       "      <th>DoorDash, Inc.</th>\n",
       "      <td>4.750000</td>\n",
       "      <td>5584217.0</td>\n",
       "    </tr>\n",
       "  </tbody>\n",
       "</table>\n",
       "</div>"
      ],
      "text/plain": [
       "                  rating  rating_count\n",
       "developer_id                          \n",
       "Google LLC      4.011111    18020633.0\n",
       "Spotify Ltd.    4.333333    11695833.0\n",
       "Voodoo          4.467742     9798972.5\n",
       "Venmo           5.000000     7747894.0\n",
       "DoorDash, Inc.  4.750000     5584217.0"
      ]
     },
     "execution_count": 45,
     "metadata": {},
     "output_type": "execute_result"
    }
   ],
   "source": [
    "apple.groupby('developer_id').agg({'rating':'mean','rating_count':'sum'})\\\n",
    "                            .sort_values(by=['rating_count','rating'] , ascending=False)\\\n",
    "                            .head()"
   ]
  },
  {
   "cell_type": "markdown",
   "metadata": {},
   "source": [
    "## <div class=\"alert alert-block alert-info\">Graphs<div>"
   ]
  },
  {
   "cell_type": "markdown",
   "metadata": {},
   "source": [
    "### Google Play store"
   ]
  },
  {
   "cell_type": "markdown",
   "metadata": {},
   "source": [
    "#### Rating distribution:"
   ]
  },
  {
   "cell_type": "code",
   "execution_count": 46,
   "metadata": {},
   "outputs": [],
   "source": [
    "data1 = data.copy()\n",
    "data1['discretized_rating_EW'] = pd.cut(data1.rating ,5)"
   ]
  },
  {
   "cell_type": "code",
   "execution_count": 47,
   "metadata": {},
   "outputs": [
    {
     "data": {
      "text/plain": [
       "<matplotlib.axes._subplots.AxesSubplot at 0x7ff971c121c0>"
      ]
     },
     "execution_count": 47,
     "metadata": {},
     "output_type": "execute_result"
    },
    {
     "data": {
      "image/png": "[encoded data removed]",
      "text/plain": [
       "<Figure size 432x288 with 1 Axes>"
      ]
     },
     "metadata": {
      "needs_background": "light"
     },
     "output_type": "display_data"
    }
   ],
   "source": [
    "sns.countplot(x='discretized_rating_EW', data=data1)"
   ]
  },
  {
   "cell_type": "code",
   "execution_count": 48,
   "metadata": {},
   "outputs": [
    {
     "data": {
      "text/plain": [
       "<matplotlib.axes._subplots.AxesSubplot at 0x7ff971cb8100>"
      ]
     },
     "execution_count": 48,
     "metadata": {},
     "output_type": "execute_result"
    },
    {
     "data": {
      "image/png": "[encoded data removed]",
      "text/plain": [
       "<Figure size 432x288 with 1 Axes>"
      ]
     },
     "metadata": {
      "needs_background": "light"
     },
     "output_type": "display_data"
    }
   ],
   "source": [
    "# Distribution of ratings \n",
    "sns.distplot(data.rating, bins=4)"
   ]
  },
  {
   "cell_type": "markdown",
   "metadata": {},
   "source": [
    "#### Evaluating 'Editor's Choice'"
   ]
  },
  {
   "cell_type": "code",
   "execution_count": 49,
   "metadata": {},
   "outputs": [
    {
     "data": {
      "text/plain": [
       "<matplotlib.axes._subplots.AxesSubplot at 0x7ff9897529a0>"
      ]
     },
     "execution_count": 49,
     "metadata": {},
     "output_type": "execute_result"
    },
    {
     "data": {
      "text/plain": [
       "<seaborn.axisgrid.FacetGrid at 0x7ff972ebfbe0>"
      ]
     },
     "execution_count": 49,
     "metadata": {},
     "output_type": "execute_result"
    },
    {
     "data": {
      "image/png": "[encoded data removed]",
      "text/plain": [
       "<Figure size 432x288 with 1 Axes>"
      ]
     },
     "metadata": {
      "needs_background": "light"
     },
     "output_type": "display_data"
    },
    {
     "data": {
      "image/png": "[encoded data removed]",
      "text/plain": [
       "<Figure size 720x360 with 1 Axes>"
      ]
     },
     "metadata": {
      "needs_background": "light"
     },
     "output_type": "display_data"
    }
   ],
   "source": [
    "sns.distplot(data.rating, bins=4)# Editors Choice vs. Installs\n",
    "sns.catplot(y='installs', data=data, x='editors_choice',\\\n",
    "            aspect=2, kind='box', showfliers = False)"
   ]
  },
  {
   "cell_type": "markdown",
   "metadata": {},
   "source": [
    "### Decision Tree"
   ]
  },
  {
   "cell_type": "markdown",
   "metadata": {},
   "source": [
    "### Google Play store"
   ]
  },
  {
   "cell_type": "code",
   "execution_count": 50,
   "metadata": {},
   "outputs": [],
   "source": [
    "tree_installs = data.copy()"
   ]
  },
  {
   "cell_type": "code",
   "execution_count": 51,
   "metadata": {},
   "outputs": [
    {
     "name": "stdout",
     "output_type": "stream",
     "text": [
      "app_name 418270\n",
      "category 48\n",
      "rating 41\n",
      "rating_count 30848\n",
      "installs 165394\n",
      "free 2\n",
      "price 584\n",
      "currency 15\n",
      "size 1377\n",
      "developer_id 94928\n",
      "released 3827\n",
      "last_updated 416175\n",
      "content_rating 6\n",
      "ad_supported 2\n",
      "in_app_purchases 2\n",
      "editors_choice 2\n",
      "value 15\n",
      "price_usd 584\n",
      "revenue 16928\n",
      "month 12\n"
     ]
    }
   ],
   "source": [
    "# Checking for unique variables\n",
    "for c in tree_installs.columns:\n",
    "    print(c + ' ' + str(tree_installs[c].nunique()) )"
   ]
  },
  {
   "cell_type": "code",
   "execution_count": 52,
   "metadata": {},
   "outputs": [],
   "source": [
    "tree_installs = tree_installs.drop(columns = 'app_name')\n",
    "tree_installs = tree_installs.drop(columns = 'category')\n",
    "tree_installs = tree_installs.drop(columns = 'rating')\n",
    "tree_installs = tree_installs.drop(columns = 'rating_count')\n",
    "tree_installs = tree_installs.drop(columns = 'size')\n",
    "tree_installs = tree_installs.drop(columns = 'developer_id')\n",
    "tree_installs = tree_installs.drop(columns = 'released')\n",
    "tree_installs = tree_installs.drop(columns = 'last_updated')\n",
    "tree_installs = tree_installs.drop(columns = 'value')\n",
    "tree_installs = tree_installs.drop(columns = 'price_usd')\n",
    "tree_installs = tree_installs.drop(columns = 'revenue')\n",
    "tree_installs = tree_installs.drop(columns = 'currency')\n",
    "tree_installs = tree_installs.drop(columns = 'price')\n",
    "tree_installs = tree_installs.drop(columns = 'month')"
   ]
  },
  {
   "cell_type": "code",
   "execution_count": 53,
   "metadata": {},
   "outputs": [],
   "source": [
    "# Make dummies \n",
    "tree_installs = pd.get_dummies(tree_installs, columns=['content_rating'],\n",
    "        dummy_na=True)"
   ]
  },
  {
   "cell_type": "code",
   "execution_count": 54,
   "metadata": {},
   "outputs": [
    {
     "data": {
      "text/plain": [
       "1149439.7573218257"
      ]
     },
     "execution_count": 54,
     "metadata": {},
     "output_type": "execute_result"
    }
   ],
   "source": [
    "# Finding the mean value of installs\n",
    "tree_installs.installs.mean()"
   ]
  },
  {
   "cell_type": "code",
   "execution_count": 55,
   "metadata": {},
   "outputs": [],
   "source": [
    "# Make binary variable (1 for installs above mean, 0 for installs below mean)\n",
    "tree_installs['install_abovemean'] = tree_installs.installs.apply(lambda x: 1 if x > 1149440 else 0)\n",
    "tree_installs = tree_installs.drop(columns = 'installs')"
   ]
  },
  {
   "cell_type": "markdown",
   "metadata": {},
   "source": [
    "Forming X and Y variables"
   ]
  },
  {
   "cell_type": "code",
   "execution_count": 56,
   "metadata": {},
   "outputs": [],
   "source": [
    "X = tree_installs.drop(columns = 'install_abovemean')"
   ]
  },
  {
   "cell_type": "code",
   "execution_count": 57,
   "metadata": {},
   "outputs": [],
   "source": [
    "Y = tree_installs.install_abovemean"
   ]
  },
  {
   "cell_type": "code",
   "execution_count": 58,
   "metadata": {},
   "outputs": [],
   "source": [
    "dt = tree.DecisionTreeClassifier(max_depth=2)"
   ]
  },
  {
   "cell_type": "code",
   "execution_count": 59,
   "metadata": {},
   "outputs": [
    {
     "data": {
      "text/plain": [
       "DecisionTreeClassifier(max_depth=2)"
      ]
     },
     "execution_count": 59,
     "metadata": {},
     "output_type": "execute_result"
    }
   ],
   "source": [
    "dt.fit(X,Y)"
   ]
  },
  {
   "cell_type": "code",
   "execution_count": 60,
   "metadata": {
    "scrolled": true
   },
   "outputs": [
    {
     "data": {
      "image/png": "[encoded data removed]",
      "text/plain": [
       "<IPython.core.display.Image object>"
      ]
     },
     "execution_count": 60,
     "metadata": {},
     "output_type": "execute_result"
    }
   ],
   "source": [
    "# This code will visualize a decision tree dt, trained with the attributes in X and the class labels in Y\n",
    "dt_feature_names = list(X.columns)\n",
    "dt_target_names = [str(s) for s in Y.unique()]\n",
    "tree.export_graphviz(dt, out_file='tree.dot', \n",
    "    feature_names=dt_feature_names, class_names=dt_target_names,\n",
    "    filled=True)  \n",
    "graph = pydotplus.graph_from_dot_file('tree.dot')\n",
    "Image(graph.create_png())"
   ]
  },
  {
   "cell_type": "markdown",
   "metadata": {},
   "source": [
    "## <div class=\"alert alert-block alert-info\">Conclusion<div>"
   ]
  },
  {
   "cell_type": "markdown",
   "metadata": {},
   "source": [
    "### We wanted to analyze this data in the hopes that we could inform developers, business professionals and aspiring entrepreneurs on how and when to release new apps in ways that would help achieve their goals. Some of these goals include creating apps that are popular and profitable. We believe our findings will help achieve these goals. The three most important findings are:\n",
    "1. We found that the most popular apps were gaming, communication, and productivty apps which was no surprise as we are now living in the world of social media.\n",
    "2. Secondly, we found that of the apps that were not free, those priced at 4.99 and 6.99 made the most revenue.\n",
    "3. Lastly, we found that overall, the most installed apps were those released around summer (May-July)."
   ]
  }
 ],
 "metadata": {
  "kernelspec": {
   "display_name": "Python 3",
   "language": "python",
   "name": "python3"
  },
  "language_info": {
   "codemirror_mode": {
    "name": "ipython",
    "version": 3
   },
   "file_extension": ".py",
   "mimetype": "text/x-python",
   "name": "python",
   "nbconvert_exporter": "python",
   "pygments_lexer": "ipython3",
   "version": "3.8.5"
  }
 },
 "nbformat": 4,
 "nbformat_minor": 4
}
